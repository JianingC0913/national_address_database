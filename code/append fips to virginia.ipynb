{
 "cells": [
  {
   "cell_type": "code",
   "execution_count": 1,
   "id": "42e1dcba",
   "metadata": {},
   "outputs": [],
   "source": [
    "import pandas as pd\n",
    "import requests\n",
    "import json\n",
    "from tqdm import tqdm\n",
    "import time\n",
    "import os\n",
    "import traceback\n",
    "import geopandas as gpd\n",
    "from shapely.geometry import Point"
   ]
  },
  {
   "cell_type": "code",
   "execution_count": 2,
   "id": "7ec001b3",
   "metadata": {},
   "outputs": [],
   "source": [
    "state = 'va'"
   ]
  },
  {
   "cell_type": "code",
   "execution_count": 3,
   "id": "d8539dc3",
   "metadata": {},
   "outputs": [
    {
     "data": {
      "text/plain": [
       "1585"
      ]
     },
     "execution_count": 3,
     "metadata": {},
     "output_type": "execute_result"
    }
   ],
   "source": [
    "with open('../data/state_county.json', 'r') as f:\n",
    "    scj = json.load(f)\n",
    "len(scj)"
   ]
  },
  {
   "cell_type": "code",
   "execution_count": 4,
   "id": "43a57138",
   "metadata": {},
   "outputs": [
    {
     "data": {
      "text/plain": [
       "133"
      ]
     },
     "execution_count": 4,
     "metadata": {},
     "output_type": "execute_result"
    }
   ],
   "source": [
    "state_files = [v for v in scj if v.split('_')[0] == state]\n",
    "len(state_files)"
   ]
  },
  {
   "cell_type": "code",
   "execution_count": 5,
   "id": "4b1963ff",
   "metadata": {},
   "outputs": [
    {
     "data": {
      "text/plain": [
       "['va_accomack',\n",
       " 'va_albemarle',\n",
       " 'va_alexandria_city',\n",
       " 'va_alleghany',\n",
       " 'va_amelia',\n",
       " 'va_amherst',\n",
       " 'va_appomattox',\n",
       " 'va_arlington',\n",
       " 'va_augusta',\n",
       " 'va_bath',\n",
       " 'va_bedford',\n",
       " 'va_bland',\n",
       " 'va_botetourt',\n",
       " 'va_bristol_city',\n",
       " 'va_brunswick',\n",
       " 'va_buchanan',\n",
       " 'va_buckingham',\n",
       " 'va_buena_vista_city',\n",
       " 'va_campbell',\n",
       " 'va_caroline',\n",
       " 'va_carroll',\n",
       " 'va_charles_city',\n",
       " 'va_charlotte',\n",
       " 'va_charlottesville_city',\n",
       " 'va_chesapeake_city',\n",
       " 'va_chesterfield',\n",
       " 'va_clarke',\n",
       " 'va_colonial_heights_city',\n",
       " 'va_covington_city',\n",
       " 'va_craig',\n",
       " 'va_culpeper',\n",
       " 'va_cumberland',\n",
       " 'va_danville_city',\n",
       " 'va_dickenson',\n",
       " 'va_dinwiddie',\n",
       " 'va_emporia_city',\n",
       " 'va_essex',\n",
       " 'va_fairfax',\n",
       " 'va_fairfax_city',\n",
       " 'va_falls_church_city',\n",
       " 'va_fauquier',\n",
       " 'va_floyd',\n",
       " 'va_fluvanna',\n",
       " 'va_franklin',\n",
       " 'va_franklin_city',\n",
       " 'va_frederick',\n",
       " 'va_fredericksburg_city',\n",
       " 'va_galax_city',\n",
       " 'va_giles',\n",
       " 'va_gloucester',\n",
       " 'va_goochland',\n",
       " 'va_grayson',\n",
       " 'va_greene',\n",
       " 'va_greensville',\n",
       " 'va_halifax',\n",
       " 'va_hampton_city',\n",
       " 'va_hanover',\n",
       " 'va_harrisonburg_city',\n",
       " 'va_henrico',\n",
       " 'va_henry',\n",
       " 'va_highland',\n",
       " 'va_hopewell_city',\n",
       " 'va_isle_of_wight',\n",
       " 'va_james_city',\n",
       " 'va_king_and_queen',\n",
       " 'va_king_george',\n",
       " 'va_king_william',\n",
       " 'va_lancaster',\n",
       " 'va_lee',\n",
       " 'va_lexington_city',\n",
       " 'va_loudoun',\n",
       " 'va_louisa',\n",
       " 'va_lunenburg',\n",
       " 'va_lynchburg_city',\n",
       " 'va_madison',\n",
       " 'va_manassas_city',\n",
       " 'va_manassas_park_city',\n",
       " 'va_martinsville_city',\n",
       " 'va_mathews',\n",
       " 'va_mecklenburg',\n",
       " 'va_middlesex',\n",
       " 'va_montgomery',\n",
       " 'va_nelson',\n",
       " 'va_new_kent',\n",
       " 'va_newport_news_city',\n",
       " 'va_norfolk_city',\n",
       " 'va_northampton',\n",
       " 'va_northumberland',\n",
       " 'va_norton_city',\n",
       " 'va_nottoway',\n",
       " 'va_orange',\n",
       " 'va_page',\n",
       " 'va_patrick',\n",
       " 'va_petersburg_city',\n",
       " 'va_pittsylvania',\n",
       " 'va_poquoson_city',\n",
       " 'va_portsmouth_city',\n",
       " 'va_powhatan',\n",
       " 'va_prince_edward',\n",
       " 'va_prince_george',\n",
       " 'va_prince_william',\n",
       " 'va_pulaski',\n",
       " 'va_radford_city',\n",
       " 'va_rappahannock',\n",
       " 'va_richmond',\n",
       " 'va_richmond_city',\n",
       " 'va_roanoke',\n",
       " 'va_roanoke_city',\n",
       " 'va_rockbridge',\n",
       " 'va_rockingham',\n",
       " 'va_russell',\n",
       " 'va_salem_city',\n",
       " 'va_scott',\n",
       " 'va_shenandoah',\n",
       " 'va_smyth',\n",
       " 'va_southampton',\n",
       " 'va_spotsylvania',\n",
       " 'va_stafford',\n",
       " 'va_staunton_city',\n",
       " 'va_suffolk_city',\n",
       " 'va_surry',\n",
       " 'va_sussex',\n",
       " 'va_tazewell',\n",
       " 'va_virginia_beach_city',\n",
       " 'va_warren',\n",
       " 'va_washington',\n",
       " 'va_waynesboro_city',\n",
       " 'va_westmoreland',\n",
       " 'va_williamsburg_city',\n",
       " 'va_winchester_city',\n",
       " 'va_wise',\n",
       " 'va_wythe',\n",
       " 'va_york']"
      ]
     },
     "execution_count": 5,
     "metadata": {},
     "output_type": "execute_result"
    }
   ],
   "source": [
    "state_files"
   ]
  },
  {
   "cell_type": "code",
   "execution_count": 6,
   "id": "d092784e",
   "metadata": {},
   "outputs": [
    {
     "data": {
      "text/html": [
       "<div>\n",
       "<style scoped>\n",
       "    .dataframe tbody tr th:only-of-type {\n",
       "        vertical-align: middle;\n",
       "    }\n",
       "\n",
       "    .dataframe tbody tr th {\n",
       "        vertical-align: top;\n",
       "    }\n",
       "\n",
       "    .dataframe thead th {\n",
       "        text-align: right;\n",
       "    }\n",
       "</style>\n",
       "<table border=\"1\" class=\"dataframe\">\n",
       "  <thead>\n",
       "    <tr style=\"text-align: right;\">\n",
       "      <th></th>\n",
       "      <th>fips</th>\n",
       "      <th>county</th>\n",
       "    </tr>\n",
       "  </thead>\n",
       "  <tbody>\n",
       "    <tr>\n",
       "      <th>0</th>\n",
       "      <td>01000</td>\n",
       "      <td>alabama</td>\n",
       "    </tr>\n",
       "    <tr>\n",
       "      <th>1</th>\n",
       "      <td>01001</td>\n",
       "      <td>autauga_county</td>\n",
       "    </tr>\n",
       "    <tr>\n",
       "      <th>2</th>\n",
       "      <td>01003</td>\n",
       "      <td>baldwin_county</td>\n",
       "    </tr>\n",
       "    <tr>\n",
       "      <th>3</th>\n",
       "      <td>01005</td>\n",
       "      <td>barbour_county</td>\n",
       "    </tr>\n",
       "    <tr>\n",
       "      <th>4</th>\n",
       "      <td>01007</td>\n",
       "      <td>bibb_county</td>\n",
       "    </tr>\n",
       "    <tr>\n",
       "      <th>...</th>\n",
       "      <td>...</td>\n",
       "      <td>...</td>\n",
       "    </tr>\n",
       "    <tr>\n",
       "      <th>3190</th>\n",
       "      <td>56037</td>\n",
       "      <td>sweetwater_county</td>\n",
       "    </tr>\n",
       "    <tr>\n",
       "      <th>3191</th>\n",
       "      <td>56039</td>\n",
       "      <td>teton_county</td>\n",
       "    </tr>\n",
       "    <tr>\n",
       "      <th>3192</th>\n",
       "      <td>56041</td>\n",
       "      <td>uinta_county</td>\n",
       "    </tr>\n",
       "    <tr>\n",
       "      <th>3193</th>\n",
       "      <td>56043</td>\n",
       "      <td>washakie_county</td>\n",
       "    </tr>\n",
       "    <tr>\n",
       "      <th>3194</th>\n",
       "      <td>56045</td>\n",
       "      <td>weston_county</td>\n",
       "    </tr>\n",
       "  </tbody>\n",
       "</table>\n",
       "<p>3195 rows × 2 columns</p>\n",
       "</div>"
      ],
      "text/plain": [
       "       fips             county\n",
       "0     01000            alabama\n",
       "1     01001     autauga_county\n",
       "2     01003     baldwin_county\n",
       "3     01005     barbour_county\n",
       "4     01007        bibb_county\n",
       "...     ...                ...\n",
       "3190  56037  sweetwater_county\n",
       "3191  56039       teton_county\n",
       "3192  56041       uinta_county\n",
       "3193  56043    washakie_county\n",
       "3194  56045      weston_county\n",
       "\n",
       "[3195 rows x 2 columns]"
      ]
     },
     "execution_count": 6,
     "metadata": {},
     "output_type": "execute_result"
    }
   ],
   "source": [
    "county_fips = pd.read_csv('../data/fips_county.csv.xz', dtype={'fips':object}) # read fips as a string\n",
    "county_fips"
   ]
  },
  {
   "cell_type": "code",
   "execution_count": 7,
   "id": "62f47dcf",
   "metadata": {},
   "outputs": [],
   "source": [
    "test_fips = county_fips"
   ]
  },
  {
   "cell_type": "code",
   "execution_count": 8,
   "id": "dcc28beb",
   "metadata": {},
   "outputs": [
    {
     "data": {
      "text/html": [
       "<div>\n",
       "<style scoped>\n",
       "    .dataframe tbody tr th:only-of-type {\n",
       "        vertical-align: middle;\n",
       "    }\n",
       "\n",
       "    .dataframe tbody tr th {\n",
       "        vertical-align: top;\n",
       "    }\n",
       "\n",
       "    .dataframe thead th {\n",
       "        text-align: right;\n",
       "    }\n",
       "</style>\n",
       "<table border=\"1\" class=\"dataframe\">\n",
       "  <thead>\n",
       "    <tr style=\"text-align: right;\">\n",
       "      <th></th>\n",
       "      <th>fips</th>\n",
       "      <th>county</th>\n",
       "    </tr>\n",
       "  </thead>\n",
       "  <tbody>\n",
       "    <tr>\n",
       "      <th>114</th>\n",
       "      <td>05001</td>\n",
       "      <td>arkansas</td>\n",
       "    </tr>\n",
       "    <tr>\n",
       "      <th>120</th>\n",
       "      <td>05013</td>\n",
       "      <td>calhoun</td>\n",
       "    </tr>\n",
       "    <tr>\n",
       "      <th>124</th>\n",
       "      <td>05021</td>\n",
       "      <td>clay</td>\n",
       "    </tr>\n",
       "    <tr>\n",
       "      <th>125</th>\n",
       "      <td>05023</td>\n",
       "      <td>cleburne</td>\n",
       "    </tr>\n",
       "    <tr>\n",
       "      <th>133</th>\n",
       "      <td>05039</td>\n",
       "      <td>dallas</td>\n",
       "    </tr>\n",
       "    <tr>\n",
       "      <th>...</th>\n",
       "      <td>...</td>\n",
       "      <td>...</td>\n",
       "    </tr>\n",
       "    <tr>\n",
       "      <th>3183</th>\n",
       "      <td>56023</td>\n",
       "      <td>lincoln</td>\n",
       "    </tr>\n",
       "    <tr>\n",
       "      <th>3186</th>\n",
       "      <td>56029</td>\n",
       "      <td>park</td>\n",
       "    </tr>\n",
       "    <tr>\n",
       "      <th>3187</th>\n",
       "      <td>56031</td>\n",
       "      <td>platte</td>\n",
       "    </tr>\n",
       "    <tr>\n",
       "      <th>3188</th>\n",
       "      <td>56033</td>\n",
       "      <td>sheridan</td>\n",
       "    </tr>\n",
       "    <tr>\n",
       "      <th>3191</th>\n",
       "      <td>56039</td>\n",
       "      <td>teton</td>\n",
       "    </tr>\n",
       "  </tbody>\n",
       "</table>\n",
       "<p>1306 rows × 2 columns</p>\n",
       "</div>"
      ],
      "text/plain": [
       "       fips    county\n",
       "114   05001  arkansas\n",
       "120   05013   calhoun\n",
       "124   05021      clay\n",
       "125   05023  cleburne\n",
       "133   05039    dallas\n",
       "...     ...       ...\n",
       "3183  56023   lincoln\n",
       "3186  56029      park\n",
       "3187  56031    platte\n",
       "3188  56033  sheridan\n",
       "3191  56039     teton\n",
       "\n",
       "[1306 rows x 2 columns]"
      ]
     },
     "execution_count": 8,
     "metadata": {},
     "output_type": "execute_result"
    }
   ],
   "source": [
    "test_fips['county'] = test_fips['county'].apply(lambda x: x.replace('_county',''))\n",
    "test_fips['county'] = test_fips['county'].apply(lambda x: x.replace('_city',''))\n",
    "test_fips[test_fips['county'].duplicated()==True]"
   ]
  },
  {
   "cell_type": "code",
   "execution_count": 9,
   "id": "17903e84",
   "metadata": {},
   "outputs": [],
   "source": [
    "def get_fips(county_name, county_fips):\n",
    "    # county_name = county_name.replace('_county', '') # because cities also match\n",
    "    matched_fips = county_fips[county_fips['county'].str.contains(county_name)]\n",
    "    if len(matched_fips) > 1:\n",
    "        return matched_fips\n",
    "    if len(matched_fips) <= 0:\n",
    "        return None\n",
    "    return matched_fips['fips'].values[0]"
   ]
  },
  {
   "cell_type": "code",
   "execution_count": 10,
   "id": "d5f1d7ff",
   "metadata": {},
   "outputs": [],
   "source": [
    "get_fips('williamsburg_county', county_fips)"
   ]
  },
  {
   "cell_type": "code",
   "execution_count": 11,
   "id": "1a36499c",
   "metadata": {},
   "outputs": [],
   "source": [
    "get_fips('williamsburg_city', county_fips)"
   ]
  },
  {
   "cell_type": "code",
   "execution_count": 12,
   "id": "ea4bee68",
   "metadata": {},
   "outputs": [
    {
     "data": {
      "text/html": [
       "<div>\n",
       "<style scoped>\n",
       "    .dataframe tbody tr th:only-of-type {\n",
       "        vertical-align: middle;\n",
       "    }\n",
       "\n",
       "    .dataframe tbody tr th {\n",
       "        vertical-align: top;\n",
       "    }\n",
       "\n",
       "    .dataframe thead th {\n",
       "        text-align: right;\n",
       "    }\n",
       "</style>\n",
       "<table border=\"1\" class=\"dataframe\">\n",
       "  <thead>\n",
       "    <tr style=\"text-align: right;\">\n",
       "      <th></th>\n",
       "      <th>fips</th>\n",
       "      <th>county</th>\n",
       "    </tr>\n",
       "  </thead>\n",
       "  <tbody>\n",
       "    <tr>\n",
       "      <th>2400</th>\n",
       "      <td>45089</td>\n",
       "      <td>williamsburg</td>\n",
       "    </tr>\n",
       "    <tr>\n",
       "      <th>3000</th>\n",
       "      <td>51830</td>\n",
       "      <td>williamsburg</td>\n",
       "    </tr>\n",
       "  </tbody>\n",
       "</table>\n",
       "</div>"
      ],
      "text/plain": [
       "       fips        county\n",
       "2400  45089  williamsburg\n",
       "3000  51830  williamsburg"
      ]
     },
     "execution_count": 12,
     "metadata": {},
     "output_type": "execute_result"
    }
   ],
   "source": [
    "get_fips('williamsburg', county_fips)"
   ]
  },
  {
   "cell_type": "code",
   "execution_count": 13,
   "id": "ce0c1174",
   "metadata": {},
   "outputs": [
    {
     "name": "stdout",
     "output_type": "stream",
     "text": [
      "None\n"
     ]
    }
   ],
   "source": [
    "print(get_fips('blah', county_fips))"
   ]
  },
  {
   "cell_type": "markdown",
   "id": "b17e48a0",
   "metadata": {},
   "source": [
    "# Remove non virginia fips from selection"
   ]
  },
  {
   "cell_type": "code",
   "execution_count": 14,
   "id": "46d6ec54",
   "metadata": {},
   "outputs": [
    {
     "data": {
      "text/html": [
       "<div>\n",
       "<style scoped>\n",
       "    .dataframe tbody tr th:only-of-type {\n",
       "        vertical-align: middle;\n",
       "    }\n",
       "\n",
       "    .dataframe tbody tr th {\n",
       "        vertical-align: top;\n",
       "    }\n",
       "\n",
       "    .dataframe thead th {\n",
       "        text-align: right;\n",
       "    }\n",
       "</style>\n",
       "<table border=\"1\" class=\"dataframe\">\n",
       "  <thead>\n",
       "    <tr style=\"text-align: right;\">\n",
       "      <th></th>\n",
       "      <th>fips</th>\n",
       "      <th>state</th>\n",
       "      <th>abbr</th>\n",
       "    </tr>\n",
       "  </thead>\n",
       "  <tbody>\n",
       "    <tr>\n",
       "      <th>0</th>\n",
       "      <td>01</td>\n",
       "      <td>alabama</td>\n",
       "      <td>al</td>\n",
       "    </tr>\n",
       "    <tr>\n",
       "      <th>1</th>\n",
       "      <td>02</td>\n",
       "      <td>alaska</td>\n",
       "      <td>ak</td>\n",
       "    </tr>\n",
       "    <tr>\n",
       "      <th>2</th>\n",
       "      <td>04</td>\n",
       "      <td>arizona</td>\n",
       "      <td>az</td>\n",
       "    </tr>\n",
       "    <tr>\n",
       "      <th>3</th>\n",
       "      <td>05</td>\n",
       "      <td>arkansas</td>\n",
       "      <td>ar</td>\n",
       "    </tr>\n",
       "    <tr>\n",
       "      <th>4</th>\n",
       "      <td>06</td>\n",
       "      <td>california</td>\n",
       "      <td>ca</td>\n",
       "    </tr>\n",
       "    <tr>\n",
       "      <th>5</th>\n",
       "      <td>08</td>\n",
       "      <td>colorado</td>\n",
       "      <td>co</td>\n",
       "    </tr>\n",
       "    <tr>\n",
       "      <th>6</th>\n",
       "      <td>09</td>\n",
       "      <td>connecticut</td>\n",
       "      <td>ct</td>\n",
       "    </tr>\n",
       "    <tr>\n",
       "      <th>7</th>\n",
       "      <td>10</td>\n",
       "      <td>delaware</td>\n",
       "      <td>de</td>\n",
       "    </tr>\n",
       "    <tr>\n",
       "      <th>8</th>\n",
       "      <td>11</td>\n",
       "      <td>district_of_columbia</td>\n",
       "      <td>dc</td>\n",
       "    </tr>\n",
       "    <tr>\n",
       "      <th>9</th>\n",
       "      <td>12</td>\n",
       "      <td>florida</td>\n",
       "      <td>fl</td>\n",
       "    </tr>\n",
       "    <tr>\n",
       "      <th>10</th>\n",
       "      <td>13</td>\n",
       "      <td>georgia</td>\n",
       "      <td>ga</td>\n",
       "    </tr>\n",
       "    <tr>\n",
       "      <th>11</th>\n",
       "      <td>15</td>\n",
       "      <td>hawaii</td>\n",
       "      <td>hi</td>\n",
       "    </tr>\n",
       "    <tr>\n",
       "      <th>12</th>\n",
       "      <td>16</td>\n",
       "      <td>idaho</td>\n",
       "      <td>id</td>\n",
       "    </tr>\n",
       "    <tr>\n",
       "      <th>13</th>\n",
       "      <td>17</td>\n",
       "      <td>illinois</td>\n",
       "      <td>il</td>\n",
       "    </tr>\n",
       "    <tr>\n",
       "      <th>14</th>\n",
       "      <td>18</td>\n",
       "      <td>indiana</td>\n",
       "      <td>in</td>\n",
       "    </tr>\n",
       "    <tr>\n",
       "      <th>15</th>\n",
       "      <td>19</td>\n",
       "      <td>iowa</td>\n",
       "      <td>ia</td>\n",
       "    </tr>\n",
       "    <tr>\n",
       "      <th>16</th>\n",
       "      <td>20</td>\n",
       "      <td>kansas</td>\n",
       "      <td>ks</td>\n",
       "    </tr>\n",
       "    <tr>\n",
       "      <th>17</th>\n",
       "      <td>21</td>\n",
       "      <td>kentucky</td>\n",
       "      <td>ky</td>\n",
       "    </tr>\n",
       "    <tr>\n",
       "      <th>18</th>\n",
       "      <td>22</td>\n",
       "      <td>louisiana</td>\n",
       "      <td>la</td>\n",
       "    </tr>\n",
       "    <tr>\n",
       "      <th>19</th>\n",
       "      <td>23</td>\n",
       "      <td>maine</td>\n",
       "      <td>me</td>\n",
       "    </tr>\n",
       "    <tr>\n",
       "      <th>20</th>\n",
       "      <td>24</td>\n",
       "      <td>maryland</td>\n",
       "      <td>md</td>\n",
       "    </tr>\n",
       "    <tr>\n",
       "      <th>21</th>\n",
       "      <td>25</td>\n",
       "      <td>massachusetts</td>\n",
       "      <td>ma</td>\n",
       "    </tr>\n",
       "    <tr>\n",
       "      <th>22</th>\n",
       "      <td>26</td>\n",
       "      <td>michigan</td>\n",
       "      <td>mi</td>\n",
       "    </tr>\n",
       "    <tr>\n",
       "      <th>23</th>\n",
       "      <td>27</td>\n",
       "      <td>minnesota</td>\n",
       "      <td>mn</td>\n",
       "    </tr>\n",
       "    <tr>\n",
       "      <th>24</th>\n",
       "      <td>28</td>\n",
       "      <td>mississippi</td>\n",
       "      <td>ms</td>\n",
       "    </tr>\n",
       "    <tr>\n",
       "      <th>25</th>\n",
       "      <td>29</td>\n",
       "      <td>missouri</td>\n",
       "      <td>mo</td>\n",
       "    </tr>\n",
       "    <tr>\n",
       "      <th>26</th>\n",
       "      <td>30</td>\n",
       "      <td>montana</td>\n",
       "      <td>mt</td>\n",
       "    </tr>\n",
       "    <tr>\n",
       "      <th>27</th>\n",
       "      <td>31</td>\n",
       "      <td>nebraska</td>\n",
       "      <td>ne</td>\n",
       "    </tr>\n",
       "    <tr>\n",
       "      <th>28</th>\n",
       "      <td>32</td>\n",
       "      <td>nevada</td>\n",
       "      <td>nv</td>\n",
       "    </tr>\n",
       "    <tr>\n",
       "      <th>29</th>\n",
       "      <td>33</td>\n",
       "      <td>new_hampshire</td>\n",
       "      <td>nh</td>\n",
       "    </tr>\n",
       "    <tr>\n",
       "      <th>30</th>\n",
       "      <td>34</td>\n",
       "      <td>new_jersey</td>\n",
       "      <td>nj</td>\n",
       "    </tr>\n",
       "    <tr>\n",
       "      <th>31</th>\n",
       "      <td>35</td>\n",
       "      <td>new_mexico</td>\n",
       "      <td>nm</td>\n",
       "    </tr>\n",
       "    <tr>\n",
       "      <th>32</th>\n",
       "      <td>36</td>\n",
       "      <td>new_york</td>\n",
       "      <td>ny</td>\n",
       "    </tr>\n",
       "    <tr>\n",
       "      <th>33</th>\n",
       "      <td>37</td>\n",
       "      <td>north_carolina</td>\n",
       "      <td>nc</td>\n",
       "    </tr>\n",
       "    <tr>\n",
       "      <th>34</th>\n",
       "      <td>38</td>\n",
       "      <td>north_dakota</td>\n",
       "      <td>nd</td>\n",
       "    </tr>\n",
       "    <tr>\n",
       "      <th>35</th>\n",
       "      <td>39</td>\n",
       "      <td>ohio</td>\n",
       "      <td>oh</td>\n",
       "    </tr>\n",
       "    <tr>\n",
       "      <th>36</th>\n",
       "      <td>40</td>\n",
       "      <td>oklahoma</td>\n",
       "      <td>ok</td>\n",
       "    </tr>\n",
       "    <tr>\n",
       "      <th>37</th>\n",
       "      <td>41</td>\n",
       "      <td>oregon</td>\n",
       "      <td>or</td>\n",
       "    </tr>\n",
       "    <tr>\n",
       "      <th>38</th>\n",
       "      <td>42</td>\n",
       "      <td>pennsylvania</td>\n",
       "      <td>pa</td>\n",
       "    </tr>\n",
       "    <tr>\n",
       "      <th>39</th>\n",
       "      <td>44</td>\n",
       "      <td>rhode_island</td>\n",
       "      <td>ri</td>\n",
       "    </tr>\n",
       "    <tr>\n",
       "      <th>40</th>\n",
       "      <td>45</td>\n",
       "      <td>south_carolina</td>\n",
       "      <td>sc</td>\n",
       "    </tr>\n",
       "    <tr>\n",
       "      <th>41</th>\n",
       "      <td>46</td>\n",
       "      <td>south_dakota</td>\n",
       "      <td>sd</td>\n",
       "    </tr>\n",
       "    <tr>\n",
       "      <th>42</th>\n",
       "      <td>47</td>\n",
       "      <td>tennessee</td>\n",
       "      <td>tn</td>\n",
       "    </tr>\n",
       "    <tr>\n",
       "      <th>43</th>\n",
       "      <td>48</td>\n",
       "      <td>texas</td>\n",
       "      <td>tx</td>\n",
       "    </tr>\n",
       "    <tr>\n",
       "      <th>44</th>\n",
       "      <td>49</td>\n",
       "      <td>utah</td>\n",
       "      <td>ut</td>\n",
       "    </tr>\n",
       "    <tr>\n",
       "      <th>45</th>\n",
       "      <td>50</td>\n",
       "      <td>vermont</td>\n",
       "      <td>vt</td>\n",
       "    </tr>\n",
       "    <tr>\n",
       "      <th>46</th>\n",
       "      <td>51</td>\n",
       "      <td>virginia</td>\n",
       "      <td>va</td>\n",
       "    </tr>\n",
       "    <tr>\n",
       "      <th>47</th>\n",
       "      <td>53</td>\n",
       "      <td>washington</td>\n",
       "      <td>wa</td>\n",
       "    </tr>\n",
       "    <tr>\n",
       "      <th>48</th>\n",
       "      <td>54</td>\n",
       "      <td>west_virginia</td>\n",
       "      <td>wv</td>\n",
       "    </tr>\n",
       "    <tr>\n",
       "      <th>49</th>\n",
       "      <td>55</td>\n",
       "      <td>wisconsin</td>\n",
       "      <td>wi</td>\n",
       "    </tr>\n",
       "    <tr>\n",
       "      <th>50</th>\n",
       "      <td>56</td>\n",
       "      <td>wyoming</td>\n",
       "      <td>wy</td>\n",
       "    </tr>\n",
       "  </tbody>\n",
       "</table>\n",
       "</div>"
      ],
      "text/plain": [
       "   fips                 state abbr\n",
       "0    01               alabama   al\n",
       "1    02                alaska   ak\n",
       "2    04               arizona   az\n",
       "3    05              arkansas   ar\n",
       "4    06            california   ca\n",
       "5    08              colorado   co\n",
       "6    09           connecticut   ct\n",
       "7    10              delaware   de\n",
       "8    11  district_of_columbia   dc\n",
       "9    12               florida   fl\n",
       "10   13               georgia   ga\n",
       "11   15                hawaii   hi\n",
       "12   16                 idaho   id\n",
       "13   17              illinois   il\n",
       "14   18               indiana   in\n",
       "15   19                  iowa   ia\n",
       "16   20                kansas   ks\n",
       "17   21              kentucky   ky\n",
       "18   22             louisiana   la\n",
       "19   23                 maine   me\n",
       "20   24              maryland   md\n",
       "21   25         massachusetts   ma\n",
       "22   26              michigan   mi\n",
       "23   27             minnesota   mn\n",
       "24   28           mississippi   ms\n",
       "25   29              missouri   mo\n",
       "26   30               montana   mt\n",
       "27   31              nebraska   ne\n",
       "28   32                nevada   nv\n",
       "29   33         new_hampshire   nh\n",
       "30   34            new_jersey   nj\n",
       "31   35            new_mexico   nm\n",
       "32   36              new_york   ny\n",
       "33   37        north_carolina   nc\n",
       "34   38          north_dakota   nd\n",
       "35   39                  ohio   oh\n",
       "36   40              oklahoma   ok\n",
       "37   41                oregon   or\n",
       "38   42          pennsylvania   pa\n",
       "39   44          rhode_island   ri\n",
       "40   45        south_carolina   sc\n",
       "41   46          south_dakota   sd\n",
       "42   47             tennessee   tn\n",
       "43   48                 texas   tx\n",
       "44   49                  utah   ut\n",
       "45   50               vermont   vt\n",
       "46   51              virginia   va\n",
       "47   53            washington   wa\n",
       "48   54         west_virginia   wv\n",
       "49   55             wisconsin   wi\n",
       "50   56               wyoming   wy"
      ]
     },
     "execution_count": 14,
     "metadata": {},
     "output_type": "execute_result"
    }
   ],
   "source": [
    "state_fips = pd.read_csv('../data/fips_state.csv', dtype={'fips':object})\n",
    "state_fips"
   ]
  },
  {
   "cell_type": "code",
   "execution_count": 15,
   "id": "a8f39684",
   "metadata": {},
   "outputs": [
    {
     "data": {
      "text/plain": [
       "'51'"
      ]
     },
     "execution_count": 15,
     "metadata": {},
     "output_type": "execute_result"
    }
   ],
   "source": [
    "state_fip = state_fips[state_fips['abbr']==state]['fips'].values[0]\n",
    "state_fip"
   ]
  },
  {
   "cell_type": "code",
   "execution_count": 16,
   "id": "3c04d339",
   "metadata": {},
   "outputs": [
    {
     "data": {
      "text/html": [
       "<div>\n",
       "<style scoped>\n",
       "    .dataframe tbody tr th:only-of-type {\n",
       "        vertical-align: middle;\n",
       "    }\n",
       "\n",
       "    .dataframe tbody tr th {\n",
       "        vertical-align: top;\n",
       "    }\n",
       "\n",
       "    .dataframe thead th {\n",
       "        text-align: right;\n",
       "    }\n",
       "</style>\n",
       "<table border=\"1\" class=\"dataframe\">\n",
       "  <thead>\n",
       "    <tr style=\"text-align: right;\">\n",
       "      <th></th>\n",
       "      <th>fips</th>\n",
       "      <th>county</th>\n",
       "      <th>state_fip</th>\n",
       "    </tr>\n",
       "  </thead>\n",
       "  <tbody>\n",
       "    <tr>\n",
       "      <th>0</th>\n",
       "      <td>01000</td>\n",
       "      <td>alabama</td>\n",
       "      <td>01</td>\n",
       "    </tr>\n",
       "    <tr>\n",
       "      <th>1</th>\n",
       "      <td>01001</td>\n",
       "      <td>autauga</td>\n",
       "      <td>01</td>\n",
       "    </tr>\n",
       "    <tr>\n",
       "      <th>2</th>\n",
       "      <td>01003</td>\n",
       "      <td>baldwin</td>\n",
       "      <td>01</td>\n",
       "    </tr>\n",
       "    <tr>\n",
       "      <th>3</th>\n",
       "      <td>01005</td>\n",
       "      <td>barbour</td>\n",
       "      <td>01</td>\n",
       "    </tr>\n",
       "    <tr>\n",
       "      <th>4</th>\n",
       "      <td>01007</td>\n",
       "      <td>bibb</td>\n",
       "      <td>01</td>\n",
       "    </tr>\n",
       "    <tr>\n",
       "      <th>...</th>\n",
       "      <td>...</td>\n",
       "      <td>...</td>\n",
       "      <td>...</td>\n",
       "    </tr>\n",
       "    <tr>\n",
       "      <th>3190</th>\n",
       "      <td>56037</td>\n",
       "      <td>sweetwater</td>\n",
       "      <td>56</td>\n",
       "    </tr>\n",
       "    <tr>\n",
       "      <th>3191</th>\n",
       "      <td>56039</td>\n",
       "      <td>teton</td>\n",
       "      <td>56</td>\n",
       "    </tr>\n",
       "    <tr>\n",
       "      <th>3192</th>\n",
       "      <td>56041</td>\n",
       "      <td>uinta</td>\n",
       "      <td>56</td>\n",
       "    </tr>\n",
       "    <tr>\n",
       "      <th>3193</th>\n",
       "      <td>56043</td>\n",
       "      <td>washakie</td>\n",
       "      <td>56</td>\n",
       "    </tr>\n",
       "    <tr>\n",
       "      <th>3194</th>\n",
       "      <td>56045</td>\n",
       "      <td>weston</td>\n",
       "      <td>56</td>\n",
       "    </tr>\n",
       "  </tbody>\n",
       "</table>\n",
       "<p>3195 rows × 3 columns</p>\n",
       "</div>"
      ],
      "text/plain": [
       "       fips      county state_fip\n",
       "0     01000     alabama        01\n",
       "1     01001     autauga        01\n",
       "2     01003     baldwin        01\n",
       "3     01005     barbour        01\n",
       "4     01007        bibb        01\n",
       "...     ...         ...       ...\n",
       "3190  56037  sweetwater        56\n",
       "3191  56039       teton        56\n",
       "3192  56041       uinta        56\n",
       "3193  56043    washakie        56\n",
       "3194  56045      weston        56\n",
       "\n",
       "[3195 rows x 3 columns]"
      ]
     },
     "execution_count": 16,
     "metadata": {},
     "output_type": "execute_result"
    }
   ],
   "source": [
    "county_fips['state_fip'] = county_fips['fips'].apply(lambda x: x[:2])\n",
    "county_fips"
   ]
  },
  {
   "cell_type": "code",
   "execution_count": 17,
   "id": "8ba50844",
   "metadata": {},
   "outputs": [
    {
     "data": {
      "text/html": [
       "<div>\n",
       "<style scoped>\n",
       "    .dataframe tbody tr th:only-of-type {\n",
       "        vertical-align: middle;\n",
       "    }\n",
       "\n",
       "    .dataframe tbody tr th {\n",
       "        vertical-align: top;\n",
       "    }\n",
       "\n",
       "    .dataframe thead th {\n",
       "        text-align: right;\n",
       "    }\n",
       "</style>\n",
       "<table border=\"1\" class=\"dataframe\">\n",
       "  <thead>\n",
       "    <tr style=\"text-align: right;\">\n",
       "      <th></th>\n",
       "      <th>fips</th>\n",
       "      <th>county</th>\n",
       "      <th>state_fip</th>\n",
       "    </tr>\n",
       "  </thead>\n",
       "  <tbody>\n",
       "    <tr>\n",
       "      <th>2865</th>\n",
       "      <td>51000</td>\n",
       "      <td>virginia</td>\n",
       "      <td>51</td>\n",
       "    </tr>\n",
       "    <tr>\n",
       "      <th>2866</th>\n",
       "      <td>51001</td>\n",
       "      <td>accomack</td>\n",
       "      <td>51</td>\n",
       "    </tr>\n",
       "    <tr>\n",
       "      <th>2867</th>\n",
       "      <td>51003</td>\n",
       "      <td>albemarle</td>\n",
       "      <td>51</td>\n",
       "    </tr>\n",
       "    <tr>\n",
       "      <th>2868</th>\n",
       "      <td>51005</td>\n",
       "      <td>alleghany</td>\n",
       "      <td>51</td>\n",
       "    </tr>\n",
       "    <tr>\n",
       "      <th>2869</th>\n",
       "      <td>51007</td>\n",
       "      <td>amelia</td>\n",
       "      <td>51</td>\n",
       "    </tr>\n",
       "    <tr>\n",
       "      <th>...</th>\n",
       "      <td>...</td>\n",
       "      <td>...</td>\n",
       "      <td>...</td>\n",
       "    </tr>\n",
       "    <tr>\n",
       "      <th>2997</th>\n",
       "      <td>51800</td>\n",
       "      <td>suffolk</td>\n",
       "      <td>51</td>\n",
       "    </tr>\n",
       "    <tr>\n",
       "      <th>2998</th>\n",
       "      <td>51810</td>\n",
       "      <td>virginia_beach</td>\n",
       "      <td>51</td>\n",
       "    </tr>\n",
       "    <tr>\n",
       "      <th>2999</th>\n",
       "      <td>51820</td>\n",
       "      <td>waynesboro</td>\n",
       "      <td>51</td>\n",
       "    </tr>\n",
       "    <tr>\n",
       "      <th>3000</th>\n",
       "      <td>51830</td>\n",
       "      <td>williamsburg</td>\n",
       "      <td>51</td>\n",
       "    </tr>\n",
       "    <tr>\n",
       "      <th>3001</th>\n",
       "      <td>51840</td>\n",
       "      <td>winchester</td>\n",
       "      <td>51</td>\n",
       "    </tr>\n",
       "  </tbody>\n",
       "</table>\n",
       "<p>137 rows × 3 columns</p>\n",
       "</div>"
      ],
      "text/plain": [
       "       fips          county state_fip\n",
       "2865  51000        virginia        51\n",
       "2866  51001        accomack        51\n",
       "2867  51003       albemarle        51\n",
       "2868  51005       alleghany        51\n",
       "2869  51007          amelia        51\n",
       "...     ...             ...       ...\n",
       "2997  51800         suffolk        51\n",
       "2998  51810  virginia_beach        51\n",
       "2999  51820      waynesboro        51\n",
       "3000  51830    williamsburg        51\n",
       "3001  51840      winchester        51\n",
       "\n",
       "[137 rows x 3 columns]"
      ]
     },
     "execution_count": 17,
     "metadata": {},
     "output_type": "execute_result"
    }
   ],
   "source": [
    "county_fips = county_fips[county_fips['state_fip'] == state_fip]\n",
    "county_fips"
   ]
  },
  {
   "cell_type": "markdown",
   "id": "12cbd6bb",
   "metadata": {},
   "source": [
    "# Import state shape files"
   ]
  },
  {
   "cell_type": "code",
   "execution_count": 18,
   "id": "8e966501",
   "metadata": {},
   "outputs": [
    {
     "data": {
      "text/html": [
       "<div>\n",
       "<style scoped>\n",
       "    .dataframe tbody tr th:only-of-type {\n",
       "        vertical-align: middle;\n",
       "    }\n",
       "\n",
       "    .dataframe tbody tr th {\n",
       "        vertical-align: top;\n",
       "    }\n",
       "\n",
       "    .dataframe thead th {\n",
       "        text-align: right;\n",
       "    }\n",
       "</style>\n",
       "<table border=\"1\" class=\"dataframe\">\n",
       "  <thead>\n",
       "    <tr style=\"text-align: right;\">\n",
       "      <th></th>\n",
       "      <th>STATEFP20</th>\n",
       "      <th>COUNTYFP20</th>\n",
       "      <th>TRACTCE20</th>\n",
       "      <th>BLOCKCE20</th>\n",
       "      <th>GEOID20</th>\n",
       "      <th>NAME20</th>\n",
       "      <th>MTFCC20</th>\n",
       "      <th>UR20</th>\n",
       "      <th>UACE20</th>\n",
       "      <th>UATYPE20</th>\n",
       "      <th>FUNCSTAT20</th>\n",
       "      <th>ALAND20</th>\n",
       "      <th>AWATER20</th>\n",
       "      <th>INTPTLAT20</th>\n",
       "      <th>INTPTLON20</th>\n",
       "      <th>HOUSING20</th>\n",
       "      <th>POP20</th>\n",
       "      <th>geometry</th>\n",
       "    </tr>\n",
       "  </thead>\n",
       "  <tbody>\n",
       "    <tr>\n",
       "      <th>0</th>\n",
       "      <td>51</td>\n",
       "      <td>065</td>\n",
       "      <td>020101</td>\n",
       "      <td>1027</td>\n",
       "      <td>510650201011027</td>\n",
       "      <td>Block 1027</td>\n",
       "      <td>G5040</td>\n",
       "      <td>R</td>\n",
       "      <td>NaN</td>\n",
       "      <td>NaN</td>\n",
       "      <td>S</td>\n",
       "      <td>1547604</td>\n",
       "      <td>0</td>\n",
       "      <td>+37.8704905</td>\n",
       "      <td>-078.2665116</td>\n",
       "      <td>18</td>\n",
       "      <td>40</td>\n",
       "      <td>POLYGON ((-78.27375 37.87051, -78.27324 37.870...</td>\n",
       "    </tr>\n",
       "    <tr>\n",
       "      <th>1</th>\n",
       "      <td>51</td>\n",
       "      <td>197</td>\n",
       "      <td>050101</td>\n",
       "      <td>1061</td>\n",
       "      <td>511970501011061</td>\n",
       "      <td>Block 1061</td>\n",
       "      <td>G5040</td>\n",
       "      <td>U</td>\n",
       "      <td>97453</td>\n",
       "      <td>U</td>\n",
       "      <td>S</td>\n",
       "      <td>15055</td>\n",
       "      <td>0</td>\n",
       "      <td>+36.9409610</td>\n",
       "      <td>-081.0882937</td>\n",
       "      <td>6</td>\n",
       "      <td>8</td>\n",
       "      <td>POLYGON ((-81.08860 36.94152, -81.08830 36.941...</td>\n",
       "    </tr>\n",
       "    <tr>\n",
       "      <th>2</th>\n",
       "      <td>51</td>\n",
       "      <td>197</td>\n",
       "      <td>050101</td>\n",
       "      <td>3063</td>\n",
       "      <td>511970501013063</td>\n",
       "      <td>Block 3063</td>\n",
       "      <td>G5040</td>\n",
       "      <td>R</td>\n",
       "      <td>NaN</td>\n",
       "      <td>NaN</td>\n",
       "      <td>S</td>\n",
       "      <td>11611</td>\n",
       "      <td>0</td>\n",
       "      <td>+36.9412795</td>\n",
       "      <td>-080.9753199</td>\n",
       "      <td>0</td>\n",
       "      <td>0</td>\n",
       "      <td>POLYGON ((-80.97608 36.94150, -80.97607 36.941...</td>\n",
       "    </tr>\n",
       "    <tr>\n",
       "      <th>3</th>\n",
       "      <td>51</td>\n",
       "      <td>197</td>\n",
       "      <td>050301</td>\n",
       "      <td>1036</td>\n",
       "      <td>511970503011036</td>\n",
       "      <td>Block 1036</td>\n",
       "      <td>G5040</td>\n",
       "      <td>R</td>\n",
       "      <td>NaN</td>\n",
       "      <td>NaN</td>\n",
       "      <td>S</td>\n",
       "      <td>166245</td>\n",
       "      <td>0</td>\n",
       "      <td>+36.8857859</td>\n",
       "      <td>-081.2774449</td>\n",
       "      <td>3</td>\n",
       "      <td>4</td>\n",
       "      <td>POLYGON ((-81.28102 36.88490, -81.28071 36.885...</td>\n",
       "    </tr>\n",
       "    <tr>\n",
       "      <th>4</th>\n",
       "      <td>51</td>\n",
       "      <td>199</td>\n",
       "      <td>050500</td>\n",
       "      <td>2052</td>\n",
       "      <td>511990505002052</td>\n",
       "      <td>Block 2052</td>\n",
       "      <td>G5040</td>\n",
       "      <td>R</td>\n",
       "      <td>NaN</td>\n",
       "      <td>NaN</td>\n",
       "      <td>S</td>\n",
       "      <td>292731</td>\n",
       "      <td>0</td>\n",
       "      <td>+37.2259510</td>\n",
       "      <td>-076.5020127</td>\n",
       "      <td>0</td>\n",
       "      <td>0</td>\n",
       "      <td>POLYGON ((-76.50644 37.22507, -76.50640 37.225...</td>\n",
       "    </tr>\n",
       "    <tr>\n",
       "      <th>...</th>\n",
       "      <td>...</td>\n",
       "      <td>...</td>\n",
       "      <td>...</td>\n",
       "      <td>...</td>\n",
       "      <td>...</td>\n",
       "      <td>...</td>\n",
       "      <td>...</td>\n",
       "      <td>...</td>\n",
       "      <td>...</td>\n",
       "      <td>...</td>\n",
       "      <td>...</td>\n",
       "      <td>...</td>\n",
       "      <td>...</td>\n",
       "      <td>...</td>\n",
       "      <td>...</td>\n",
       "      <td>...</td>\n",
       "      <td>...</td>\n",
       "      <td>...</td>\n",
       "    </tr>\n",
       "    <tr>\n",
       "      <th>163486</th>\n",
       "      <td>51</td>\n",
       "      <td>159</td>\n",
       "      <td>040100</td>\n",
       "      <td>3037</td>\n",
       "      <td>511590401003037</td>\n",
       "      <td>Block 3037</td>\n",
       "      <td>G5040</td>\n",
       "      <td>R</td>\n",
       "      <td>NaN</td>\n",
       "      <td>NaN</td>\n",
       "      <td>S</td>\n",
       "      <td>4561610</td>\n",
       "      <td>48673</td>\n",
       "      <td>+37.8986088</td>\n",
       "      <td>-076.7515189</td>\n",
       "      <td>18</td>\n",
       "      <td>38</td>\n",
       "      <td>POLYGON ((-76.76612 37.88520, -76.76576 37.885...</td>\n",
       "    </tr>\n",
       "    <tr>\n",
       "      <th>163487</th>\n",
       "      <td>51</td>\n",
       "      <td>109</td>\n",
       "      <td>950500</td>\n",
       "      <td>3014</td>\n",
       "      <td>511099505003014</td>\n",
       "      <td>Block 3014</td>\n",
       "      <td>G5040</td>\n",
       "      <td>R</td>\n",
       "      <td>NaN</td>\n",
       "      <td>NaN</td>\n",
       "      <td>S</td>\n",
       "      <td>43464</td>\n",
       "      <td>0</td>\n",
       "      <td>+37.8490036</td>\n",
       "      <td>-077.7906355</td>\n",
       "      <td>3</td>\n",
       "      <td>19</td>\n",
       "      <td>POLYGON ((-77.79179 37.84769, -77.79164 37.848...</td>\n",
       "    </tr>\n",
       "    <tr>\n",
       "      <th>163488</th>\n",
       "      <td>51</td>\n",
       "      <td>109</td>\n",
       "      <td>950102</td>\n",
       "      <td>1008</td>\n",
       "      <td>511099501021008</td>\n",
       "      <td>Block 1008</td>\n",
       "      <td>G5040</td>\n",
       "      <td>R</td>\n",
       "      <td>NaN</td>\n",
       "      <td>NaN</td>\n",
       "      <td>S</td>\n",
       "      <td>0</td>\n",
       "      <td>4267</td>\n",
       "      <td>+38.0630940</td>\n",
       "      <td>-077.8308694</td>\n",
       "      <td>0</td>\n",
       "      <td>0</td>\n",
       "      <td>POLYGON ((-77.83180 38.06289, -77.83098 38.063...</td>\n",
       "    </tr>\n",
       "    <tr>\n",
       "      <th>163489</th>\n",
       "      <td>51</td>\n",
       "      <td>650</td>\n",
       "      <td>011800</td>\n",
       "      <td>4009</td>\n",
       "      <td>516500118004009</td>\n",
       "      <td>Block 4009</td>\n",
       "      <td>G5040</td>\n",
       "      <td>U</td>\n",
       "      <td>90892</td>\n",
       "      <td>U</td>\n",
       "      <td>S</td>\n",
       "      <td>81063</td>\n",
       "      <td>0</td>\n",
       "      <td>+37.0129132</td>\n",
       "      <td>-076.3642622</td>\n",
       "      <td>30</td>\n",
       "      <td>188</td>\n",
       "      <td>POLYGON ((-76.36596 37.01361, -76.36514 37.014...</td>\n",
       "    </tr>\n",
       "    <tr>\n",
       "      <th>163490</th>\n",
       "      <td>51</td>\n",
       "      <td>650</td>\n",
       "      <td>010601</td>\n",
       "      <td>2028</td>\n",
       "      <td>516500106012028</td>\n",
       "      <td>Block 2028</td>\n",
       "      <td>G5040</td>\n",
       "      <td>U</td>\n",
       "      <td>90892</td>\n",
       "      <td>U</td>\n",
       "      <td>S</td>\n",
       "      <td>0</td>\n",
       "      <td>66076</td>\n",
       "      <td>+37.0237499</td>\n",
       "      <td>-076.3415541</td>\n",
       "      <td>0</td>\n",
       "      <td>0</td>\n",
       "      <td>POLYGON ((-76.34500 37.02314, -76.34476 37.023...</td>\n",
       "    </tr>\n",
       "  </tbody>\n",
       "</table>\n",
       "<p>163491 rows × 18 columns</p>\n",
       "</div>"
      ],
      "text/plain": [
       "       STATEFP20 COUNTYFP20 TRACTCE20 BLOCKCE20          GEOID20      NAME20  \\\n",
       "0             51        065    020101      1027  510650201011027  Block 1027   \n",
       "1             51        197    050101      1061  511970501011061  Block 1061   \n",
       "2             51        197    050101      3063  511970501013063  Block 3063   \n",
       "3             51        197    050301      1036  511970503011036  Block 1036   \n",
       "4             51        199    050500      2052  511990505002052  Block 2052   \n",
       "...          ...        ...       ...       ...              ...         ...   \n",
       "163486        51        159    040100      3037  511590401003037  Block 3037   \n",
       "163487        51        109    950500      3014  511099505003014  Block 3014   \n",
       "163488        51        109    950102      1008  511099501021008  Block 1008   \n",
       "163489        51        650    011800      4009  516500118004009  Block 4009   \n",
       "163490        51        650    010601      2028  516500106012028  Block 2028   \n",
       "\n",
       "       MTFCC20 UR20 UACE20 UATYPE20 FUNCSTAT20  ALAND20  AWATER20  \\\n",
       "0        G5040    R    NaN      NaN          S  1547604         0   \n",
       "1        G5040    U  97453        U          S    15055         0   \n",
       "2        G5040    R    NaN      NaN          S    11611         0   \n",
       "3        G5040    R    NaN      NaN          S   166245         0   \n",
       "4        G5040    R    NaN      NaN          S   292731         0   \n",
       "...        ...  ...    ...      ...        ...      ...       ...   \n",
       "163486   G5040    R    NaN      NaN          S  4561610     48673   \n",
       "163487   G5040    R    NaN      NaN          S    43464         0   \n",
       "163488   G5040    R    NaN      NaN          S        0      4267   \n",
       "163489   G5040    U  90892        U          S    81063         0   \n",
       "163490   G5040    U  90892        U          S        0     66076   \n",
       "\n",
       "         INTPTLAT20    INTPTLON20  HOUSING20  POP20  \\\n",
       "0       +37.8704905  -078.2665116         18     40   \n",
       "1       +36.9409610  -081.0882937          6      8   \n",
       "2       +36.9412795  -080.9753199          0      0   \n",
       "3       +36.8857859  -081.2774449          3      4   \n",
       "4       +37.2259510  -076.5020127          0      0   \n",
       "...             ...           ...        ...    ...   \n",
       "163486  +37.8986088  -076.7515189         18     38   \n",
       "163487  +37.8490036  -077.7906355          3     19   \n",
       "163488  +38.0630940  -077.8308694          0      0   \n",
       "163489  +37.0129132  -076.3642622         30    188   \n",
       "163490  +37.0237499  -076.3415541          0      0   \n",
       "\n",
       "                                                 geometry  \n",
       "0       POLYGON ((-78.27375 37.87051, -78.27324 37.870...  \n",
       "1       POLYGON ((-81.08860 36.94152, -81.08830 36.941...  \n",
       "2       POLYGON ((-80.97608 36.94150, -80.97607 36.941...  \n",
       "3       POLYGON ((-81.28102 36.88490, -81.28071 36.885...  \n",
       "4       POLYGON ((-76.50644 37.22507, -76.50640 37.225...  \n",
       "...                                                   ...  \n",
       "163486  POLYGON ((-76.76612 37.88520, -76.76576 37.885...  \n",
       "163487  POLYGON ((-77.79179 37.84769, -77.79164 37.848...  \n",
       "163488  POLYGON ((-77.83180 38.06289, -77.83098 38.063...  \n",
       "163489  POLYGON ((-76.36596 37.01361, -76.36514 37.014...  \n",
       "163490  POLYGON ((-76.34500 37.02314, -76.34476 37.023...  \n",
       "\n",
       "[163491 rows x 18 columns]"
      ]
     },
     "execution_count": 18,
     "metadata": {},
     "output_type": "execute_result"
    }
   ],
   "source": [
    "fp = \"../data/shapefiles/tl_2020_51_tabblock20/tl_2020_51_tabblock20.shp\"\n",
    "block_df = gpd.read_file(fp)\n",
    "block_df"
   ]
  },
  {
   "cell_type": "code",
   "execution_count": 19,
   "id": "cee89c53",
   "metadata": {},
   "outputs": [
    {
     "data": {
      "text/html": [
       "<div>\n",
       "<style scoped>\n",
       "    .dataframe tbody tr th:only-of-type {\n",
       "        vertical-align: middle;\n",
       "    }\n",
       "\n",
       "    .dataframe tbody tr th {\n",
       "        vertical-align: top;\n",
       "    }\n",
       "\n",
       "    .dataframe thead th {\n",
       "        text-align: right;\n",
       "    }\n",
       "</style>\n",
       "<table border=\"1\" class=\"dataframe\">\n",
       "  <thead>\n",
       "    <tr style=\"text-align: right;\">\n",
       "      <th></th>\n",
       "      <th>STATEFP20</th>\n",
       "      <th>COUNTYFP20</th>\n",
       "      <th>TRACTCE20</th>\n",
       "      <th>BLOCKCE20</th>\n",
       "      <th>GEOID20</th>\n",
       "      <th>NAME20</th>\n",
       "      <th>MTFCC20</th>\n",
       "      <th>UR20</th>\n",
       "      <th>UACE20</th>\n",
       "      <th>UATYPE20</th>\n",
       "      <th>FUNCSTAT20</th>\n",
       "      <th>ALAND20</th>\n",
       "      <th>AWATER20</th>\n",
       "      <th>INTPTLAT20</th>\n",
       "      <th>INTPTLON20</th>\n",
       "      <th>HOUSING20</th>\n",
       "      <th>POP20</th>\n",
       "      <th>geometry</th>\n",
       "      <th>county_fip</th>\n",
       "    </tr>\n",
       "  </thead>\n",
       "  <tbody>\n",
       "    <tr>\n",
       "      <th>0</th>\n",
       "      <td>51</td>\n",
       "      <td>065</td>\n",
       "      <td>020101</td>\n",
       "      <td>1027</td>\n",
       "      <td>510650201011027</td>\n",
       "      <td>Block 1027</td>\n",
       "      <td>G5040</td>\n",
       "      <td>R</td>\n",
       "      <td>NaN</td>\n",
       "      <td>NaN</td>\n",
       "      <td>S</td>\n",
       "      <td>1547604</td>\n",
       "      <td>0</td>\n",
       "      <td>+37.8704905</td>\n",
       "      <td>-078.2665116</td>\n",
       "      <td>18</td>\n",
       "      <td>40</td>\n",
       "      <td>POLYGON ((-78.27375 37.87051, -78.27324 37.870...</td>\n",
       "      <td>51065</td>\n",
       "    </tr>\n",
       "    <tr>\n",
       "      <th>1</th>\n",
       "      <td>51</td>\n",
       "      <td>197</td>\n",
       "      <td>050101</td>\n",
       "      <td>1061</td>\n",
       "      <td>511970501011061</td>\n",
       "      <td>Block 1061</td>\n",
       "      <td>G5040</td>\n",
       "      <td>U</td>\n",
       "      <td>97453</td>\n",
       "      <td>U</td>\n",
       "      <td>S</td>\n",
       "      <td>15055</td>\n",
       "      <td>0</td>\n",
       "      <td>+36.9409610</td>\n",
       "      <td>-081.0882937</td>\n",
       "      <td>6</td>\n",
       "      <td>8</td>\n",
       "      <td>POLYGON ((-81.08860 36.94152, -81.08830 36.941...</td>\n",
       "      <td>51197</td>\n",
       "    </tr>\n",
       "    <tr>\n",
       "      <th>2</th>\n",
       "      <td>51</td>\n",
       "      <td>197</td>\n",
       "      <td>050101</td>\n",
       "      <td>3063</td>\n",
       "      <td>511970501013063</td>\n",
       "      <td>Block 3063</td>\n",
       "      <td>G5040</td>\n",
       "      <td>R</td>\n",
       "      <td>NaN</td>\n",
       "      <td>NaN</td>\n",
       "      <td>S</td>\n",
       "      <td>11611</td>\n",
       "      <td>0</td>\n",
       "      <td>+36.9412795</td>\n",
       "      <td>-080.9753199</td>\n",
       "      <td>0</td>\n",
       "      <td>0</td>\n",
       "      <td>POLYGON ((-80.97608 36.94150, -80.97607 36.941...</td>\n",
       "      <td>51197</td>\n",
       "    </tr>\n",
       "    <tr>\n",
       "      <th>3</th>\n",
       "      <td>51</td>\n",
       "      <td>197</td>\n",
       "      <td>050301</td>\n",
       "      <td>1036</td>\n",
       "      <td>511970503011036</td>\n",
       "      <td>Block 1036</td>\n",
       "      <td>G5040</td>\n",
       "      <td>R</td>\n",
       "      <td>NaN</td>\n",
       "      <td>NaN</td>\n",
       "      <td>S</td>\n",
       "      <td>166245</td>\n",
       "      <td>0</td>\n",
       "      <td>+36.8857859</td>\n",
       "      <td>-081.2774449</td>\n",
       "      <td>3</td>\n",
       "      <td>4</td>\n",
       "      <td>POLYGON ((-81.28102 36.88490, -81.28071 36.885...</td>\n",
       "      <td>51197</td>\n",
       "    </tr>\n",
       "    <tr>\n",
       "      <th>4</th>\n",
       "      <td>51</td>\n",
       "      <td>199</td>\n",
       "      <td>050500</td>\n",
       "      <td>2052</td>\n",
       "      <td>511990505002052</td>\n",
       "      <td>Block 2052</td>\n",
       "      <td>G5040</td>\n",
       "      <td>R</td>\n",
       "      <td>NaN</td>\n",
       "      <td>NaN</td>\n",
       "      <td>S</td>\n",
       "      <td>292731</td>\n",
       "      <td>0</td>\n",
       "      <td>+37.2259510</td>\n",
       "      <td>-076.5020127</td>\n",
       "      <td>0</td>\n",
       "      <td>0</td>\n",
       "      <td>POLYGON ((-76.50644 37.22507, -76.50640 37.225...</td>\n",
       "      <td>51199</td>\n",
       "    </tr>\n",
       "    <tr>\n",
       "      <th>...</th>\n",
       "      <td>...</td>\n",
       "      <td>...</td>\n",
       "      <td>...</td>\n",
       "      <td>...</td>\n",
       "      <td>...</td>\n",
       "      <td>...</td>\n",
       "      <td>...</td>\n",
       "      <td>...</td>\n",
       "      <td>...</td>\n",
       "      <td>...</td>\n",
       "      <td>...</td>\n",
       "      <td>...</td>\n",
       "      <td>...</td>\n",
       "      <td>...</td>\n",
       "      <td>...</td>\n",
       "      <td>...</td>\n",
       "      <td>...</td>\n",
       "      <td>...</td>\n",
       "      <td>...</td>\n",
       "    </tr>\n",
       "    <tr>\n",
       "      <th>163486</th>\n",
       "      <td>51</td>\n",
       "      <td>159</td>\n",
       "      <td>040100</td>\n",
       "      <td>3037</td>\n",
       "      <td>511590401003037</td>\n",
       "      <td>Block 3037</td>\n",
       "      <td>G5040</td>\n",
       "      <td>R</td>\n",
       "      <td>NaN</td>\n",
       "      <td>NaN</td>\n",
       "      <td>S</td>\n",
       "      <td>4561610</td>\n",
       "      <td>48673</td>\n",
       "      <td>+37.8986088</td>\n",
       "      <td>-076.7515189</td>\n",
       "      <td>18</td>\n",
       "      <td>38</td>\n",
       "      <td>POLYGON ((-76.76612 37.88520, -76.76576 37.885...</td>\n",
       "      <td>51159</td>\n",
       "    </tr>\n",
       "    <tr>\n",
       "      <th>163487</th>\n",
       "      <td>51</td>\n",
       "      <td>109</td>\n",
       "      <td>950500</td>\n",
       "      <td>3014</td>\n",
       "      <td>511099505003014</td>\n",
       "      <td>Block 3014</td>\n",
       "      <td>G5040</td>\n",
       "      <td>R</td>\n",
       "      <td>NaN</td>\n",
       "      <td>NaN</td>\n",
       "      <td>S</td>\n",
       "      <td>43464</td>\n",
       "      <td>0</td>\n",
       "      <td>+37.8490036</td>\n",
       "      <td>-077.7906355</td>\n",
       "      <td>3</td>\n",
       "      <td>19</td>\n",
       "      <td>POLYGON ((-77.79179 37.84769, -77.79164 37.848...</td>\n",
       "      <td>51109</td>\n",
       "    </tr>\n",
       "    <tr>\n",
       "      <th>163488</th>\n",
       "      <td>51</td>\n",
       "      <td>109</td>\n",
       "      <td>950102</td>\n",
       "      <td>1008</td>\n",
       "      <td>511099501021008</td>\n",
       "      <td>Block 1008</td>\n",
       "      <td>G5040</td>\n",
       "      <td>R</td>\n",
       "      <td>NaN</td>\n",
       "      <td>NaN</td>\n",
       "      <td>S</td>\n",
       "      <td>0</td>\n",
       "      <td>4267</td>\n",
       "      <td>+38.0630940</td>\n",
       "      <td>-077.8308694</td>\n",
       "      <td>0</td>\n",
       "      <td>0</td>\n",
       "      <td>POLYGON ((-77.83180 38.06289, -77.83098 38.063...</td>\n",
       "      <td>51109</td>\n",
       "    </tr>\n",
       "    <tr>\n",
       "      <th>163489</th>\n",
       "      <td>51</td>\n",
       "      <td>650</td>\n",
       "      <td>011800</td>\n",
       "      <td>4009</td>\n",
       "      <td>516500118004009</td>\n",
       "      <td>Block 4009</td>\n",
       "      <td>G5040</td>\n",
       "      <td>U</td>\n",
       "      <td>90892</td>\n",
       "      <td>U</td>\n",
       "      <td>S</td>\n",
       "      <td>81063</td>\n",
       "      <td>0</td>\n",
       "      <td>+37.0129132</td>\n",
       "      <td>-076.3642622</td>\n",
       "      <td>30</td>\n",
       "      <td>188</td>\n",
       "      <td>POLYGON ((-76.36596 37.01361, -76.36514 37.014...</td>\n",
       "      <td>51650</td>\n",
       "    </tr>\n",
       "    <tr>\n",
       "      <th>163490</th>\n",
       "      <td>51</td>\n",
       "      <td>650</td>\n",
       "      <td>010601</td>\n",
       "      <td>2028</td>\n",
       "      <td>516500106012028</td>\n",
       "      <td>Block 2028</td>\n",
       "      <td>G5040</td>\n",
       "      <td>U</td>\n",
       "      <td>90892</td>\n",
       "      <td>U</td>\n",
       "      <td>S</td>\n",
       "      <td>0</td>\n",
       "      <td>66076</td>\n",
       "      <td>+37.0237499</td>\n",
       "      <td>-076.3415541</td>\n",
       "      <td>0</td>\n",
       "      <td>0</td>\n",
       "      <td>POLYGON ((-76.34500 37.02314, -76.34476 37.023...</td>\n",
       "      <td>51650</td>\n",
       "    </tr>\n",
       "  </tbody>\n",
       "</table>\n",
       "<p>163491 rows × 19 columns</p>\n",
       "</div>"
      ],
      "text/plain": [
       "       STATEFP20 COUNTYFP20 TRACTCE20 BLOCKCE20          GEOID20      NAME20  \\\n",
       "0             51        065    020101      1027  510650201011027  Block 1027   \n",
       "1             51        197    050101      1061  511970501011061  Block 1061   \n",
       "2             51        197    050101      3063  511970501013063  Block 3063   \n",
       "3             51        197    050301      1036  511970503011036  Block 1036   \n",
       "4             51        199    050500      2052  511990505002052  Block 2052   \n",
       "...          ...        ...       ...       ...              ...         ...   \n",
       "163486        51        159    040100      3037  511590401003037  Block 3037   \n",
       "163487        51        109    950500      3014  511099505003014  Block 3014   \n",
       "163488        51        109    950102      1008  511099501021008  Block 1008   \n",
       "163489        51        650    011800      4009  516500118004009  Block 4009   \n",
       "163490        51        650    010601      2028  516500106012028  Block 2028   \n",
       "\n",
       "       MTFCC20 UR20 UACE20 UATYPE20 FUNCSTAT20  ALAND20  AWATER20  \\\n",
       "0        G5040    R    NaN      NaN          S  1547604         0   \n",
       "1        G5040    U  97453        U          S    15055         0   \n",
       "2        G5040    R    NaN      NaN          S    11611         0   \n",
       "3        G5040    R    NaN      NaN          S   166245         0   \n",
       "4        G5040    R    NaN      NaN          S   292731         0   \n",
       "...        ...  ...    ...      ...        ...      ...       ...   \n",
       "163486   G5040    R    NaN      NaN          S  4561610     48673   \n",
       "163487   G5040    R    NaN      NaN          S    43464         0   \n",
       "163488   G5040    R    NaN      NaN          S        0      4267   \n",
       "163489   G5040    U  90892        U          S    81063         0   \n",
       "163490   G5040    U  90892        U          S        0     66076   \n",
       "\n",
       "         INTPTLAT20    INTPTLON20  HOUSING20  POP20  \\\n",
       "0       +37.8704905  -078.2665116         18     40   \n",
       "1       +36.9409610  -081.0882937          6      8   \n",
       "2       +36.9412795  -080.9753199          0      0   \n",
       "3       +36.8857859  -081.2774449          3      4   \n",
       "4       +37.2259510  -076.5020127          0      0   \n",
       "...             ...           ...        ...    ...   \n",
       "163486  +37.8986088  -076.7515189         18     38   \n",
       "163487  +37.8490036  -077.7906355          3     19   \n",
       "163488  +38.0630940  -077.8308694          0      0   \n",
       "163489  +37.0129132  -076.3642622         30    188   \n",
       "163490  +37.0237499  -076.3415541          0      0   \n",
       "\n",
       "                                                 geometry county_fip  \n",
       "0       POLYGON ((-78.27375 37.87051, -78.27324 37.870...      51065  \n",
       "1       POLYGON ((-81.08860 36.94152, -81.08830 36.941...      51197  \n",
       "2       POLYGON ((-80.97608 36.94150, -80.97607 36.941...      51197  \n",
       "3       POLYGON ((-81.28102 36.88490, -81.28071 36.885...      51197  \n",
       "4       POLYGON ((-76.50644 37.22507, -76.50640 37.225...      51199  \n",
       "...                                                   ...        ...  \n",
       "163486  POLYGON ((-76.76612 37.88520, -76.76576 37.885...      51159  \n",
       "163487  POLYGON ((-77.79179 37.84769, -77.79164 37.848...      51109  \n",
       "163488  POLYGON ((-77.83180 38.06289, -77.83098 38.063...      51109  \n",
       "163489  POLYGON ((-76.36596 37.01361, -76.36514 37.014...      51650  \n",
       "163490  POLYGON ((-76.34500 37.02314, -76.34476 37.023...      51650  \n",
       "\n",
       "[163491 rows x 19 columns]"
      ]
     },
     "execution_count": 19,
     "metadata": {},
     "output_type": "execute_result"
    }
   ],
   "source": [
    "block_df['county_fip'] = block_df['STATEFP20'] + block_df['COUNTYFP20']\n",
    "block_df"
   ]
  },
  {
   "cell_type": "markdown",
   "id": "10119efc",
   "metadata": {},
   "source": [
    "# Print example address file"
   ]
  },
  {
   "cell_type": "code",
   "execution_count": 20,
   "id": "8a7ef2f6",
   "metadata": {},
   "outputs": [
    {
     "data": {
      "text/html": [
       "<div>\n",
       "<style scoped>\n",
       "    .dataframe tbody tr th:only-of-type {\n",
       "        vertical-align: middle;\n",
       "    }\n",
       "\n",
       "    .dataframe tbody tr th {\n",
       "        vertical-align: top;\n",
       "    }\n",
       "\n",
       "    .dataframe thead th {\n",
       "        text-align: right;\n",
       "    }\n",
       "</style>\n",
       "<table border=\"1\" class=\"dataframe\">\n",
       "  <thead>\n",
       "    <tr style=\"text-align: right;\">\n",
       "      <th></th>\n",
       "      <th>state</th>\n",
       "      <th>county</th>\n",
       "      <th>zip</th>\n",
       "      <th>longitude</th>\n",
       "      <th>latitude</th>\n",
       "      <th>address</th>\n",
       "      <th>id</th>\n",
       "    </tr>\n",
       "  </thead>\n",
       "  <tbody>\n",
       "    <tr>\n",
       "      <th>0</th>\n",
       "      <td>va</td>\n",
       "      <td>craig</td>\n",
       "      <td>24127</td>\n",
       "      <td>-80.346633</td>\n",
       "      <td>37.376760</td>\n",
       "      <td>758 valley roller mill rd,new castle,va,24127</td>\n",
       "      <td>va_craig</td>\n",
       "    </tr>\n",
       "    <tr>\n",
       "      <th>1</th>\n",
       "      <td>va</td>\n",
       "      <td>craig</td>\n",
       "      <td>24128</td>\n",
       "      <td>-80.346100</td>\n",
       "      <td>37.385808</td>\n",
       "      <td>447 allen hill dr,newport,va,24128</td>\n",
       "      <td>va_craig</td>\n",
       "    </tr>\n",
       "    <tr>\n",
       "      <th>2</th>\n",
       "      <td>va</td>\n",
       "      <td>craig</td>\n",
       "      <td>24128</td>\n",
       "      <td>-80.357049</td>\n",
       "      <td>37.386491</td>\n",
       "      <td>106 allen hill dr,newport,va,24128</td>\n",
       "      <td>va_craig</td>\n",
       "    </tr>\n",
       "    <tr>\n",
       "      <th>3</th>\n",
       "      <td>va</td>\n",
       "      <td>craig</td>\n",
       "      <td>24128</td>\n",
       "      <td>-80.367980</td>\n",
       "      <td>37.378768</td>\n",
       "      <td>477 olde glade trl,newport,va,24128</td>\n",
       "      <td>va_craig</td>\n",
       "    </tr>\n",
       "    <tr>\n",
       "      <th>4</th>\n",
       "      <td>va</td>\n",
       "      <td>craig</td>\n",
       "      <td>24128</td>\n",
       "      <td>-80.367238</td>\n",
       "      <td>37.360939</td>\n",
       "      <td>3923 northside rd,newport,va,24128</td>\n",
       "      <td>va_craig</td>\n",
       "    </tr>\n",
       "    <tr>\n",
       "      <th>...</th>\n",
       "      <td>...</td>\n",
       "      <td>...</td>\n",
       "      <td>...</td>\n",
       "      <td>...</td>\n",
       "      <td>...</td>\n",
       "      <td>...</td>\n",
       "      <td>...</td>\n",
       "    </tr>\n",
       "    <tr>\n",
       "      <th>3290</th>\n",
       "      <td>va</td>\n",
       "      <td>craig</td>\n",
       "      <td>24131</td>\n",
       "      <td>-80.256852</td>\n",
       "      <td>37.569588</td>\n",
       "      <td>16068 paint bank rd,paint bank,va,24131</td>\n",
       "      <td>va_craig</td>\n",
       "    </tr>\n",
       "    <tr>\n",
       "      <th>3291</th>\n",
       "      <td>va</td>\n",
       "      <td>craig</td>\n",
       "      <td>24128</td>\n",
       "      <td>-80.366784</td>\n",
       "      <td>37.371116</td>\n",
       "      <td>1039 olde glade trl,newport,va,24128</td>\n",
       "      <td>va_craig</td>\n",
       "    </tr>\n",
       "    <tr>\n",
       "      <th>3292</th>\n",
       "      <td>va</td>\n",
       "      <td>craig</td>\n",
       "      <td>24127</td>\n",
       "      <td>-80.136663</td>\n",
       "      <td>37.445012</td>\n",
       "      <td>1025 waltons mountain rd,new castle,va,24127</td>\n",
       "      <td>va_craig</td>\n",
       "    </tr>\n",
       "    <tr>\n",
       "      <th>3293</th>\n",
       "      <td>va</td>\n",
       "      <td>craig</td>\n",
       "      <td>24131</td>\n",
       "      <td>-80.244443</td>\n",
       "      <td>37.570810</td>\n",
       "      <td>935 hidden meadow ln,paint bank,va,24131</td>\n",
       "      <td>va_craig</td>\n",
       "    </tr>\n",
       "    <tr>\n",
       "      <th>3294</th>\n",
       "      <td>va</td>\n",
       "      <td>craig</td>\n",
       "      <td>24070</td>\n",
       "      <td>-80.225754</td>\n",
       "      <td>37.390205</td>\n",
       "      <td>505 sugar maple ln,catawba,va,24070</td>\n",
       "      <td>va_craig</td>\n",
       "    </tr>\n",
       "  </tbody>\n",
       "</table>\n",
       "<p>3295 rows × 7 columns</p>\n",
       "</div>"
      ],
      "text/plain": [
       "     state county    zip  longitude   latitude  \\\n",
       "0       va  craig  24127 -80.346633  37.376760   \n",
       "1       va  craig  24128 -80.346100  37.385808   \n",
       "2       va  craig  24128 -80.357049  37.386491   \n",
       "3       va  craig  24128 -80.367980  37.378768   \n",
       "4       va  craig  24128 -80.367238  37.360939   \n",
       "...    ...    ...    ...        ...        ...   \n",
       "3290    va  craig  24131 -80.256852  37.569588   \n",
       "3291    va  craig  24128 -80.366784  37.371116   \n",
       "3292    va  craig  24127 -80.136663  37.445012   \n",
       "3293    va  craig  24131 -80.244443  37.570810   \n",
       "3294    va  craig  24070 -80.225754  37.390205   \n",
       "\n",
       "                                            address        id  \n",
       "0     758 valley roller mill rd,new castle,va,24127  va_craig  \n",
       "1                447 allen hill dr,newport,va,24128  va_craig  \n",
       "2                106 allen hill dr,newport,va,24128  va_craig  \n",
       "3               477 olde glade trl,newport,va,24128  va_craig  \n",
       "4                3923 northside rd,newport,va,24128  va_craig  \n",
       "...                                             ...       ...  \n",
       "3290        16068 paint bank rd,paint bank,va,24131  va_craig  \n",
       "3291           1039 olde glade trl,newport,va,24128  va_craig  \n",
       "3292   1025 waltons mountain rd,new castle,va,24127  va_craig  \n",
       "3293       935 hidden meadow ln,paint bank,va,24131  va_craig  \n",
       "3294            505 sugar maple ln,catawba,va,24070  va_craig  \n",
       "\n",
       "[3295 rows x 7 columns]"
      ]
     },
     "execution_count": 20,
     "metadata": {},
     "output_type": "execute_result"
    }
   ],
   "source": [
    "eaf = pd.read_csv('../data/va_craig.csv.xz')\n",
    "eaf"
   ]
  },
  {
   "cell_type": "code",
   "execution_count": 21,
   "id": "9bde8ab2",
   "metadata": {},
   "outputs": [
    {
     "data": {
      "text/plain": [
       "Index(['state', 'county', 'zip', 'longitude', 'latitude', 'address', 'id'], dtype='object')"
      ]
     },
     "execution_count": 21,
     "metadata": {},
     "output_type": "execute_result"
    }
   ],
   "source": [
    "eaf.columns"
   ]
  },
  {
   "cell_type": "code",
   "execution_count": 22,
   "id": "23ba57f7",
   "metadata": {},
   "outputs": [],
   "source": [
    "import warnings\n",
    "warnings.filterwarnings(\"ignore\")"
   ]
  },
  {
   "cell_type": "markdown",
   "id": "e6d3e845",
   "metadata": {},
   "source": [
    "# You can map fips using the geometry "
   ]
  },
  {
   "cell_type": "code",
   "execution_count": 29,
   "id": "94cfb658",
   "metadata": {},
   "outputs": [
    {
     "name": "stderr",
     "output_type": "stream",
     "text": [
      "\r",
      "  0%|                                                                                                          | 0/133 [00:00<?, ?it/s]"
     ]
    },
    {
     "name": "stdout",
     "output_type": "stream",
     "text": [
      "Index(['state', 'county', 'zip', 'longitude', 'latitude', 'address', 'id',\n",
      "       'GEOID20'],\n",
      "      dtype='object')\n"
     ]
    },
    {
     "name": "stderr",
     "output_type": "stream",
     "text": [
      "\r",
      "  1%|▋                                                                                                 | 1/133 [00:01<02:29,  1.13s/it]"
     ]
    },
    {
     "name": "stdout",
     "output_type": "stream",
     "text": [
      "Index(['state', 'county', 'zip', 'longitude', 'latitude', 'address', 'id',\n",
      "       'GEOID20'],\n",
      "      dtype='object')\n"
     ]
    },
    {
     "name": "stderr",
     "output_type": "stream",
     "text": [
      "\r",
      "  2%|█▍                                                                                                | 2/133 [00:02<03:18,  1.52s/it]"
     ]
    },
    {
     "name": "stdout",
     "output_type": "stream",
     "text": [
      "Index(['state', 'county', 'zip', 'longitude', 'latitude', 'address', 'id',\n",
      "       'GEOID20'],\n",
      "      dtype='object')\n"
     ]
    },
    {
     "name": "stderr",
     "output_type": "stream",
     "text": [
      "\r",
      "  2%|██▏                                                                                               | 3/133 [00:04<03:22,  1.55s/it]"
     ]
    },
    {
     "name": "stdout",
     "output_type": "stream",
     "text": [
      "Index(['state', 'county', 'zip', 'longitude', 'latitude', 'address', 'id',\n",
      "       'GEOID20'],\n",
      "      dtype='object')\n"
     ]
    },
    {
     "name": "stderr",
     "output_type": "stream",
     "text": [
      "\r",
      "  3%|██▉                                                                                               | 4/133 [00:04<02:17,  1.06s/it]"
     ]
    },
    {
     "name": "stdout",
     "output_type": "stream",
     "text": [
      "Index(['state', 'county', 'zip', 'longitude', 'latitude', 'address', 'id',\n",
      "       'GEOID20'],\n",
      "      dtype='object')\n"
     ]
    },
    {
     "name": "stderr",
     "output_type": "stream",
     "text": [
      "\r",
      "  4%|███▋                                                                                              | 5/133 [00:05<01:39,  1.29it/s]"
     ]
    },
    {
     "name": "stdout",
     "output_type": "stream",
     "text": [
      "Index(['state', 'county', 'zip', 'longitude', 'latitude', 'address', 'id',\n",
      "       'GEOID20'],\n",
      "      dtype='object')\n"
     ]
    },
    {
     "name": "stderr",
     "output_type": "stream",
     "text": [
      "\r",
      "  5%|████▍                                                                                             | 6/133 [00:05<01:31,  1.39it/s]"
     ]
    },
    {
     "name": "stdout",
     "output_type": "stream",
     "text": [
      "Index(['state', 'county', 'zip', 'longitude', 'latitude', 'address', 'id',\n",
      "       'GEOID20'],\n",
      "      dtype='object')\n"
     ]
    },
    {
     "name": "stderr",
     "output_type": "stream",
     "text": [
      "\r",
      "  5%|█████▏                                                                                            | 7/133 [00:06<01:15,  1.67it/s]"
     ]
    },
    {
     "name": "stdout",
     "output_type": "stream",
     "text": [
      "Index(['state', 'county', 'zip', 'longitude', 'latitude', 'address', 'id',\n",
      "       'GEOID20'],\n",
      "      dtype='object')\n"
     ]
    },
    {
     "name": "stderr",
     "output_type": "stream",
     "text": [
      "\r",
      "  6%|█████▉                                                                                            | 8/133 [00:08<02:11,  1.05s/it]"
     ]
    },
    {
     "name": "stdout",
     "output_type": "stream",
     "text": [
      "Index(['state', 'county', 'zip', 'longitude', 'latitude', 'address', 'id',\n",
      "       'GEOID20'],\n",
      "      dtype='object')\n"
     ]
    },
    {
     "name": "stderr",
     "output_type": "stream",
     "text": [
      "  8%|███████▎                                                                                         | 10/133 [00:09<01:47,  1.15it/s]"
     ]
    },
    {
     "name": "stdout",
     "output_type": "stream",
     "text": [
      "Index(['state', 'county', 'zip', 'longitude', 'latitude', 'address', 'id',\n",
      "       'GEOID20'],\n",
      "      dtype='object')\n",
      "Index(['state', 'county', 'zip', 'longitude', 'latitude', 'address', 'id',\n",
      "       'GEOID20'],\n",
      "      dtype='object')\n"
     ]
    },
    {
     "name": "stderr",
     "output_type": "stream",
     "text": [
      "  9%|████████▊                                                                                        | 12/133 [00:11<01:39,  1.22it/s]"
     ]
    },
    {
     "name": "stdout",
     "output_type": "stream",
     "text": [
      "Index(['state', 'county', 'zip', 'longitude', 'latitude', 'address', 'id',\n",
      "       'GEOID20'],\n",
      "      dtype='object')\n",
      "Index(['state', 'county', 'zip', 'longitude', 'latitude', 'address', 'id',\n",
      "       'GEOID20'],\n",
      "      dtype='object')\n"
     ]
    },
    {
     "name": "stderr",
     "output_type": "stream",
     "text": [
      "\r",
      " 10%|█████████▍                                                                                       | 13/133 [00:12<01:31,  1.32it/s]"
     ]
    },
    {
     "name": "stdout",
     "output_type": "stream",
     "text": [
      "Index(['state', 'county', 'zip', 'longitude', 'latitude', 'address', 'id',\n",
      "       'GEOID20'],\n",
      "      dtype='object')\n"
     ]
    },
    {
     "name": "stderr",
     "output_type": "stream",
     "text": [
      "\r",
      " 11%|██████████▏                                                                                      | 14/133 [00:12<01:16,  1.55it/s]"
     ]
    },
    {
     "name": "stdout",
     "output_type": "stream",
     "text": [
      "Index(['state', 'county', 'zip', 'longitude', 'latitude', 'address', 'id',\n",
      "       'GEOID20'],\n",
      "      dtype='object')\n"
     ]
    },
    {
     "name": "stderr",
     "output_type": "stream",
     "text": [
      "\r",
      " 11%|██████████▉                                                                                      | 15/133 [00:12<01:07,  1.75it/s]"
     ]
    },
    {
     "name": "stdout",
     "output_type": "stream",
     "text": [
      "Index(['state', 'county', 'zip', 'longitude', 'latitude', 'address', 'id',\n",
      "       'GEOID20'],\n",
      "      dtype='object')\n"
     ]
    },
    {
     "name": "stderr",
     "output_type": "stream",
     "text": [
      "\r",
      " 12%|███████████▋                                                                                     | 16/133 [00:13<01:06,  1.75it/s]"
     ]
    },
    {
     "name": "stdout",
     "output_type": "stream",
     "text": [
      "Index(['state', 'county', 'zip', 'longitude', 'latitude', 'address', 'id',\n",
      "       'GEOID20'],\n",
      "      dtype='object')\n"
     ]
    },
    {
     "name": "stderr",
     "output_type": "stream",
     "text": [
      " 14%|█████████████▏                                                                                   | 18/133 [00:13<00:44,  2.59it/s]"
     ]
    },
    {
     "name": "stdout",
     "output_type": "stream",
     "text": [
      "Index(['state', 'county', 'zip', 'longitude', 'latitude', 'address', 'id',\n",
      "       'GEOID20'],\n",
      "      dtype='object')\n",
      "Index(['state', 'county', 'zip', 'longitude', 'latitude', 'address', 'id',\n",
      "       'GEOID20'],\n",
      "      dtype='object')\n"
     ]
    },
    {
     "name": "stderr",
     "output_type": "stream",
     "text": [
      "\r",
      " 14%|█████████████▊                                                                                   | 19/133 [00:15<01:23,  1.36it/s]"
     ]
    },
    {
     "name": "stdout",
     "output_type": "stream",
     "text": [
      "Index(['state', 'county', 'zip', 'longitude', 'latitude', 'address', 'id',\n",
      "       'GEOID20'],\n",
      "      dtype='object')\n"
     ]
    },
    {
     "name": "stderr",
     "output_type": "stream",
     "text": [
      "\r",
      " 15%|██████████████▌                                                                                  | 20/133 [00:16<01:18,  1.45it/s]"
     ]
    },
    {
     "name": "stdout",
     "output_type": "stream",
     "text": [
      "Index(['state', 'county', 'zip', 'longitude', 'latitude', 'address', 'id',\n",
      "       'GEOID20'],\n",
      "      dtype='object')\n"
     ]
    },
    {
     "name": "stderr",
     "output_type": "stream",
     "text": [
      " 17%|████████████████                                                                                 | 22/133 [00:17<01:02,  1.78it/s]"
     ]
    },
    {
     "name": "stdout",
     "output_type": "stream",
     "text": [
      "Index(['state', 'county', 'zip', 'longitude', 'latitude', 'address', 'id',\n",
      "       'GEOID20'],\n",
      "      dtype='object')\n",
      "Index(['state', 'county', 'zip', 'longitude', 'latitude', 'address', 'id',\n",
      "       'GEOID20'],\n",
      "      dtype='object')\n"
     ]
    },
    {
     "name": "stderr",
     "output_type": "stream",
     "text": [
      "\r",
      " 17%|████████████████▊                                                                                | 23/133 [00:17<00:52,  2.10it/s]"
     ]
    },
    {
     "name": "stdout",
     "output_type": "stream",
     "text": [
      "Index(['state', 'county', 'zip', 'longitude', 'latitude', 'address', 'id',\n",
      "       'GEOID20'],\n",
      "      dtype='object')\n"
     ]
    },
    {
     "name": "stderr",
     "output_type": "stream",
     "text": [
      "\r",
      " 18%|█████████████████▌                                                                               | 24/133 [00:18<00:59,  1.82it/s]"
     ]
    },
    {
     "name": "stdout",
     "output_type": "stream",
     "text": [
      "Index(['state', 'county', 'zip', 'longitude', 'latitude', 'address', 'id',\n",
      "       'GEOID20'],\n",
      "      dtype='object')\n"
     ]
    },
    {
     "name": "stderr",
     "output_type": "stream",
     "text": [
      "\r",
      " 19%|██████████████████▏                                                                              | 25/133 [00:23<03:24,  1.89s/it]"
     ]
    },
    {
     "name": "stdout",
     "output_type": "stream",
     "text": [
      "Index(['state', 'county', 'zip', 'longitude', 'latitude', 'address', 'id',\n",
      "       'GEOID20'],\n",
      "      dtype='object')\n"
     ]
    },
    {
     "name": "stderr",
     "output_type": "stream",
     "text": [
      "\r",
      " 20%|██████████████████▉                                                                              | 26/133 [00:31<06:44,  3.78s/it]"
     ]
    },
    {
     "name": "stdout",
     "output_type": "stream",
     "text": [
      "Index(['state', 'county', 'zip', 'longitude', 'latitude', 'address', 'id',\n",
      "       'GEOID20'],\n",
      "      dtype='object')\n"
     ]
    },
    {
     "name": "stderr",
     "output_type": "stream",
     "text": [
      "\r",
      " 20%|███████████████████▋                                                                             | 27/133 [00:31<04:48,  2.72s/it]"
     ]
    },
    {
     "name": "stdout",
     "output_type": "stream",
     "text": [
      "Index(['state', 'county', 'zip', 'longitude', 'latitude', 'address', 'id',\n",
      "       'GEOID20'],\n",
      "      dtype='object')\n"
     ]
    },
    {
     "name": "stderr",
     "output_type": "stream",
     "text": [
      " 22%|█████████████████████▏                                                                           | 29/133 [00:32<02:30,  1.45s/it]"
     ]
    },
    {
     "name": "stdout",
     "output_type": "stream",
     "text": [
      "Index(['state', 'county', 'zip', 'longitude', 'latitude', 'address', 'id',\n",
      "       'GEOID20'],\n",
      "      dtype='object')\n",
      "Index(['state', 'county', 'zip', 'longitude', 'latitude', 'address', 'id',\n",
      "       'GEOID20'],\n",
      "      dtype='object')\n"
     ]
    },
    {
     "name": "stderr",
     "output_type": "stream",
     "text": [
      "\r",
      " 23%|█████████████████████▉                                                                           | 30/133 [00:32<01:48,  1.05s/it]"
     ]
    },
    {
     "name": "stdout",
     "output_type": "stream",
     "text": [
      "Index(['state', 'county', 'zip', 'longitude', 'latitude', 'address', 'id',\n",
      "       'GEOID20'],\n",
      "      dtype='object')\n"
     ]
    },
    {
     "name": "stderr",
     "output_type": "stream",
     "text": [
      " 24%|███████████████████████▎                                                                         | 32/133 [00:33<01:14,  1.35it/s]"
     ]
    },
    {
     "name": "stdout",
     "output_type": "stream",
     "text": [
      "Index(['state', 'county', 'zip', 'longitude', 'latitude', 'address', 'id',\n",
      "       'GEOID20'],\n",
      "      dtype='object')\n",
      "Index(['state', 'county', 'zip', 'longitude', 'latitude', 'address', 'id',\n",
      "       'GEOID20'],\n",
      "      dtype='object')\n"
     ]
    },
    {
     "name": "stderr",
     "output_type": "stream",
     "text": [
      "\r",
      " 25%|████████████████████████                                                                         | 33/133 [00:34<01:19,  1.25it/s]"
     ]
    },
    {
     "name": "stdout",
     "output_type": "stream",
     "text": [
      "Index(['state', 'county', 'zip', 'longitude', 'latitude', 'address', 'id',\n",
      "       'GEOID20'],\n",
      "      dtype='object')\n"
     ]
    },
    {
     "name": "stderr",
     "output_type": "stream",
     "text": [
      "\r",
      " 26%|████████████████████████▊                                                                        | 34/133 [00:34<01:06,  1.49it/s]"
     ]
    },
    {
     "name": "stdout",
     "output_type": "stream",
     "text": [
      "Index(['state', 'county', 'zip', 'longitude', 'latitude', 'address', 'id',\n",
      "       'GEOID20'],\n",
      "      dtype='object')\n"
     ]
    },
    {
     "name": "stderr",
     "output_type": "stream",
     "text": [
      " 27%|██████████████████████████▎                                                                      | 36/133 [00:35<00:45,  2.13it/s]"
     ]
    },
    {
     "name": "stdout",
     "output_type": "stream",
     "text": [
      "Index(['state', 'county', 'zip', 'longitude', 'latitude', 'address', 'id',\n",
      "       'GEOID20'],\n",
      "      dtype='object')\n",
      "Index(['state', 'county', 'zip', 'longitude', 'latitude', 'address', 'id',\n",
      "       'GEOID20'],\n",
      "      dtype='object')\n"
     ]
    },
    {
     "name": "stderr",
     "output_type": "stream",
     "text": [
      "\r",
      " 28%|██████████████████████████▉                                                                      | 37/133 [00:35<00:38,  2.51it/s]"
     ]
    },
    {
     "name": "stdout",
     "output_type": "stream",
     "text": [
      "Index(['state', 'county', 'zip', 'longitude', 'latitude', 'address', 'id',\n",
      "       'GEOID20'],\n",
      "      dtype='object')\n"
     ]
    },
    {
     "name": "stderr",
     "output_type": "stream",
     "text": [
      "\r",
      " 29%|███████████████████████████▋                                                                     | 38/133 [00:52<08:26,  5.33s/it]"
     ]
    },
    {
     "name": "stdout",
     "output_type": "stream",
     "text": [
      "Index(['state', 'county', 'zip', 'longitude', 'latitude', 'address', 'id',\n",
      "       'GEOID20'],\n",
      "      dtype='object')\n"
     ]
    },
    {
     "name": "stderr",
     "output_type": "stream",
     "text": [
      " 30%|█████████████████████████████▏                                                                   | 40/133 [00:52<04:13,  2.73s/it]"
     ]
    },
    {
     "name": "stdout",
     "output_type": "stream",
     "text": [
      "Index(['state', 'county', 'zip', 'longitude', 'latitude', 'address', 'id',\n",
      "       'GEOID20'],\n",
      "      dtype='object')\n",
      "Index(['state', 'county', 'zip', 'longitude', 'latitude', 'address', 'id',\n",
      "       'GEOID20'],\n",
      "      dtype='object')\n"
     ]
    },
    {
     "name": "stderr",
     "output_type": "stream",
     "text": [
      "\r",
      " 31%|█████████████████████████████▉                                                                   | 41/133 [00:53<03:29,  2.27s/it]"
     ]
    },
    {
     "name": "stdout",
     "output_type": "stream",
     "text": [
      "Index(['state', 'county', 'zip', 'longitude', 'latitude', 'address', 'id',\n",
      "       'GEOID20'],\n",
      "      dtype='object')\n"
     ]
    },
    {
     "name": "stderr",
     "output_type": "stream",
     "text": [
      "\r",
      " 32%|██████████████████████████████▋                                                                  | 42/133 [00:54<02:34,  1.70s/it]"
     ]
    },
    {
     "name": "stdout",
     "output_type": "stream",
     "text": [
      "Index(['state', 'county', 'zip', 'longitude', 'latitude', 'address', 'id',\n",
      "       'GEOID20'],\n",
      "      dtype='object')\n"
     ]
    },
    {
     "name": "stderr",
     "output_type": "stream",
     "text": [
      "\r",
      " 32%|███████████████████████████████▎                                                                 | 43/133 [00:54<01:59,  1.33s/it]"
     ]
    },
    {
     "name": "stdout",
     "output_type": "stream",
     "text": [
      "Index(['state', 'county', 'zip', 'longitude', 'latitude', 'address', 'id',\n",
      "       'GEOID20'],\n",
      "      dtype='object')\n"
     ]
    },
    {
     "name": "stderr",
     "output_type": "stream",
     "text": [
      " 34%|████████████████████████████████▊                                                                | 45/133 [00:56<01:24,  1.05it/s]"
     ]
    },
    {
     "name": "stdout",
     "output_type": "stream",
     "text": [
      "Index(['state', 'county', 'zip', 'longitude', 'latitude', 'address', 'id',\n",
      "       'GEOID20'],\n",
      "      dtype='object')\n",
      "Index(['state', 'county', 'zip', 'longitude', 'latitude', 'address', 'id',\n",
      "       'GEOID20'],\n",
      "      dtype='object')\n"
     ]
    },
    {
     "name": "stderr",
     "output_type": "stream",
     "text": [
      "\r",
      " 35%|█████████████████████████████████▌                                                               | 46/133 [00:57<01:41,  1.17s/it]"
     ]
    },
    {
     "name": "stdout",
     "output_type": "stream",
     "text": [
      "Index(['state', 'county', 'zip', 'longitude', 'latitude', 'address', 'id',\n",
      "       'GEOID20'],\n",
      "      dtype='object')\n"
     ]
    },
    {
     "name": "stderr",
     "output_type": "stream",
     "text": [
      " 36%|███████████████████████████████████                                                              | 48/133 [00:58<00:59,  1.43it/s]"
     ]
    },
    {
     "name": "stdout",
     "output_type": "stream",
     "text": [
      "Index(['state', 'county', 'zip', 'longitude', 'latitude', 'address', 'id',\n",
      "       'GEOID20'],\n",
      "      dtype='object')\n",
      "Index(['state', 'county', 'zip', 'longitude', 'latitude', 'address', 'id',\n",
      "       'GEOID20'],\n",
      "      dtype='object')\n"
     ]
    },
    {
     "name": "stderr",
     "output_type": "stream",
     "text": [
      "\r",
      " 37%|███████████████████████████████████▋                                                             | 49/133 [00:58<00:49,  1.69it/s]"
     ]
    },
    {
     "name": "stdout",
     "output_type": "stream",
     "text": [
      "Index(['state', 'county', 'zip', 'longitude', 'latitude', 'address', 'id',\n",
      "       'GEOID20'],\n",
      "      dtype='object')\n"
     ]
    },
    {
     "name": "stderr",
     "output_type": "stream",
     "text": [
      "\r",
      " 38%|████████████████████████████████████▍                                                            | 50/133 [00:59<00:51,  1.60it/s]"
     ]
    },
    {
     "name": "stdout",
     "output_type": "stream",
     "text": [
      "Index(['state', 'county', 'zip', 'longitude', 'latitude', 'address', 'id',\n",
      "       'GEOID20'],\n",
      "      dtype='object')\n"
     ]
    },
    {
     "name": "stderr",
     "output_type": "stream",
     "text": [
      "\r",
      " 38%|█████████████████████████████████████▏                                                           | 51/133 [00:59<00:48,  1.69it/s]"
     ]
    },
    {
     "name": "stdout",
     "output_type": "stream",
     "text": [
      "Index(['state', 'county', 'zip', 'longitude', 'latitude', 'address', 'id',\n",
      "       'GEOID20'],\n",
      "      dtype='object')\n"
     ]
    },
    {
     "name": "stderr",
     "output_type": "stream",
     "text": [
      "\r",
      " 39%|█████████████████████████████████████▉                                                           | 52/133 [01:00<00:45,  1.79it/s]"
     ]
    },
    {
     "name": "stdout",
     "output_type": "stream",
     "text": [
      "Index(['state', 'county', 'zip', 'longitude', 'latitude', 'address', 'id',\n",
      "       'GEOID20'],\n",
      "      dtype='object')\n"
     ]
    },
    {
     "name": "stderr",
     "output_type": "stream",
     "text": [
      " 41%|███████████████████████████████████████▍                                                         | 54/133 [01:00<00:31,  2.53it/s]"
     ]
    },
    {
     "name": "stdout",
     "output_type": "stream",
     "text": [
      "Index(['state', 'county', 'zip', 'longitude', 'latitude', 'address', 'id',\n",
      "       'GEOID20'],\n",
      "      dtype='object')\n",
      "Index(['state', 'county', 'zip', 'longitude', 'latitude', 'address', 'id',\n",
      "       'GEOID20'],\n",
      "      dtype='object')\n"
     ]
    },
    {
     "name": "stderr",
     "output_type": "stream",
     "text": [
      "\r",
      " 41%|████████████████████████████████████████                                                         | 55/133 [01:01<00:40,  1.93it/s]"
     ]
    },
    {
     "name": "stdout",
     "output_type": "stream",
     "text": [
      "Index(['state', 'county', 'zip', 'longitude', 'latitude', 'address', 'id',\n",
      "       'GEOID20'],\n",
      "      dtype='object')\n"
     ]
    },
    {
     "name": "stderr",
     "output_type": "stream",
     "text": [
      "\r",
      " 42%|████████████████████████████████████████▊                                                        | 56/133 [01:04<01:39,  1.29s/it]"
     ]
    },
    {
     "name": "stdout",
     "output_type": "stream",
     "text": [
      "Index(['state', 'county', 'zip', 'longitude', 'latitude', 'address', 'id',\n",
      "       'GEOID20'],\n",
      "      dtype='object')\n"
     ]
    },
    {
     "name": "stderr",
     "output_type": "stream",
     "text": [
      "\r",
      " 43%|█████████████████████████████████████████▌                                                       | 57/133 [01:06<01:55,  1.52s/it]"
     ]
    },
    {
     "name": "stdout",
     "output_type": "stream",
     "text": [
      "Index(['state', 'county', 'zip', 'longitude', 'latitude', 'address', 'id',\n",
      "       'GEOID20'],\n",
      "      dtype='object')\n"
     ]
    },
    {
     "name": "stderr",
     "output_type": "stream",
     "text": [
      "\r",
      " 44%|██████████████████████████████████████████▎                                                      | 58/133 [01:07<01:40,  1.34s/it]"
     ]
    },
    {
     "name": "stdout",
     "output_type": "stream",
     "text": [
      "Index(['state', 'county', 'zip', 'longitude', 'latitude', 'address', 'id',\n",
      "       'GEOID20'],\n",
      "      dtype='object')\n"
     ]
    },
    {
     "name": "stderr",
     "output_type": "stream",
     "text": [
      "\r",
      " 44%|███████████████████████████████████████████                                                      | 59/133 [01:13<03:29,  2.83s/it]"
     ]
    },
    {
     "name": "stdout",
     "output_type": "stream",
     "text": [
      "Index(['state', 'county', 'zip', 'longitude', 'latitude', 'address', 'id',\n",
      "       'GEOID20'],\n",
      "      dtype='object')\n"
     ]
    },
    {
     "name": "stderr",
     "output_type": "stream",
     "text": [
      "\r",
      " 45%|███████████████████████████████████████████▊                                                     | 60/133 [01:15<02:55,  2.41s/it]"
     ]
    },
    {
     "name": "stdout",
     "output_type": "stream",
     "text": [
      "Index(['state', 'county', 'zip', 'longitude', 'latitude', 'address', 'id',\n",
      "       'GEOID20'],\n",
      "      dtype='object')\n",
      "Index(['state', 'county', 'zip', 'longitude', 'latitude', 'address', 'id',\n",
      "       'GEOID20'],\n",
      "      dtype='object')\n"
     ]
    },
    {
     "name": "stderr",
     "output_type": "stream",
     "text": [
      "\r",
      " 47%|█████████████████████████████████████████████▏                                                   | 62/133 [01:15<01:40,  1.41s/it]"
     ]
    },
    {
     "name": "stdout",
     "output_type": "stream",
     "text": [
      "Index(['state', 'county', 'zip', 'longitude', 'latitude', 'address', 'id',\n",
      "       'GEOID20'],\n",
      "      dtype='object')\n"
     ]
    },
    {
     "name": "stderr",
     "output_type": "stream",
     "text": [
      "\r",
      " 47%|█████████████████████████████████████████████▉                                                   | 63/133 [01:16<01:27,  1.25s/it]"
     ]
    },
    {
     "name": "stdout",
     "output_type": "stream",
     "text": [
      "Index(['state', 'county', 'zip', 'longitude', 'latitude', 'address', 'id',\n",
      "       'GEOID20'],\n",
      "      dtype='object')\n"
     ]
    },
    {
     "name": "stderr",
     "output_type": "stream",
     "text": [
      " 49%|███████████████████████████████████████████████▍                                                 | 65/133 [01:18<01:10,  1.04s/it]"
     ]
    },
    {
     "name": "stdout",
     "output_type": "stream",
     "text": [
      "Index(['state', 'county', 'zip', 'longitude', 'latitude', 'address', 'id',\n",
      "       'GEOID20'],\n",
      "      dtype='object')\n",
      "Index(['state', 'county', 'zip', 'longitude', 'latitude', 'address', 'id',\n",
      "       'GEOID20'],\n",
      "      dtype='object')\n"
     ]
    },
    {
     "name": "stderr",
     "output_type": "stream",
     "text": [
      "\r",
      " 50%|████████████████████████████████████████████████▏                                                | 66/133 [01:19<00:58,  1.14it/s]"
     ]
    },
    {
     "name": "stdout",
     "output_type": "stream",
     "text": [
      "Index(['state', 'county', 'zip', 'longitude', 'latitude', 'address', 'id',\n",
      "       'GEOID20'],\n",
      "      dtype='object')\n"
     ]
    },
    {
     "name": "stderr",
     "output_type": "stream",
     "text": [
      "\r",
      " 50%|████████████████████████████████████████████████▊                                                | 67/133 [01:19<00:47,  1.39it/s]"
     ]
    },
    {
     "name": "stdout",
     "output_type": "stream",
     "text": [
      "Index(['state', 'county', 'zip', 'longitude', 'latitude', 'address', 'id',\n",
      "       'GEOID20'],\n",
      "      dtype='object')\n"
     ]
    },
    {
     "name": "stderr",
     "output_type": "stream",
     "text": [
      "\r",
      " 51%|█████████████████████████████████████████████████▌                                               | 68/133 [01:19<00:39,  1.67it/s]"
     ]
    },
    {
     "name": "stdout",
     "output_type": "stream",
     "text": [
      "Index(['state', 'county', 'zip', 'longitude', 'latitude', 'address', 'id',\n",
      "       'GEOID20'],\n",
      "      dtype='object')\n"
     ]
    },
    {
     "name": "stderr",
     "output_type": "stream",
     "text": [
      " 53%|███████████████████████████████████████████████████                                              | 70/133 [01:20<00:27,  2.29it/s]"
     ]
    },
    {
     "name": "stdout",
     "output_type": "stream",
     "text": [
      "Index(['state', 'county', 'zip', 'longitude', 'latitude', 'address', 'id',\n",
      "       'GEOID20'],\n",
      "      dtype='object')\n",
      "Index(['state', 'county', 'zip', 'longitude', 'latitude', 'address', 'id',\n",
      "       'GEOID20'],\n",
      "      dtype='object')\n"
     ]
    },
    {
     "name": "stderr",
     "output_type": "stream",
     "text": [
      "\r",
      " 53%|███████████████████████████████████████████████████▊                                             | 71/133 [01:26<02:17,  2.21s/it]"
     ]
    },
    {
     "name": "stdout",
     "output_type": "stream",
     "text": [
      "Index(['state', 'county', 'zip', 'longitude', 'latitude', 'address', 'id',\n",
      "       'GEOID20'],\n",
      "      dtype='object')\n"
     ]
    },
    {
     "name": "stderr",
     "output_type": "stream",
     "text": [
      "\r",
      " 54%|████████████████████████████████████████████████████▌                                            | 72/133 [01:27<01:48,  1.77s/it]"
     ]
    },
    {
     "name": "stdout",
     "output_type": "stream",
     "text": [
      "Index(['state', 'county', 'zip', 'longitude', 'latitude', 'address', 'id',\n",
      "       'GEOID20'],\n",
      "      dtype='object')\n"
     ]
    },
    {
     "name": "stderr",
     "output_type": "stream",
     "text": [
      "\r",
      " 55%|█████████████████████████████████████████████████████▏                                           | 73/133 [01:27<01:19,  1.32s/it]"
     ]
    },
    {
     "name": "stdout",
     "output_type": "stream",
     "text": [
      "Index(['state', 'county', 'zip', 'longitude', 'latitude', 'address', 'id',\n",
      "       'GEOID20'],\n",
      "      dtype='object')\n"
     ]
    },
    {
     "name": "stderr",
     "output_type": "stream",
     "text": [
      "\r",
      " 56%|█████████████████████████████████████████████████████▉                                           | 74/133 [01:29<01:19,  1.35s/it]"
     ]
    },
    {
     "name": "stdout",
     "output_type": "stream",
     "text": [
      "Index(['state', 'county', 'zip', 'longitude', 'latitude', 'address', 'id',\n",
      "       'GEOID20'],\n",
      "      dtype='object')\n"
     ]
    },
    {
     "name": "stderr",
     "output_type": "stream",
     "text": [
      "\r",
      " 56%|██████████████████████████████████████████████████████▋                                          | 75/133 [01:29<00:59,  1.02s/it]"
     ]
    },
    {
     "name": "stdout",
     "output_type": "stream",
     "text": [
      "Index(['state', 'county', 'zip', 'longitude', 'latitude', 'address', 'id',\n",
      "       'GEOID20'],\n",
      "      dtype='object')\n"
     ]
    },
    {
     "name": "stderr",
     "output_type": "stream",
     "text": [
      " 58%|████████████████████████████████████████████████████████▏                                        | 77/133 [01:30<00:38,  1.45it/s]"
     ]
    },
    {
     "name": "stdout",
     "output_type": "stream",
     "text": [
      "Index(['state', 'county', 'zip', 'longitude', 'latitude', 'address', 'id',\n",
      "       'GEOID20'],\n",
      "      dtype='object')\n",
      "Index(['state', 'county', 'zip', 'longitude', 'latitude', 'address', 'id',\n",
      "       'GEOID20'],\n",
      "      dtype='object')\n"
     ]
    },
    {
     "name": "stderr",
     "output_type": "stream",
     "text": [
      " 59%|█████████████████████████████████████████████████████████▌                                       | 79/133 [01:30<00:24,  2.20it/s]"
     ]
    },
    {
     "name": "stdout",
     "output_type": "stream",
     "text": [
      "Index(['state', 'county', 'zip', 'longitude', 'latitude', 'address', 'id',\n",
      "       'GEOID20'],\n",
      "      dtype='object')\n",
      "Index(['state', 'county', 'zip', 'longitude', 'latitude', 'address', 'id',\n",
      "       'GEOID20'],\n",
      "      dtype='object')\n"
     ]
    },
    {
     "name": "stderr",
     "output_type": "stream",
     "text": [
      "\r",
      " 60%|██████████████████████████████████████████████████████████▎                                      | 80/133 [01:31<00:31,  1.66it/s]"
     ]
    },
    {
     "name": "stdout",
     "output_type": "stream",
     "text": [
      "Index(['state', 'county', 'zip', 'longitude', 'latitude', 'address', 'id',\n",
      "       'GEOID20'],\n",
      "      dtype='object')\n"
     ]
    },
    {
     "name": "stderr",
     "output_type": "stream",
     "text": [
      "\r",
      " 61%|███████████████████████████████████████████████████████████                                      | 81/133 [01:31<00:26,  1.97it/s]"
     ]
    },
    {
     "name": "stdout",
     "output_type": "stream",
     "text": [
      "Index(['state', 'county', 'zip', 'longitude', 'latitude', 'address', 'id',\n",
      "       'GEOID20'],\n",
      "      dtype='object')\n"
     ]
    },
    {
     "name": "stderr",
     "output_type": "stream",
     "text": [
      "\r",
      " 62%|███████████████████████████████████████████████████████████▊                                     | 82/133 [01:33<00:47,  1.07it/s]"
     ]
    },
    {
     "name": "stdout",
     "output_type": "stream",
     "text": [
      "Index(['state', 'county', 'zip', 'longitude', 'latitude', 'address', 'id',\n",
      "       'GEOID20'],\n",
      "      dtype='object')\n"
     ]
    },
    {
     "name": "stderr",
     "output_type": "stream",
     "text": [
      "\r",
      " 62%|████████████████████████████████████████████████████████████▌                                    | 83/133 [01:34<00:39,  1.28it/s]"
     ]
    },
    {
     "name": "stdout",
     "output_type": "stream",
     "text": [
      "Index(['state', 'county', 'zip', 'longitude', 'latitude', 'address', 'id',\n",
      "       'GEOID20'],\n",
      "      dtype='object')\n"
     ]
    },
    {
     "name": "stderr",
     "output_type": "stream",
     "text": [
      "\r",
      " 63%|█████████████████████████████████████████████████████████████▎                                   | 84/133 [01:34<00:33,  1.48it/s]"
     ]
    },
    {
     "name": "stdout",
     "output_type": "stream",
     "text": [
      "Index(['state', 'county', 'zip', 'longitude', 'latitude', 'address', 'id',\n",
      "       'GEOID20'],\n",
      "      dtype='object')\n"
     ]
    },
    {
     "name": "stderr",
     "output_type": "stream",
     "text": [
      "\r",
      " 64%|█████████████████████████████████████████████████████████████▉                                   | 85/133 [01:38<01:21,  1.69s/it]"
     ]
    },
    {
     "name": "stdout",
     "output_type": "stream",
     "text": [
      "Index(['state', 'county', 'zip', 'longitude', 'latitude', 'address', 'id',\n",
      "       'GEOID20'],\n",
      "      dtype='object')\n"
     ]
    },
    {
     "name": "stderr",
     "output_type": "stream",
     "text": [
      "\r",
      " 65%|██████████████████████████████████████████████████████████████▋                                  | 86/133 [01:42<01:49,  2.32s/it]"
     ]
    },
    {
     "name": "stdout",
     "output_type": "stream",
     "text": [
      "Index(['state', 'county', 'zip', 'longitude', 'latitude', 'address', 'id',\n",
      "       'GEOID20'],\n",
      "      dtype='object')\n"
     ]
    },
    {
     "name": "stderr",
     "output_type": "stream",
     "text": [
      "\r",
      " 65%|███████████████████████████████████████████████████████████████▍                                 | 87/133 [01:42<01:19,  1.73s/it]"
     ]
    },
    {
     "name": "stdout",
     "output_type": "stream",
     "text": [
      "Index(['state', 'county', 'zip', 'longitude', 'latitude', 'address', 'id',\n",
      "       'GEOID20'],\n",
      "      dtype='object')\n"
     ]
    },
    {
     "name": "stderr",
     "output_type": "stream",
     "text": [
      "\r",
      " 66%|████████████████████████████████████████████████████████████████▏                                | 88/133 [01:43<00:59,  1.33s/it]"
     ]
    },
    {
     "name": "stdout",
     "output_type": "stream",
     "text": [
      "Index(['state', 'county', 'zip', 'longitude', 'latitude', 'address', 'id',\n",
      "       'GEOID20'],\n",
      "      dtype='object')\n",
      "Index(['state', 'county', 'zip', 'longitude', 'latitude', 'address', 'id',\n",
      "       'GEOID20'],\n",
      "      dtype='object')\n"
     ]
    },
    {
     "name": "stderr",
     "output_type": "stream",
     "text": [
      "\r",
      " 68%|█████████████████████████████████████████████████████████████████▋                               | 90/133 [01:43<00:34,  1.25it/s]"
     ]
    },
    {
     "name": "stdout",
     "output_type": "stream",
     "text": [
      "Index(['state', 'county', 'zip', 'longitude', 'latitude', 'address', 'id',\n",
      "       'GEOID20'],\n",
      "      dtype='object')\n"
     ]
    },
    {
     "name": "stderr",
     "output_type": "stream",
     "text": [
      "\r",
      " 68%|██████████████████████████████████████████████████████████████████▎                              | 91/133 [01:44<00:32,  1.30it/s]"
     ]
    },
    {
     "name": "stdout",
     "output_type": "stream",
     "text": [
      "Index(['state', 'county', 'zip', 'longitude', 'latitude', 'address', 'id',\n",
      "       'GEOID20'],\n",
      "      dtype='object')\n"
     ]
    },
    {
     "name": "stderr",
     "output_type": "stream",
     "text": [
      "\r",
      " 69%|███████████████████████████████████████████████████████████████████                              | 92/133 [01:44<00:28,  1.44it/s]"
     ]
    },
    {
     "name": "stdout",
     "output_type": "stream",
     "text": [
      "Index(['state', 'county', 'zip', 'longitude', 'latitude', 'address', 'id',\n",
      "       'GEOID20'],\n",
      "      dtype='object')\n"
     ]
    },
    {
     "name": "stderr",
     "output_type": "stream",
     "text": [
      "\r",
      " 70%|███████████████████████████████████████████████████████████████████▊                             | 93/133 [01:45<00:25,  1.58it/s]"
     ]
    },
    {
     "name": "stdout",
     "output_type": "stream",
     "text": [
      "Index(['state', 'county', 'zip', 'longitude', 'latitude', 'address', 'id',\n",
      "       'GEOID20'],\n",
      "      dtype='object')\n"
     ]
    },
    {
     "name": "stderr",
     "output_type": "stream",
     "text": [
      "\r",
      " 71%|████████████████████████████████████████████████████████████████████▌                            | 94/133 [01:45<00:23,  1.63it/s]"
     ]
    },
    {
     "name": "stdout",
     "output_type": "stream",
     "text": [
      "Index(['state', 'county', 'zip', 'longitude', 'latitude', 'address', 'id',\n",
      "       'GEOID20'],\n",
      "      dtype='object')\n"
     ]
    },
    {
     "name": "stderr",
     "output_type": "stream",
     "text": [
      " 72%|██████████████████████████████████████████████████████████████████████                           | 96/133 [01:47<00:23,  1.55it/s]"
     ]
    },
    {
     "name": "stdout",
     "output_type": "stream",
     "text": [
      "Index(['state', 'county', 'zip', 'longitude', 'latitude', 'address', 'id',\n",
      "       'GEOID20'],\n",
      "      dtype='object')\n",
      "Index(['state', 'county', 'zip', 'longitude', 'latitude', 'address', 'id',\n",
      "       'GEOID20'],\n",
      "      dtype='object')\n"
     ]
    },
    {
     "name": "stderr",
     "output_type": "stream",
     "text": [
      "\r",
      " 73%|██████████████████████████████████████████████████████████████████████▋                          | 97/133 [01:49<00:34,  1.03it/s]"
     ]
    },
    {
     "name": "stdout",
     "output_type": "stream",
     "text": [
      "Index(['state', 'county', 'zip', 'longitude', 'latitude', 'address', 'id',\n",
      "       'GEOID20'],\n",
      "      dtype='object')\n"
     ]
    },
    {
     "name": "stderr",
     "output_type": "stream",
     "text": [
      "\r",
      " 74%|███████████████████████████████████████████████████████████████████████▍                         | 98/133 [01:49<00:27,  1.25it/s]"
     ]
    },
    {
     "name": "stdout",
     "output_type": "stream",
     "text": [
      "Index(['state', 'county', 'zip', 'longitude', 'latitude', 'address', 'id',\n",
      "       'GEOID20'],\n",
      "      dtype='object')\n"
     ]
    },
    {
     "name": "stderr",
     "output_type": "stream",
     "text": [
      "\r",
      " 74%|████████████████████████████████████████████████████████████████████████▏                        | 99/133 [01:49<00:23,  1.47it/s]"
     ]
    },
    {
     "name": "stdout",
     "output_type": "stream",
     "text": [
      "Index(['state', 'county', 'zip', 'longitude', 'latitude', 'address', 'id',\n",
      "       'GEOID20'],\n",
      "      dtype='object')\n"
     ]
    },
    {
     "name": "stderr",
     "output_type": "stream",
     "text": [
      "\r",
      " 75%|████████████████████████████████████████████████████████████████████████▏                       | 100/133 [01:50<00:21,  1.54it/s]"
     ]
    },
    {
     "name": "stdout",
     "output_type": "stream",
     "text": [
      "Index(['state', 'county', 'zip', 'longitude', 'latitude', 'address', 'id',\n",
      "       'GEOID20'],\n",
      "      dtype='object')\n"
     ]
    },
    {
     "name": "stderr",
     "output_type": "stream",
     "text": [
      "\r",
      " 76%|████████████████████████████████████████████████████████████████████████▉                       | 101/133 [01:59<01:38,  3.07s/it]"
     ]
    },
    {
     "name": "stdout",
     "output_type": "stream",
     "text": [
      "Index(['state', 'county', 'zip', 'longitude', 'latitude', 'address', 'id',\n",
      "       'GEOID20'],\n",
      "      dtype='object')\n"
     ]
    },
    {
     "name": "stderr",
     "output_type": "stream",
     "text": [
      "\r",
      " 77%|█████████████████████████████████████████████████████████████████████████▌                      | 102/133 [01:59<01:13,  2.36s/it]"
     ]
    },
    {
     "name": "stdout",
     "output_type": "stream",
     "text": [
      "Index(['state', 'county', 'zip', 'longitude', 'latitude', 'address', 'id',\n",
      "       'GEOID20'],\n",
      "      dtype='object')\n"
     ]
    },
    {
     "name": "stderr",
     "output_type": "stream",
     "text": [
      " 78%|███████████████████████████████████████████████████████████████████████████                     | 104/133 [02:00<00:36,  1.26s/it]"
     ]
    },
    {
     "name": "stdout",
     "output_type": "stream",
     "text": [
      "Index(['state', 'county', 'zip', 'longitude', 'latitude', 'address', 'id',\n",
      "       'GEOID20'],\n",
      "      dtype='object')\n",
      "Index(['state', 'county', 'zip', 'longitude', 'latitude', 'address', 'id',\n",
      "       'GEOID20'],\n",
      "      dtype='object')\n"
     ]
    },
    {
     "name": "stderr",
     "output_type": "stream",
     "text": [
      "\r",
      " 79%|███████████████████████████████████████████████████████████████████████████▊                    | 105/133 [02:00<00:25,  1.08it/s]"
     ]
    },
    {
     "name": "stdout",
     "output_type": "stream",
     "text": [
      "Index(['state', 'county', 'zip', 'longitude', 'latitude', 'address', 'id',\n",
      "       'GEOID20'],\n",
      "      dtype='object')\n"
     ]
    },
    {
     "name": "stderr",
     "output_type": "stream",
     "text": [
      "\r",
      " 80%|████████████████████████████████████████████████████████████████████████████▌                   | 106/133 [02:05<00:55,  2.07s/it]"
     ]
    },
    {
     "name": "stdout",
     "output_type": "stream",
     "text": [
      "Index(['state', 'county', 'zip', 'longitude', 'latitude', 'address', 'id',\n",
      "       'GEOID20'],\n",
      "      dtype='object')\n"
     ]
    },
    {
     "name": "stderr",
     "output_type": "stream",
     "text": [
      "\r",
      " 80%|█████████████████████████████████████████████████████████████████████████████▏                  | 107/133 [02:07<00:52,  2.02s/it]"
     ]
    },
    {
     "name": "stdout",
     "output_type": "stream",
     "text": [
      "Index(['state', 'county', 'zip', 'longitude', 'latitude', 'address', 'id',\n",
      "       'GEOID20'],\n",
      "      dtype='object')\n"
     ]
    },
    {
     "name": "stderr",
     "output_type": "stream",
     "text": [
      "\r",
      " 81%|█████████████████████████████████████████████████████████████████████████████▉                  | 108/133 [02:09<00:53,  2.16s/it]"
     ]
    },
    {
     "name": "stdout",
     "output_type": "stream",
     "text": [
      "Index(['state', 'county', 'zip', 'longitude', 'latitude', 'address', 'id',\n",
      "       'GEOID20'],\n",
      "      dtype='object')\n"
     ]
    },
    {
     "name": "stderr",
     "output_type": "stream",
     "text": [
      "\r",
      " 82%|██████████████████████████████████████████████████████████████████████████████▋                 | 109/133 [02:10<00:39,  1.66s/it]"
     ]
    },
    {
     "name": "stdout",
     "output_type": "stream",
     "text": [
      "Index(['state', 'county', 'zip', 'longitude', 'latitude', 'address', 'id',\n",
      "       'GEOID20'],\n",
      "      dtype='object')\n"
     ]
    },
    {
     "name": "stderr",
     "output_type": "stream",
     "text": [
      "\r",
      " 83%|███████████████████████████████████████████████████████████████████████████████▍                | 110/133 [02:11<00:38,  1.69s/it]"
     ]
    },
    {
     "name": "stdout",
     "output_type": "stream",
     "text": [
      "Index(['state', 'county', 'zip', 'longitude', 'latitude', 'address', 'id',\n",
      "       'GEOID20'],\n",
      "      dtype='object')\n"
     ]
    },
    {
     "name": "stderr",
     "output_type": "stream",
     "text": [
      "\r",
      " 83%|████████████████████████████████████████████████████████████████████████████████                | 111/133 [02:12<00:29,  1.36s/it]"
     ]
    },
    {
     "name": "stdout",
     "output_type": "stream",
     "text": [
      "Index(['state', 'county', 'zip', 'longitude', 'latitude', 'address', 'id',\n",
      "       'GEOID20'],\n",
      "      dtype='object')\n"
     ]
    },
    {
     "name": "stderr",
     "output_type": "stream",
     "text": [
      "\r",
      " 84%|████████████████████████████████████████████████████████████████████████████████▊               | 112/133 [02:12<00:23,  1.10s/it]"
     ]
    },
    {
     "name": "stdout",
     "output_type": "stream",
     "text": [
      "Index(['state', 'county', 'zip', 'longitude', 'latitude', 'address', 'id',\n",
      "       'GEOID20'],\n",
      "      dtype='object')\n"
     ]
    },
    {
     "name": "stderr",
     "output_type": "stream",
     "text": [
      "\r",
      " 85%|█████████████████████████████████████████████████████████████████████████████████▌              | 113/133 [02:13<00:18,  1.08it/s]"
     ]
    },
    {
     "name": "stdout",
     "output_type": "stream",
     "text": [
      "Index(['state', 'county', 'zip', 'longitude', 'latitude', 'address', 'id',\n",
      "       'GEOID20'],\n",
      "      dtype='object')\n"
     ]
    },
    {
     "name": "stderr",
     "output_type": "stream",
     "text": [
      "\r",
      " 86%|██████████████████████████████████████████████████████████████████████████████████▎             | 114/133 [02:14<00:17,  1.08it/s]"
     ]
    },
    {
     "name": "stdout",
     "output_type": "stream",
     "text": [
      "Index(['state', 'county', 'zip', 'longitude', 'latitude', 'address', 'id',\n",
      "       'GEOID20'],\n",
      "      dtype='object')\n"
     ]
    },
    {
     "name": "stderr",
     "output_type": "stream",
     "text": [
      "\r",
      " 86%|███████████████████████████████████████████████████████████████████████████████████             | 115/133 [02:15<00:15,  1.19it/s]"
     ]
    },
    {
     "name": "stdout",
     "output_type": "stream",
     "text": [
      "Index(['state', 'county', 'zip', 'longitude', 'latitude', 'address', 'id',\n",
      "       'GEOID20'],\n",
      "      dtype='object')\n"
     ]
    },
    {
     "name": "stderr",
     "output_type": "stream",
     "text": [
      "\r",
      " 87%|███████████████████████████████████████████████████████████████████████████████████▋            | 116/133 [02:15<00:11,  1.43it/s]"
     ]
    },
    {
     "name": "stdout",
     "output_type": "stream",
     "text": [
      "Index(['state', 'county', 'zip', 'longitude', 'latitude', 'address', 'id',\n",
      "       'GEOID20'],\n",
      "      dtype='object')\n"
     ]
    },
    {
     "name": "stderr",
     "output_type": "stream",
     "text": [
      "\r",
      " 88%|████████████████████████████████████████████████████████████████████████████████████▍           | 117/133 [02:17<00:20,  1.25s/it]"
     ]
    },
    {
     "name": "stdout",
     "output_type": "stream",
     "text": [
      "Index(['state', 'county', 'zip', 'longitude', 'latitude', 'address', 'id',\n",
      "       'GEOID20'],\n",
      "      dtype='object')\n"
     ]
    },
    {
     "name": "stderr",
     "output_type": "stream",
     "text": [
      "\r",
      " 89%|█████████████████████████████████████████████████████████████████████████████████████▏          | 118/133 [02:20<00:23,  1.56s/it]"
     ]
    },
    {
     "name": "stdout",
     "output_type": "stream",
     "text": [
      "Index(['state', 'county', 'zip', 'longitude', 'latitude', 'address', 'id',\n",
      "       'GEOID20'],\n",
      "      dtype='object')\n"
     ]
    },
    {
     "name": "stderr",
     "output_type": "stream",
     "text": [
      "\r",
      " 89%|█████████████████████████████████████████████████████████████████████████████████████▉          | 119/133 [02:20<00:17,  1.28s/it]"
     ]
    },
    {
     "name": "stdout",
     "output_type": "stream",
     "text": [
      "Index(['state', 'county', 'zip', 'longitude', 'latitude', 'address', 'id',\n",
      "       'GEOID20'],\n",
      "      dtype='object')\n"
     ]
    },
    {
     "name": "stderr",
     "output_type": "stream",
     "text": [
      " 91%|███████████████████████████████████████████████████████████████████████████████████████▎        | 121/133 [02:22<00:13,  1.09s/it]"
     ]
    },
    {
     "name": "stdout",
     "output_type": "stream",
     "text": [
      "Index(['state', 'county', 'zip', 'longitude', 'latitude', 'address', 'id',\n",
      "       'GEOID20'],\n",
      "      dtype='object')\n",
      "Index(['state', 'county', 'zip', 'longitude', 'latitude', 'address', 'id',\n",
      "       'GEOID20'],\n",
      "      dtype='object')\n"
     ]
    },
    {
     "name": "stderr",
     "output_type": "stream",
     "text": [
      "\r",
      " 92%|████████████████████████████████████████████████████████████████████████████████████████        | 122/133 [02:23<00:09,  1.21it/s]"
     ]
    },
    {
     "name": "stdout",
     "output_type": "stream",
     "text": [
      "Index(['state', 'county', 'zip', 'longitude', 'latitude', 'address', 'id',\n",
      "       'GEOID20'],\n",
      "      dtype='object')\n"
     ]
    },
    {
     "name": "stderr",
     "output_type": "stream",
     "text": [
      "\r",
      " 92%|████████████████████████████████████████████████████████████████████████████████████████▊       | 123/133 [02:24<00:08,  1.19it/s]"
     ]
    },
    {
     "name": "stdout",
     "output_type": "stream",
     "text": [
      "Index(['state', 'county', 'zip', 'longitude', 'latitude', 'address', 'id',\n",
      "       'GEOID20'],\n",
      "      dtype='object')\n"
     ]
    },
    {
     "name": "stderr",
     "output_type": "stream",
     "text": [
      "\r",
      " 93%|█████████████████████████████████████████████████████████████████████████████████████████▌      | 124/133 [02:32<00:29,  3.25s/it]"
     ]
    },
    {
     "name": "stdout",
     "output_type": "stream",
     "text": [
      "Index(['state', 'county', 'zip', 'longitude', 'latitude', 'address', 'id',\n",
      "       'GEOID20'],\n",
      "      dtype='object')\n"
     ]
    },
    {
     "name": "stderr",
     "output_type": "stream",
     "text": [
      "\r",
      " 94%|██████████████████████████████████████████████████████████████████████████████████████████▏     | 125/133 [02:33<00:19,  2.47s/it]"
     ]
    },
    {
     "name": "stdout",
     "output_type": "stream",
     "text": [
      "Index(['state', 'county', 'zip', 'longitude', 'latitude', 'address', 'id',\n",
      "       'GEOID20'],\n",
      "      dtype='object')\n"
     ]
    },
    {
     "name": "stderr",
     "output_type": "stream",
     "text": [
      "\r",
      " 95%|██████████████████████████████████████████████████████████████████████████████████████████▉     | 126/133 [02:34<00:14,  2.08s/it]"
     ]
    },
    {
     "name": "stdout",
     "output_type": "stream",
     "text": [
      "Index(['state', 'county', 'zip', 'longitude', 'latitude', 'address', 'id',\n",
      "       'GEOID20'],\n",
      "      dtype='object')\n"
     ]
    },
    {
     "name": "stderr",
     "output_type": "stream",
     "text": [
      "\r",
      " 95%|███████████████████████████████████████████████████████████████████████████████████████████▋    | 127/133 [02:35<00:09,  1.59s/it]"
     ]
    },
    {
     "name": "stdout",
     "output_type": "stream",
     "text": [
      "Index(['state', 'county', 'zip', 'longitude', 'latitude', 'address', 'id',\n",
      "       'GEOID20'],\n",
      "      dtype='object')\n"
     ]
    },
    {
     "name": "stderr",
     "output_type": "stream",
     "text": [
      "\r",
      " 96%|████████████████████████████████████████████████████████████████████████████████████████████▍   | 128/133 [02:35<00:06,  1.26s/it]"
     ]
    },
    {
     "name": "stdout",
     "output_type": "stream",
     "text": [
      "Index(['state', 'county', 'zip', 'longitude', 'latitude', 'address', 'id',\n",
      "       'GEOID20'],\n",
      "      dtype='object')\n"
     ]
    },
    {
     "name": "stderr",
     "output_type": "stream",
     "text": [
      "\r",
      " 97%|█████████████████████████████████████████████████████████████████████████████████████████████   | 129/133 [02:36<00:03,  1.04it/s]"
     ]
    },
    {
     "name": "stdout",
     "output_type": "stream",
     "text": [
      "Index(['state', 'county', 'zip', 'longitude', 'latitude', 'address', 'id',\n",
      "       'GEOID20'],\n",
      "      dtype='object')\n"
     ]
    },
    {
     "name": "stderr",
     "output_type": "stream",
     "text": [
      "\r",
      " 98%|█████████████████████████████████████████████████████████████████████████████████████████████▊  | 130/133 [02:36<00:02,  1.21it/s]"
     ]
    },
    {
     "name": "stdout",
     "output_type": "stream",
     "text": [
      "Index(['state', 'county', 'zip', 'longitude', 'latitude', 'address', 'id',\n",
      "       'GEOID20'],\n",
      "      dtype='object')\n"
     ]
    },
    {
     "name": "stderr",
     "output_type": "stream",
     "text": [
      "\r",
      " 98%|██████████████████████████████████████████████████████████████████████████████████████████████▌ | 131/133 [02:37<00:01,  1.22it/s]"
     ]
    },
    {
     "name": "stdout",
     "output_type": "stream",
     "text": [
      "Index(['state', 'county', 'zip', 'longitude', 'latitude', 'address', 'id',\n",
      "       'GEOID20'],\n",
      "      dtype='object')\n"
     ]
    },
    {
     "name": "stderr",
     "output_type": "stream",
     "text": [
      "\r",
      " 99%|███████████████████████████████████████████████████████████████████████████████████████████████▎| 132/133 [02:37<00:00,  1.31it/s]"
     ]
    },
    {
     "name": "stdout",
     "output_type": "stream",
     "text": [
      "Index(['state', 'county', 'zip', 'longitude', 'latitude', 'address', 'id',\n",
      "       'GEOID20'],\n",
      "      dtype='object')\n"
     ]
    },
    {
     "name": "stderr",
     "output_type": "stream",
     "text": [
      "100%|████████████████████████████████████████████████████████████████████████████████████████████████| 133/133 [02:39<00:00,  1.20s/it]\n"
     ]
    }
   ],
   "source": [
    "# pbar = tqdm(state_files)\n",
    "\n",
    "for sc in tqdm(state_files):\n",
    "    save_file = '../data/state_county/%s.csv.xz'%sc        \n",
    "    scdf = pd.read_csv(save_file)       \n",
    "    \n",
    "    # skip if already parsed\n",
    "    if 'geoid20' in scdf.columns:\n",
    "        continue\n",
    "        \n",
    "    # if upper case, but otherwise parsed\n",
    "    if 'GEOID20' in scdf.columns:\n",
    "        scdf = scdf.rename(columns={'GEOID20': 'geoid20'})\n",
    "        scdf.to_csv(save_file, index=False)\n",
    "        continue\n",
    "            \n",
    "    # convert the state county address file into a geopandas data frame\n",
    "    gdf = gpd.GeoDataFrame(scdf, geometry=gpd.points_from_xy(scdf.longitude, scdf.latitude))\n",
    "\n",
    "    # Spatial join the address with points and the virginia block with polygons\n",
    "    \n",
    "    county_with_fips = block_df.sjoin(gdf, how='inner',predicate='intersects')\n",
    "    county_with_fips = county_with_fips[['state', 'county', 'zip', 'longitude', 'latitude', 'address', 'id','GEOID20']]\n",
    "    \n",
    "    county_with_fips = county_with_fips.rename(columns={'GEOID20': 'geoid20'})\n",
    "    \n",
    "    if (len(scdf)-len(county_with_fips) > len(scdf)*0.05): # losing up to 5% addresses in join is acceptable\n",
    "        raise Exception('Margins larger 5%% (%s out of %s)' % (len(scdf)-len(county_with_fips), len(scdf)))\n",
    "    else:\n",
    "        county_with_fips.to_csv(save_file, index=False)"
   ]
  }
 ],
 "metadata": {
  "kernelspec": {
   "display_name": "Python 3 (ipykernel)",
   "language": "python",
   "name": "python3"
  },
  "language_info": {
   "codemirror_mode": {
    "name": "ipython",
    "version": 3
   },
   "file_extension": ".py",
   "mimetype": "text/x-python",
   "name": "python",
   "nbconvert_exporter": "python",
   "pygments_lexer": "ipython3",
   "version": "3.10.7"
  }
 },
 "nbformat": 4,
 "nbformat_minor": 5
}
