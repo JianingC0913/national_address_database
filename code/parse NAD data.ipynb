{
 "cells": [
  {
   "cell_type": "code",
   "execution_count": 1,
   "id": "790c5da0",
   "metadata": {},
   "outputs": [],
   "source": [
    "import pandas as pd\n",
    "import io\n",
    "from tqdm import tqdm\n",
    "from time import sleep\n",
    "import numpy as np\n",
    "import requests\n",
    "import math\n",
    "import json"
   ]
  },
  {
   "cell_type": "code",
   "execution_count": 2,
   "id": "0e2e78a7",
   "metadata": {},
   "outputs": [],
   "source": [
    "filepath = '../data/NAD_r11.txt' # too large to push onto Git, but is part of the download from here: https://nationaladdressdata.s3.amazonaws.com/NAD_r12_TXT.zip"
   ]
  },
  {
   "cell_type": "code",
   "execution_count": 3,
   "id": "1a19771a",
   "metadata": {},
   "outputs": [
    {
     "name": "stdout",
     "output_type": "stream",
     "text": [
      "OID,State,County,Inc_Muni,Uninc_Comm,Nbrhd_Comm,Post_Comm,Zip_Code,Plus_4,Bulk_Zip,Bulk_Plus4,StN_PreMod,StN_PreDir,StN_PreTyp,StN_PreSep,StreetName,StN_PosTyp,StN_PosDir,StN_PosMod,AddNum_Pre,Add_Number,AddNum_Suf,LandmkPart,LandmkName,Building,Floor,Unit,Room,Addtl_Loc,Milepost,Longitude,Latitude,NatGrid_Coord,GUID,Addr_Type,Placement,Source,AddAuth,UniqWithin,LastUpdate,Effective,Expired\n",
      "\n"
     ]
    }
   ],
   "source": [
    "first_line = None\n",
    "\n",
    "with open(filepath) as f:\n",
    "    first_line = f.readline()\n",
    "\n",
    "print(first_line)"
   ]
  },
  {
   "cell_type": "code",
   "execution_count": 4,
   "id": "c5b8ed2a",
   "metadata": {},
   "outputs": [
    {
     "name": "stdout",
     "output_type": "stream",
     "text": [
      "Total number of lines: 67357690\n"
     ]
    }
   ],
   "source": [
    "total_lines = sum(1 for line in open(filepath))\n",
    "print('Total number of lines: %s' % total_lines)"
   ]
  },
  {
   "cell_type": "code",
   "execution_count": 5,
   "id": "b4e2c3dc",
   "metadata": {},
   "outputs": [],
   "source": [
    "import warnings\n",
    "warnings.filterwarnings('ignore')"
   ]
  },
  {
   "cell_type": "code",
   "execution_count": 27,
   "id": "590f2127",
   "metadata": {},
   "outputs": [],
   "source": [
    "def check_int(val):\n",
    "    num = None\n",
    "    try:\n",
    "        num = str(int(float(val)))\n",
    "    except Exception as e: print(e)\n",
    "    return num"
   ]
  },
  {
   "cell_type": "code",
   "execution_count": 29,
   "id": "cf5ed267",
   "metadata": {
    "scrolled": false
   },
   "outputs": [
    {
     "name": "stderr",
     "output_type": "stream",
     "text": [
      "  5%|███████▋                                                                                                                                                 | 3410408/67357690 [01:23<24:59, 42641.30it/s]"
     ]
    },
    {
     "name": "stdout",
     "output_type": "stream",
     "text": [
      "could not convert string to float: 'ia'\n"
     ]
    },
    {
     "name": "stderr",
     "output_type": "stream",
     "text": [
      "  6%|█████████▍                                                                                                                                               | 4170167/67357690 [01:41<24:35, 42834.55it/s]"
     ]
    },
    {
     "name": "stdout",
     "output_type": "stream",
     "text": [
      "could not convert string to float: '5-156'\n"
     ]
    },
    {
     "name": "stderr",
     "output_type": "stream",
     "text": [
      " 17%|██████████████████████████▏                                                                                                                             | 11615605/67357690 [04:29<20:53, 44458.68it/s]"
     ]
    },
    {
     "name": "stdout",
     "output_type": "stream",
     "text": [
      "could not convert string to float: 'mo'\n",
      "could not convert string to float: 'mo'\n",
      "could not convert string to float: 'mo'\n",
      "could not convert string to float: 'mo'\n",
      "could not convert string to float: 'mo'\n"
     ]
    },
    {
     "name": "stderr",
     "output_type": "stream",
     "text": [
      " 28%|██████████████████████████████████████████▉                                                                                                             | 19001984/67357690 [07:21<17:23, 46323.66it/s]"
     ]
    },
    {
     "name": "stdout",
     "output_type": "stream",
     "text": [
      "could not convert string to float: '42718`'\n"
     ]
    },
    {
     "name": "stderr",
     "output_type": "stream",
     "text": [
      " 28%|██████████████████████████████████████████▉                                                                                                             | 19016999/67357690 [07:22<17:44, 45391.28it/s]"
     ]
    },
    {
     "name": "stdout",
     "output_type": "stream",
     "text": [
      "could not convert string to float: '9-971'\n"
     ]
    },
    {
     "name": "stderr",
     "output_type": "stream",
     "text": [
      " 28%|███████████████████████████████████████████                                                                                                             | 19077059/67357690 [07:23<17:59, 44725.92it/s]"
     ]
    },
    {
     "name": "stdout",
     "output_type": "stream",
     "text": [
      "could not convert string to float: 'alban'\n"
     ]
    },
    {
     "name": "stderr",
     "output_type": "stream",
     "text": [
      " 28%|███████████████████████████████████████████                                                                                                             | 19092074/67357690 [07:23<18:20, 43858.32it/s]"
     ]
    },
    {
     "name": "stdout",
     "output_type": "stream",
     "text": [
      "could not convert string to float: 'sburg'\n"
     ]
    },
    {
     "name": "stderr",
     "output_type": "stream",
     "text": [
      " 29%|███████████████████████████████████████████▋                                                                                                            | 19357339/67357690 [07:29<15:33, 51433.45it/s]"
     ]
    },
    {
     "name": "stdout",
     "output_type": "stream",
     "text": [
      "could not convert string to float: '42718`'\n"
     ]
    },
    {
     "name": "stderr",
     "output_type": "stream",
     "text": [
      " 30%|██████████████████████████████████████████████▎                                                                                                         | 20504485/67357690 [07:55<17:47, 43881.05it/s]"
     ]
    },
    {
     "name": "stdout",
     "output_type": "stream",
     "text": [
      "could not convert string to float: 'md'\n"
     ]
    },
    {
     "name": "stderr",
     "output_type": "stream",
     "text": [
      " 32%|████████████████████████████████████████████████▍                                                                                                       | 21469449/67357690 [08:17<17:16, 44291.16it/s]"
     ]
    },
    {
     "name": "stdout",
     "output_type": "stream",
     "text": [
      "could not convert string to float: 'rkpt'\n",
      "could not convert string to float: 'rkpt'\n",
      "could not convert string to float: 'rkpt'\n",
      "could not convert string to float: 'rkpt'\n",
      "could not convert string to float: 'rkpt'\n",
      "could not convert string to float: 'rkpt'\n",
      "could not convert string to float: 'rkpt'\n",
      "could not convert string to float: 'rkpt'\n"
     ]
    },
    {
     "name": "stderr",
     "output_type": "stream",
     "text": [
      " 32%|████████████████████████████████████████████████▍                                                                                                       | 21479459/67357690 [08:17<17:32, 43570.56it/s]"
     ]
    },
    {
     "name": "stdout",
     "output_type": "stream",
     "text": [
      "could not convert string to float: 'rkpt'\n"
     ]
    },
    {
     "name": "stderr",
     "output_type": "stream",
     "text": [
      " 36%|██████████████████████████████████████████████████████▏                                                                                                 | 24011989/67357690 [09:09<16:38, 43415.01it/s]"
     ]
    },
    {
     "name": "stdout",
     "output_type": "stream",
     "text": [
      "could not convert string to float: 'lames'\n"
     ]
    },
    {
     "name": "stderr",
     "output_type": "stream",
     "text": [
      " 36%|██████████████████████████████████████████████████████▊                                                                                                 | 24294271/67357690 [09:15<15:33, 46154.00it/s]"
     ]
    },
    {
     "name": "stdout",
     "output_type": "stream",
     "text": [
      "could not convert string to float: 'texas'\n"
     ]
    },
    {
     "name": "stderr",
     "output_type": "stream",
     "text": [
      " 37%|████████████████████████████████████████████████████████▉                                                                                               | 25209126/67357690 [09:36<13:36, 51638.61it/s]"
     ]
    },
    {
     "name": "stdout",
     "output_type": "stream",
     "text": [
      "could not convert string to float: 'tx'\n"
     ]
    },
    {
     "name": "stderr",
     "output_type": "stream",
     "text": [
      " 40%|████████████████████████████████████████████████████████████▋                                                                                           | 26920173/67357690 [10:12<12:18, 54776.59it/s]"
     ]
    },
    {
     "name": "stdout",
     "output_type": "stream",
     "text": [
      "could not convert string to float: '766hh'\n",
      "could not convert string to float: '766hh'\n"
     ]
    },
    {
     "name": "stderr",
     "output_type": "stream",
     "text": [
      " 40%|█████████████████████████████████████████████████████████████▌                                                                                          | 27262236/67357690 [10:20<15:16, 43767.75it/s]"
     ]
    },
    {
     "name": "stdout",
     "output_type": "stream",
     "text": [
      "could not convert string to float: 'keene'\n",
      "could not convert string to float: 'keene'\n",
      "could not convert string to float: 'keene'\n",
      "could not convert string to float: 'keene'\n"
     ]
    },
    {
     "name": "stderr",
     "output_type": "stream",
     "text": [
      " 41%|█████████████████████████████████████████████████████████████▊                                                                                          | 27387361/67357690 [10:23<14:07, 47188.32it/s]"
     ]
    },
    {
     "name": "stdout",
     "output_type": "stream",
     "text": [
      "could not convert string to float: 'maban'\n",
      "could not convert string to float: 'kaufm'\n",
      "could not convert string to float: '<null'\n",
      "could not convert string to float: 'terre'\n",
      "could not convert string to float: 'maban'\n",
      "could not convert string to float: 'kemp'\n"
     ]
    },
    {
     "name": "stderr",
     "output_type": "stream",
     "text": [
      " 41%|██████████████████████████████████████████████████████████████▍                                                                                         | 27647649/67357690 [10:28<13:37, 48576.17it/s]"
     ]
    },
    {
     "name": "stdout",
     "output_type": "stream",
     "text": [
      "could not convert string to float: '78/60'\n"
     ]
    },
    {
     "name": "stderr",
     "output_type": "stream",
     "text": [
      " 41%|██████████████████████████████████████████████████████████████▍                                                                                         | 27665639/67357690 [10:28<12:38, 52364.07it/s]"
     ]
    },
    {
     "name": "stdout",
     "output_type": "stream",
     "text": [
      "could not convert string to float: '78/60'\n"
     ]
    },
    {
     "name": "stderr",
     "output_type": "stream",
     "text": [
      " 41%|███████████████████████████████████████████████████████████████                                                                                         | 27929244/67357690 [10:33<09:26, 69555.36it/s]"
     ]
    },
    {
     "name": "stdout",
     "output_type": "stream",
     "text": [
      "could not convert string to float: 'tilde'\n"
     ]
    },
    {
     "name": "stderr",
     "output_type": "stream",
     "text": [
      " 42%|███████████████████████████████████████████████████████████████▎                                                                                        | 28061608/67357690 [10:36<14:01, 46691.05it/s]"
     ]
    },
    {
     "name": "stdout",
     "output_type": "stream",
     "text": [
      "could not convert string to float: 'sunse'\n",
      "could not convert string to float: 'nocon'\n"
     ]
    },
    {
     "name": "stderr",
     "output_type": "stream",
     "text": [
      " 42%|████████████████████████████████████████████████████████████████▍                                                                                       | 28581554/67357690 [10:47<13:39, 47304.94it/s]"
     ]
    },
    {
     "name": "stdout",
     "output_type": "stream",
     "text": [
      "could not convert string to float: 'azle'\n",
      "could not convert string to float: 'azle'\n",
      "could not convert string to float: 'azle'\n",
      "could not convert string to float: 'azle'\n",
      "could not convert string to float: 'azle'\n",
      "could not convert string to float: 'azle'\n",
      "could not convert string to float: 'azle'\n",
      "could not convert string to float: 'azle'\n",
      "could not convert string to float: 'azle'\n",
      "could not convert string to float: 'azle'\n",
      "could not convert string to float: 'azle'\n",
      "could not convert string to float: 'azle'\n",
      "could not convert string to float: 'azle'\n",
      "could not convert string to float: 'azle'\n",
      "could not convert string to float: 'azle'\n",
      "could not convert string to float: 'azle'\n",
      "could not convert string to float: 'azle'\n",
      "could not convert string to float: 'azle'\n",
      "could not convert string to float: 'azle'\n"
     ]
    },
    {
     "name": "stderr",
     "output_type": "stream",
     "text": [
      " 42%|████████████████████████████████████████████████████████████████▌                                                                                       | 28591564/67357690 [10:48<13:57, 46294.20it/s]"
     ]
    },
    {
     "name": "stdout",
     "output_type": "stream",
     "text": [
      "could not convert string to float: 'azle'\n",
      "could not convert string to float: 'azle'\n",
      "could not convert string to float: 'mills'\n",
      "could not convert string to float: 'azle'\n",
      "could not convert string to float: 'azle'\n",
      "could not convert string to float: 'whitt'\n",
      "could not convert string to float: 'aledo'\n",
      "could not convert string to float: 'aledo'\n",
      "could not convert string to float: 'aledo'\n"
     ]
    },
    {
     "name": "stderr",
     "output_type": "stream",
     "text": [
      " 43%|████████████████████████████████████████████████████████████████▋                                                                                       | 28661634/67357690 [10:49<14:21, 44895.16it/s]"
     ]
    },
    {
     "name": "stdout",
     "output_type": "stream",
     "text": [
      "could not convert string to float: 'tx'\n"
     ]
    },
    {
     "name": "stderr",
     "output_type": "stream",
     "text": [
      " 43%|█████████████████████████████████████████████████████████████████▍                                                                                      | 29000973/67357690 [10:57<13:28, 47417.57it/s]"
     ]
    },
    {
     "name": "stdout",
     "output_type": "stream",
     "text": [
      "could not convert string to float: 'tx'\n"
     ]
    },
    {
     "name": "stderr",
     "output_type": "stream",
     "text": [
      " 45%|████████████████████████████████████████████████████████████████████▌                                                                                   | 30382138/67357690 [11:20<11:09, 55268.92it/s]"
     ]
    },
    {
     "name": "stdout",
     "output_type": "stream",
     "text": [
      "could not convert string to float: 'gilme'\n"
     ]
    },
    {
     "name": "stderr",
     "output_type": "stream",
     "text": [
      " 45%|████████████████████████████████████████████████████████████████████▋                                                                                   | 30459430/67357690 [11:21<13:56, 44095.66it/s]"
     ]
    },
    {
     "name": "stdout",
     "output_type": "stream",
     "text": [
      "could not convert string to float: 'edgew'\n"
     ]
    },
    {
     "name": "stderr",
     "output_type": "stream",
     "text": [
      " 46%|██████████████████████████████████████████████████████████████████████▏                                                                                 | 31097067/67357690 [11:38<13:58, 43222.71it/s]"
     ]
    },
    {
     "name": "stdout",
     "output_type": "stream",
     "text": [
      "could not convert string to float: 'wink'\n",
      "could not convert string to float: 'wink'\n",
      "could not convert string to float: 'wise'\n",
      "could not convert string to float: 'boyd'\n",
      "could not convert string to float: 'bridg'\n"
     ]
    },
    {
     "name": "stderr",
     "output_type": "stream",
     "text": [
      " 46%|██████████████████████████████████████████████████████████████████████▏                                                                                 | 31107077/67357690 [11:38<14:14, 42417.83it/s]"
     ]
    },
    {
     "name": "stdout",
     "output_type": "stream",
     "text": [
      "could not convert string to float: 'parad'\n"
     ]
    },
    {
     "name": "stderr",
     "output_type": "stream",
     "text": [
      " 46%|██████████████████████████████████████████████████████████████████████▎                                                                                 | 31132102/67357690 [11:39<13:59, 43132.55it/s]"
     ]
    },
    {
     "name": "stdout",
     "output_type": "stream",
     "text": [
      "could not convert string to float: 'parad'\n"
     ]
    },
    {
     "name": "stderr",
     "output_type": "stream",
     "text": [
      " 46%|██████████████████████████████████████████████████████████████████████▎                                                                                 | 31168138/67357690 [11:40<13:04, 46124.29it/s]"
     ]
    },
    {
     "name": "stdout",
     "output_type": "stream",
     "text": [
      "could not convert string to float: 'quitm'\n"
     ]
    },
    {
     "name": "stderr",
     "output_type": "stream",
     "text": [
      " 46%|██████████████████████████████████████████████████████████████████████▎                                                                                 | 31179149/67357690 [11:40<12:47, 47148.88it/s]"
     ]
    },
    {
     "name": "stdout",
     "output_type": "stream",
     "text": [
      "could not convert string to float: 'lovin'\n"
     ]
    },
    {
     "name": "stderr",
     "output_type": "stream",
     "text": [
      " 46%|██████████████████████████████████████████████████████████████████████▍                                                                                 | 31190160/67357690 [11:40<12:50, 46939.86it/s]"
     ]
    },
    {
     "name": "stdout",
     "output_type": "stream",
     "text": [
      "could not convert string to float: 'texas'\n"
     ]
    },
    {
     "name": "stderr",
     "output_type": "stream",
     "text": [
      " 68%|██████████████████████████████████████████████████████████████████████████████████████████████████████▊                                                 | 45551507/67357690 [17:41<07:48, 46537.54it/s]"
     ]
    },
    {
     "name": "stdout",
     "output_type": "stream",
     "text": [
      "could not convert string to float: '**!)!'\n"
     ]
    },
    {
     "name": "stderr",
     "output_type": "stream",
     "text": [
      " 68%|██████████████████████████████████████████████████████████████████████████████████████████████████████▉                                                 | 45612568/67357690 [17:43<07:32, 48004.81it/s]"
     ]
    },
    {
     "name": "stdout",
     "output_type": "stream",
     "text": [
      "could not convert string to float: 'dulce'\n"
     ]
    },
    {
     "name": "stderr",
     "output_type": "stream",
     "text": [
      " 68%|████████████████████████████████████████████████████████████████████████████████████████████████████████                                                | 46117072/67357690 [17:54<07:49, 45214.09it/s]"
     ]
    },
    {
     "name": "stdout",
     "output_type": "stream",
     "text": [
      "could not convert string to float: 'c'\n"
     ]
    },
    {
     "name": "stderr",
     "output_type": "stream",
     "text": [
      " 69%|████████████████████████████████████████████████████████████████████████████████████████████████████████▌                                               | 46353308/67357690 [17:59<07:44, 45172.24it/s]"
     ]
    },
    {
     "name": "stdout",
     "output_type": "stream",
     "text": [
      "could not convert string to float: 'c'\n",
      "could not convert string to float: 'nm'\n",
      "could not convert string to float: 'nm'\n",
      "could not convert string to float: 'nm'\n",
      "could not convert string to float: '87oo6'\n"
     ]
    },
    {
     "name": "stderr",
     "output_type": "stream",
     "text": [
      " 69%|████████████████████████████████████████████████████████████████████████████████████████████████████████▋                                               | 46410365/67357690 [18:01<07:49, 44613.66it/s]"
     ]
    },
    {
     "name": "stdout",
     "output_type": "stream",
     "text": [
      "could not convert string to float: 'vabel'\n",
      "could not convert string to float: 'vabel'\n",
      "could not convert string to float: 'vabel'\n",
      "could not convert string to float: 'vabel'\n",
      "could not convert string to float: 'vabel'\n",
      "could not convert string to float: 'vabel'\n",
      "could not convert string to float: 'vabel'\n",
      "could not convert string to float: 'vabel'\n",
      "could not convert string to float: 'vabel'\n",
      "could not convert string to float: 'vabel'\n",
      "could not convert string to float: 'vabel'\n",
      "could not convert string to float: 'vabel'\n",
      "could not convert string to float: 'vabel'\n",
      "could not convert string to float: 'vabel'\n",
      "could not convert string to float: 'vabel'\n",
      "could not convert string to float: 'vabel'\n",
      "could not convert string to float: 'vabel'\n",
      "could not convert string to float: 'vabel'\n",
      "could not convert string to float: 'vabel'\n",
      "could not convert string to float: 'vabel'\n",
      "could not convert string to float: 'vabel'\n",
      "could not convert string to float: 'vabel'\n",
      "could not convert string to float: 'vabel'\n",
      "could not convert string to float: 'vabel'\n"
     ]
    },
    {
     "name": "stderr",
     "output_type": "stream",
     "text": [
      " 78%|███████████████████████████████████████████████████████████████████████████████████████████████████████████████████████▏                                | 52838787/67357690 [20:30<05:31, 43764.14it/s]"
     ]
    },
    {
     "name": "stdout",
     "output_type": "stream",
     "text": [
      "could not convert string to float: 'rd'\n"
     ]
    },
    {
     "name": "stderr",
     "output_type": "stream",
     "text": [
      " 78%|███████████████████████████████████████████████████████████████████████████████████████████████████████████████████████▎                                | 52848797/67357690 [20:30<05:36, 43100.07it/s]"
     ]
    },
    {
     "name": "stdout",
     "output_type": "stream",
     "text": [
      "could not convert string to float: 'rd'\n",
      "could not convert string to float: 'maple'\n",
      "could not convert string to float: 'rd'\n",
      "could not convert string to float: 'y'\n",
      "could not convert string to float: 'y'\n",
      "could not convert string to float: 'tn'\n",
      "could not convert string to float: 'lake'\n"
     ]
    },
    {
     "name": "stderr",
     "output_type": "stream",
     "text": [
      " 79%|███████████████████████████████████████████████████████████████████████████████████████████████████████████████████████▍                                | 52949898/67357690 [20:32<05:26, 44062.88it/s]"
     ]
    },
    {
     "name": "stdout",
     "output_type": "stream",
     "text": [
      "could not convert string to float: 'roger'\n"
     ]
    },
    {
     "name": "stderr",
     "output_type": "stream",
     "text": [
      " 79%|████████████████████████████████████████████████████████████████████████████████████████████████████████████████████████                                | 53219167/67357690 [20:38<05:25, 43498.31it/s]"
     ]
    },
    {
     "name": "stdout",
     "output_type": "stream",
     "text": [
      "could not convert string to float: 'fire'\n",
      "could not convert string to float: '383/5'\n"
     ]
    },
    {
     "name": "stderr",
     "output_type": "stream",
     "text": [
      " 80%|█████████████████████████████████████████████████████████████████████████████████████████████████████████████████████████▎                              | 53762710/67357690 [20:51<05:12, 43573.54it/s]"
     ]
    },
    {
     "name": "stdout",
     "output_type": "stream",
     "text": [
      "could not convert string to float: 'churc'\n"
     ]
    },
    {
     "name": "stderr",
     "output_type": "stream",
     "text": [
      " 80%|█████████████████████████████████████████████████████████████████████████████████████████████████████████████████████████▋                              | 53932880/67357690 [20:55<05:08, 43512.75it/s]"
     ]
    },
    {
     "name": "stdout",
     "output_type": "stream",
     "text": [
      "could not convert string to float: 'tn'\n"
     ]
    },
    {
     "name": "stderr",
     "output_type": "stream",
     "text": [
      " 80%|█████████████████████████████████████████████████████████████████████████████████████████████████████████████████████████▊                              | 54002950/67357690 [20:56<05:05, 43665.65it/s]"
     ]
    },
    {
     "name": "stdout",
     "output_type": "stream",
     "text": [
      "could not convert string to float: 'tn'\n"
     ]
    },
    {
     "name": "stderr",
     "output_type": "stream",
     "text": [
      " 80%|██████████████████████████████████████████████████████████████████████████████████████████████████████████████████████████                              | 54098045/67357690 [20:59<05:02, 43866.21it/s]"
     ]
    },
    {
     "name": "stdout",
     "output_type": "stream",
     "text": [
      "could not convert string to float: '38-06'\n"
     ]
    },
    {
     "name": "stderr",
     "output_type": "stream",
     "text": [
      " 81%|███████████████████████████████████████████████████████████████████████████████████████████████████████████████████████████▍                            | 54710657/67357690 [21:31<04:54, 42895.12it/s]"
     ]
    },
    {
     "name": "stdout",
     "output_type": "stream",
     "text": [
      "could not convert string to float: '38-68'\n"
     ]
    },
    {
     "name": "stderr",
     "output_type": "stream",
     "text": [
      " 81%|███████████████████████████████████████████████████████████████████████████████████████████████████████████████████████████▌                            | 54764711/67357690 [21:32<04:53, 42956.26it/s]"
     ]
    },
    {
     "name": "stdout",
     "output_type": "stream",
     "text": [
      "could not convert string to float: 'tn'\n",
      "could not convert string to float: 'tn'\n",
      "could not convert string to float: 'tn'\n"
     ]
    },
    {
     "name": "stderr",
     "output_type": "stream",
     "text": [
      " 82%|████████████████████████████████████████████████████████████████████████████████████████████████████████████████████████████▎                           | 55080026/67357690 [21:39<04:41, 43629.36it/s]"
     ]
    },
    {
     "name": "stdout",
     "output_type": "stream",
     "text": [
      "could not convert string to float: '383 5'\n"
     ]
    },
    {
     "name": "stderr",
     "output_type": "stream",
     "text": [
      " 82%|████████████████████████████████████████████████████████████████████████████████████████████████████████████████████████████▍                           | 55150096/67357690 [21:41<04:42, 43261.72it/s]"
     ]
    },
    {
     "name": "stdout",
     "output_type": "stream",
     "text": [
      "could not convert string to float: '37-58'\n"
     ]
    },
    {
     "name": "stderr",
     "output_type": "stream",
     "text": [
      " 82%|████████████████████████████████████████████████████████████████████████████████████████████████████████████████████████████▉                           | 55380326/67357690 [21:46<04:35, 43527.37it/s]"
     ]
    },
    {
     "name": "stdout",
     "output_type": "stream",
     "text": [
      "could not convert string to float: 'none'\n",
      "could not convert string to float: 'none'\n",
      "could not convert string to float: 'none'\n",
      "could not convert string to float: 'none'\n",
      "could not convert string to float: 'none'\n",
      "could not convert string to float: 'none'\n",
      "could not convert string to float: 'none'\n"
     ]
    },
    {
     "name": "stderr",
     "output_type": "stream",
     "text": [
      " 82%|████████████████████████████████████████████████████████████████████████████████████████████████████████████████████████████▉                           | 55390336/67357690 [21:46<04:37, 43070.78it/s]"
     ]
    },
    {
     "name": "stdout",
     "output_type": "stream",
     "text": [
      "could not convert string to float: 'none'\n",
      "could not convert string to float: 'none'\n",
      "could not convert string to float: 'none'\n"
     ]
    },
    {
     "name": "stderr",
     "output_type": "stream",
     "text": [
      " 82%|█████████████████████████████████████████████████████████████████████████████████████████████████████████████████████████████                           | 55405351/67357690 [21:47<04:36, 43150.49it/s]"
     ]
    },
    {
     "name": "stdout",
     "output_type": "stream",
     "text": [
      "could not convert string to float: 'none'\n"
     ]
    },
    {
     "name": "stderr",
     "output_type": "stream",
     "text": [
      " 82%|█████████████████████████████████████████████████████████████████████████████████████████████████████████████████████████████                           | 55415361/67357690 [21:47<04:36, 43234.94it/s]"
     ]
    },
    {
     "name": "stdout",
     "output_type": "stream",
     "text": [
      "could not convert string to float: 'none'\n",
      "could not convert string to float: 'none'\n",
      "could not convert string to float: 'none'\n",
      "could not convert string to float: 'none'\n",
      "could not convert string to float: 'none'\n",
      "could not convert string to float: 'none'\n"
     ]
    },
    {
     "name": "stderr",
     "output_type": "stream",
     "text": [
      " 82%|█████████████████████████████████████████████████████████████████████████████████████████████████████████████████████████████                           | 55425371/67357690 [21:47<04:37, 42959.72it/s]"
     ]
    },
    {
     "name": "stdout",
     "output_type": "stream",
     "text": [
      "could not convert string to float: 'none'\n"
     ]
    },
    {
     "name": "stderr",
     "output_type": "stream",
     "text": [
      " 82%|█████████████████████████████████████████████████████████████████████████████████████████████████████████████████████████████                           | 55440386/67357690 [21:47<04:36, 43031.75it/s]"
     ]
    },
    {
     "name": "stdout",
     "output_type": "stream",
     "text": [
      "could not convert string to float: 'none'\n"
     ]
    },
    {
     "name": "stderr",
     "output_type": "stream",
     "text": [
      " 83%|█████████████████████████████████████████████████████████████████████████████████████████████████████████████████████████████▌                          | 55645591/67357690 [21:52<04:27, 43819.79it/s]"
     ]
    },
    {
     "name": "stdout",
     "output_type": "stream",
     "text": [
      "could not convert string to float: 'somme'\n"
     ]
    },
    {
     "name": "stderr",
     "output_type": "stream",
     "text": [
      " 83%|█████████████████████████████████████████████████████████████████████████████████████████████████████████████████████████████▋                          | 55675621/67357690 [21:53<04:29, 43305.49it/s]"
     ]
    },
    {
     "name": "stdout",
     "output_type": "stream",
     "text": [
      "could not convert string to float: 'tn'\n"
     ]
    },
    {
     "name": "stderr",
     "output_type": "stream",
     "text": [
      " 83%|█████████████████████████████████████████████████████████████████████████████████████████████████████████████████████████████▋                          | 55706652/67357690 [21:54<04:13, 45879.20it/s]"
     ]
    },
    {
     "name": "stdout",
     "output_type": "stream",
     "text": [
      "could not convert string to float: '-'\n",
      "could not convert string to float: '-'\n"
     ]
    },
    {
     "name": "stderr",
     "output_type": "stream",
     "text": [
      " 83%|█████████████████████████████████████████████████████████████████████████████████████████████████████████████████████████████▊                          | 55726672/67357690 [21:54<04:25, 43860.14it/s]"
     ]
    },
    {
     "name": "stdout",
     "output_type": "stream",
     "text": [
      "could not convert string to float: 'rd'\n",
      "could not convert string to float: 'st'\n"
     ]
    },
    {
     "name": "stderr",
     "output_type": "stream",
     "text": [
      " 83%|█████████████████████████████████████████████████████████████████████████████████████████████████████████████████████████████▊                          | 55736682/67357690 [21:54<04:25, 43793.53it/s]"
     ]
    },
    {
     "name": "stdout",
     "output_type": "stream",
     "text": [
      "could not convert string to float: 'lobel'\n"
     ]
    },
    {
     "name": "stderr",
     "output_type": "stream",
     "text": [
      " 83%|█████████████████████████████████████████████████████████████████████████████████████████████████████████████████████████████▊                          | 55779909/67357690 [21:55<03:49, 50459.59it/s]"
     ]
    },
    {
     "name": "stdout",
     "output_type": "stream",
     "text": [
      "could not convert string to float: 'q'\n"
     ]
    },
    {
     "name": "stderr",
     "output_type": "stream",
     "text": [
      " 83%|██████████████████████████████████████████████████████████████████████████████████████████████████████████████████████████████                          | 55879825/67357690 [21:57<04:23, 43623.22it/s]"
     ]
    },
    {
     "name": "stdout",
     "output_type": "stream",
     "text": [
      "could not convert string to float: 'kings'\n"
     ]
    },
    {
     "name": "stderr",
     "output_type": "stream",
     "text": [
      " 83%|██████████████████████████████████████████████████████████████████████████████████████████████████████████████████████████████                          | 55889835/67357690 [21:58<04:19, 44178.87it/s]"
     ]
    },
    {
     "name": "stdout",
     "output_type": "stream",
     "text": [
      "could not convert string to float: 'zip'\n"
     ]
    },
    {
     "name": "stderr",
     "output_type": "stream",
     "text": [
      " 83%|██████████████████████████████████████████████████████████████████████████████████████████████████████████████████████████████▏                         | 55929875/67357690 [21:59<04:20, 43798.88it/s]"
     ]
    },
    {
     "name": "stdout",
     "output_type": "stream",
     "text": [
      "could not convert string to float: '37/82'\n",
      "could not convert string to float: '378/2'\n"
     ]
    },
    {
     "name": "stderr",
     "output_type": "stream",
     "text": [
      " 83%|██████████████████████████████████████████████████████████████████████████████████████████████████████████████████████████████▌                         | 56076021/67357690 [22:02<04:19, 43461.51it/s]"
     ]
    },
    {
     "name": "stdout",
     "output_type": "stream",
     "text": [
      "could not convert string to float: '385o6'\n"
     ]
    },
    {
     "name": "stderr",
     "output_type": "stream",
     "text": [
      " 83%|██████████████████████████████████████████████████████████████████████████████████████████████████████████████████████████████▋                         | 56146091/67357690 [22:04<04:16, 43753.26it/s]"
     ]
    },
    {
     "name": "stdout",
     "output_type": "stream",
     "text": [
      "could not convert string to float: 'tn'\n",
      "could not convert string to float: '373o3'\n",
      "could not convert string to float: 'tn'\n"
     ]
    },
    {
     "name": "stderr",
     "output_type": "stream",
     "text": [
      " 83%|██████████████████████████████████████████████████████████████████████████████████████████████████████████████████████████████▋                         | 56156101/67357690 [22:04<04:17, 43539.04it/s]"
     ]
    },
    {
     "name": "stdout",
     "output_type": "stream",
     "text": [
      "could not convert string to float: 'tn'\n",
      "could not convert string to float: 'tn'\n"
     ]
    },
    {
     "name": "stderr",
     "output_type": "stream",
     "text": [
      " 84%|███████████████████████████████████████████████████████████████████████████████████████████████████████████████████████████████                         | 56316261/67357690 [22:07<04:11, 43883.35it/s]"
     ]
    },
    {
     "name": "stdout",
     "output_type": "stream",
     "text": [
      "could not convert string to float: 'claib'\n",
      "could not convert string to float: 'villa'\n"
     ]
    },
    {
     "name": "stderr",
     "output_type": "stream",
     "text": [
      " 84%|███████████████████████████████████████████████████████████████████████████████████████████████████████████████████████████████▎                        | 56416361/67357690 [22:10<04:10, 43651.44it/s]"
     ]
    },
    {
     "name": "stdout",
     "output_type": "stream",
     "text": [
      "could not convert string to float: 'new t'\n"
     ]
    },
    {
     "name": "stderr",
     "output_type": "stream",
     "text": [
      " 98%|████████████████████████████████████████████████████████████████████████████████████████████████████████████████████████████████████████████████████▋   | 65880816/67357690 [26:05<00:31, 46303.97it/s]"
     ]
    },
    {
     "name": "stdout",
     "output_type": "stream",
     "text": [
      "could not convert string to float: 'acme'\n",
      "could not convert string to float: 'acme'\n",
      "could not convert string to float: 'acme'\n",
      "could not convert string to float: 'acme'\n"
     ]
    },
    {
     "name": "stderr",
     "output_type": "stream",
     "text": [
      "100%|███████████████████████████████████████████████████████████████████████████████████████████████████████████████████████████████████████████████████████▍| 67083017/67357690 [26:32<00:06, 44380.81it/s]"
     ]
    },
    {
     "name": "stdout",
     "output_type": "stream",
     "text": [
      "could not convert string to float: 'out'\n",
      "could not convert string to float: 'out'\n"
     ]
    },
    {
     "name": "stderr",
     "output_type": "stream",
     "text": [
      "100%|███████████████████████████████████████████████████████████████████████████████████████████████████████████████████████████████████████████████████████▉| 67357689/67357690 [26:37<00:00, 42166.42it/s]\n"
     ]
    }
   ],
   "source": [
    "step = 1000\n",
    "dfs = []\n",
    "i = 0\n",
    "# total_lines = 100 # for checking\n",
    "\n",
    "with tqdm(total=total_lines) as pbar:\n",
    "    with open(filepath) as f:\n",
    "        f.readline() # skip first line\n",
    "        lines = ''\n",
    "        for line in f:\n",
    "            pbar.update(1)\n",
    "            i += 1\n",
    "            lines += line\n",
    "                        \n",
    "            if i > step:\n",
    "                df = pd.read_csv(io.StringIO(first_line + lines), low_memory=False)\n",
    "                df = df[['State', 'County', 'Zip_Code', 'Post_Comm', 'Add_Number', 'StN_PreMod', 'StN_PreDir', 'StN_PreTyp', 'StN_PreSep', 'StreetName', 'StN_PosTyp', 'StN_PosDir', 'StN_PosMod', 'Longitude', 'Latitude']]\n",
    "                df = df.astype(str)   \n",
    "                \n",
    "                # run cleaning and filters here\n",
    "                df = df.replace('nan', '')\n",
    "                df = df.fillna('')   \n",
    "                df = df[df['Zip_Code'] != 'nan']\n",
    "                df = df[df['Zip_Code'] != '']\n",
    "                df = df.apply(lambda x: x.astype(str).str.lower()) # convert everything lower case\n",
    "                \n",
    "                # cleaning zip code\n",
    "                df['Zip_Code'] = df['Zip_Code'].apply(lambda x: check_int(x))\n",
    "                \n",
    "                # removing invalid zip rows\n",
    "                df = df[df['Zip_Code'].notnull()]\n",
    "                \n",
    "                if df.empty: # don't append it and go next\n",
    "                    i = 0\n",
    "                    lines = '' \n",
    "                    continue\n",
    "                \n",
    "                # print(df['Zip_Code'].unique())\n",
    "                # input('test')\n",
    "                \n",
    "                # constructing address\n",
    "                df['Prefix'] = df['Add_Number'] + ' ' + df['StN_PreMod'] + ' '+ df['StN_PreDir'] + ' '+ df['StN_PreTyp'] + ' '+ df['StN_PreSep'] + ' '+ df['StreetName'] + ' '+ df['StN_PosTyp'] + ' '+ df['StN_PosDir'] + ' '+ df['StN_PosMod']\n",
    "                df['Suffix'] = ','+df['Post_Comm'] + ','+ df['State'] + ',' +df['Zip_Code']\n",
    "                df['Prefix'] = df['Prefix'].apply(lambda x: \" \".join(x.split()))\n",
    "                df['Suffix'] = df['Suffix'].apply(lambda x: \" \".join(x.split()))\n",
    "                df['Address'] = df['Prefix'] + df['Suffix']    \n",
    "                \n",
    "                # rename the columns\n",
    "                df.rename(columns={\n",
    "                    'State': 'state', \n",
    "                    'County': 'county', \n",
    "                    'Zip_Code': 'zip',\n",
    "                    'Add_Number': 'add_number',\n",
    "                    'StreetName': 'street_name',\n",
    "                    'Longitude': 'longitude',\n",
    "                    'Latitude': 'latitude',\n",
    "                    'Address': 'address',\n",
    "                }, inplace=True)\n",
    "                \n",
    "                # Remove unecessary columns\n",
    "                df = df[['state', 'county', 'zip', 'longitude', 'latitude', 'address']]\n",
    "                \n",
    "                # Store this partial data frame\n",
    "                dfs.append(df)\n",
    "                i = 0\n",
    "                lines = ''             \n",
    "                "
   ]
  },
  {
   "cell_type": "code",
   "execution_count": 30,
   "id": "2fd5fc07",
   "metadata": {},
   "outputs": [],
   "source": [
    "# Column descriptors: https://www.transportation.gov/sites/dot.gov/files/docs/mission/gis/national-address-database/308816/nad-schema-v1.pdf"
   ]
  },
  {
   "cell_type": "code",
   "execution_count": 31,
   "id": "8310970b",
   "metadata": {},
   "outputs": [
    {
     "data": {
      "text/plain": [
       "63872"
      ]
     },
     "execution_count": 31,
     "metadata": {},
     "output_type": "execute_result"
    }
   ],
   "source": [
    "len(dfs)"
   ]
  },
  {
   "cell_type": "code",
   "execution_count": 32,
   "id": "3078eeaa",
   "metadata": {},
   "outputs": [],
   "source": [
    "df = pd.concat(dfs)"
   ]
  },
  {
   "cell_type": "code",
   "execution_count": 33,
   "id": "72bea6a4",
   "metadata": {},
   "outputs": [
    {
     "data": {
      "text/html": [
       "<div>\n",
       "<style scoped>\n",
       "    .dataframe tbody tr th:only-of-type {\n",
       "        vertical-align: middle;\n",
       "    }\n",
       "\n",
       "    .dataframe tbody tr th {\n",
       "        vertical-align: top;\n",
       "    }\n",
       "\n",
       "    .dataframe thead th {\n",
       "        text-align: right;\n",
       "    }\n",
       "</style>\n",
       "<table border=\"1\" class=\"dataframe\">\n",
       "  <thead>\n",
       "    <tr style=\"text-align: right;\">\n",
       "      <th></th>\n",
       "      <th>state</th>\n",
       "      <th>county</th>\n",
       "      <th>zip</th>\n",
       "      <th>longitude</th>\n",
       "      <th>latitude</th>\n",
       "      <th>address</th>\n",
       "    </tr>\n",
       "  </thead>\n",
       "  <tbody>\n",
       "    <tr>\n",
       "      <th>0</th>\n",
       "      <td>az</td>\n",
       "      <td>coconino</td>\n",
       "      <td>86336</td>\n",
       "      <td>-111.771770637</td>\n",
       "      <td>34.8280627940001</td>\n",
       "      <td>95 lynx drive,sedona,az,86336</td>\n",
       "    </tr>\n",
       "    <tr>\n",
       "      <th>1</th>\n",
       "      <td>az</td>\n",
       "      <td>coconino</td>\n",
       "      <td>86336</td>\n",
       "      <td>-111.769395183</td>\n",
       "      <td>34.828455976</td>\n",
       "      <td>33 eagle lane,sedona,az,86336</td>\n",
       "    </tr>\n",
       "    <tr>\n",
       "      <th>2</th>\n",
       "      <td>az</td>\n",
       "      <td>coconino</td>\n",
       "      <td>86336</td>\n",
       "      <td>-111.777281707</td>\n",
       "      <td>34.828623958</td>\n",
       "      <td>141 vista bonita drive,sedona,az,86336</td>\n",
       "    </tr>\n",
       "    <tr>\n",
       "      <th>3</th>\n",
       "      <td>az</td>\n",
       "      <td>coconino</td>\n",
       "      <td>86336</td>\n",
       "      <td>-111.775765885</td>\n",
       "      <td>34.8291778600001</td>\n",
       "      <td>109 badger drive,sedona,az,86336</td>\n",
       "    </tr>\n",
       "    <tr>\n",
       "      <th>4</th>\n",
       "      <td>az</td>\n",
       "      <td>coconino</td>\n",
       "      <td>86336</td>\n",
       "      <td>-111.773383133</td>\n",
       "      <td>34.824991696</td>\n",
       "      <td>30 fawn spur,sedona,az,86336</td>\n",
       "    </tr>\n",
       "    <tr>\n",
       "      <th>...</th>\n",
       "      <td>...</td>\n",
       "      <td>...</td>\n",
       "      <td>...</td>\n",
       "      <td>...</td>\n",
       "      <td>...</td>\n",
       "      <td>...</td>\n",
       "    </tr>\n",
       "    <tr>\n",
       "      <th>104</th>\n",
       "      <td>pa</td>\n",
       "      <td>westmoreland</td>\n",
       "      <td>15601</td>\n",
       "      <td>-79.52236881714968</td>\n",
       "      <td>40.290077006924825</td>\n",
       "      <td>605 farview drive,greensburg,pa,15601</td>\n",
       "    </tr>\n",
       "    <tr>\n",
       "      <th>105</th>\n",
       "      <td>pa</td>\n",
       "      <td>westmoreland</td>\n",
       "      <td>15601</td>\n",
       "      <td>-79.52241451804144</td>\n",
       "      <td>40.29008212001564</td>\n",
       "      <td>607 farview drive,greensburg,pa,15601</td>\n",
       "    </tr>\n",
       "    <tr>\n",
       "      <th>106</th>\n",
       "      <td>pa</td>\n",
       "      <td>westmoreland</td>\n",
       "      <td>15601</td>\n",
       "      <td>-79.52211734366738</td>\n",
       "      <td>40.290106697381</td>\n",
       "      <td>597 farview drive,greensburg,pa,15601</td>\n",
       "    </tr>\n",
       "    <tr>\n",
       "      <th>553</th>\n",
       "      <td>pa</td>\n",
       "      <td>westmoreland</td>\n",
       "      <td>15601</td>\n",
       "      <td>-79.52401315183624</td>\n",
       "      <td>40.29069422586329</td>\n",
       "      <td>598 farview drive,greensburg,pa,15601</td>\n",
       "    </tr>\n",
       "    <tr>\n",
       "      <th>864</th>\n",
       "      <td>pa</td>\n",
       "      <td>westmoreland</td>\n",
       "      <td>15668</td>\n",
       "      <td>-79.63702065133478</td>\n",
       "      <td>40.487673757227135</td>\n",
       "      <td>5288 ashbaugh road,murrysville,pa,15668</td>\n",
       "    </tr>\n",
       "  </tbody>\n",
       "</table>\n",
       "<p>62897725 rows × 6 columns</p>\n",
       "</div>"
      ],
      "text/plain": [
       "    state        county    zip           longitude            latitude  \\\n",
       "0      az      coconino  86336      -111.771770637    34.8280627940001   \n",
       "1      az      coconino  86336      -111.769395183        34.828455976   \n",
       "2      az      coconino  86336      -111.777281707        34.828623958   \n",
       "3      az      coconino  86336      -111.775765885    34.8291778600001   \n",
       "4      az      coconino  86336      -111.773383133        34.824991696   \n",
       "..    ...           ...    ...                 ...                 ...   \n",
       "104    pa  westmoreland  15601  -79.52236881714968  40.290077006924825   \n",
       "105    pa  westmoreland  15601  -79.52241451804144   40.29008212001564   \n",
       "106    pa  westmoreland  15601  -79.52211734366738     40.290106697381   \n",
       "553    pa  westmoreland  15601  -79.52401315183624   40.29069422586329   \n",
       "864    pa  westmoreland  15668  -79.63702065133478  40.487673757227135   \n",
       "\n",
       "                                     address  \n",
       "0              95 lynx drive,sedona,az,86336  \n",
       "1              33 eagle lane,sedona,az,86336  \n",
       "2     141 vista bonita drive,sedona,az,86336  \n",
       "3           109 badger drive,sedona,az,86336  \n",
       "4               30 fawn spur,sedona,az,86336  \n",
       "..                                       ...  \n",
       "104    605 farview drive,greensburg,pa,15601  \n",
       "105    607 farview drive,greensburg,pa,15601  \n",
       "106    597 farview drive,greensburg,pa,15601  \n",
       "553    598 farview drive,greensburg,pa,15601  \n",
       "864  5288 ashbaugh road,murrysville,pa,15668  \n",
       "\n",
       "[62897725 rows x 6 columns]"
      ]
     },
     "execution_count": 33,
     "metadata": {},
     "output_type": "execute_result"
    }
   ],
   "source": [
    "df"
   ]
  },
  {
   "cell_type": "markdown",
   "id": "a7ad8ef4",
   "metadata": {},
   "source": [
    "# Sample verify address"
   ]
  },
  {
   "cell_type": "code",
   "execution_count": 34,
   "id": "1f24b435",
   "metadata": {},
   "outputs": [],
   "source": [
    "# url = 'https://geocoding.geo.census.gov/geocoder/locations/addressbatch'\n",
    "# s_buf = io.StringIO()\n",
    "# # saving a data frame to a buffer (same as with a regular file):\n",
    "# # s = '\\n'.join(list(df['Address']))\n",
    "# # print(s)\n",
    "# s_buf = io.StringIO()\n",
    "# # saving a data frame to a buffer (same as with a regular file):\n",
    "# df['Address'].to_csv(s_buf, index=False)\n",
    "# df['Address'].to_csv('../data/temp_addr.csv', index=False)\n",
    "# print(df['Address'])"
   ]
  },
  {
   "cell_type": "code",
   "execution_count": 35,
   "id": "e0ed8e92",
   "metadata": {},
   "outputs": [
    {
     "name": "stdout",
     "output_type": "stream",
     "text": [
      "4992 pedersen road,batavia,oh,45103\n",
      "{'result': {'input': {'address': {'address': '4992 pedersen road,batavia,oh,45103'}, 'benchmark': {'isDefault': False, 'benchmarkDescription': 'Public Address Ranges - Census 2020 Benchmark', 'id': '2020', 'benchmarkName': 'Public_AR_Census2020'}}, 'addressMatches': [{'tigerLine': {'side': 'R', 'tigerLineId': '649136393'}, 'coordinates': {'x': -84.1096450115893, 'y': 39.17269972282121}, 'addressComponents': {'zip': '45103', 'streetName': 'PEDERSEN', 'preType': '', 'city': 'BATAVIA', 'preDirection': '', 'suffixDirection': '', 'fromAddress': '4800', 'state': 'OH', 'suffixType': 'RD', 'toAddress': '5998', 'suffixQualifier': '', 'preQualifier': ''}, 'matchedAddress': '4992 PEDERSEN RD, BATAVIA, OH, 45103'}]}}\n",
      "True\n"
     ]
    }
   ],
   "source": [
    "test_address = df['address'].sample(1).values[0]\n",
    "print(test_address)\n",
    "r = requests.get('https://geocoding.geo.census.gov/geocoder/locations/onelineaddress?address=%s&benchmark=2020&format=json' % test_address).json()\n",
    "print(r)  \n",
    "print(len(r['result']['addressMatches']) > 0)"
   ]
  },
  {
   "cell_type": "code",
   "execution_count": 36,
   "id": "91080917",
   "metadata": {},
   "outputs": [],
   "source": [
    "# # https://geocoding.geo.census.gov/geocoder/Geocoding_Services_API.pdf\n",
    "# # curl --form addressFile=@localfile.csv --form benchmark=2020 https://geocoding.geo.census.gov/geocoder/locations/addressbatch --output geocoderesult.csv\n",
    "# # https://curlconverter.com/\n",
    "\n",
    "# url = 'https://geocoding.geo.census.gov/geocoder/locations/addressbatch'\n",
    "# files = {\n",
    "#     'addressFile': open('../data/temp_addr.csv', 'r'),\n",
    "#     'benchmark': (None, '2020'),\n",
    "# }\n",
    "\n",
    "# response = requests.post('https://geocoding.geo.census.gov/geocoder/locations/addressbatch', files=files)\n",
    "# print(response.content)\n",
    "# print(response)"
   ]
  },
  {
   "cell_type": "code",
   "execution_count": 37,
   "id": "3c865b0c",
   "metadata": {},
   "outputs": [],
   "source": [
    "# len(df['State'].unique()) # check number of different states"
   ]
  },
  {
   "cell_type": "markdown",
   "id": "ccef49a8",
   "metadata": {},
   "source": [
    "# Save files by county (because by zip code > 50 Mb file limit of GitHub)"
   ]
  },
  {
   "cell_type": "code",
   "execution_count": 38,
   "id": "649399b2",
   "metadata": {},
   "outputs": [
    {
     "name": "stderr",
     "output_type": "stream",
     "text": [
      "100%|█████████████████████████████████████████████████████████████████████████████████████████████████████████████████████████████████████████████████████████████████| 1082/1082 [3:00:44<00:00, 10.02s/it]\n"
     ]
    }
   ],
   "source": [
    "counties = df['county'].unique()\n",
    "sc_list = []\n",
    "\n",
    "for county in tqdm(counties):\n",
    "    pdf = df[df['county'] == county]\n",
    "    state = list(pdf['state'].unique())[0] # get the state value\n",
    "    pdf.to_csv('../data/%s_%s.csv.xz' % (state, county), index=False)\n",
    "    sc_list.append('%s_%s.csv.xz' % (state, county))"
   ]
  },
  {
   "cell_type": "markdown",
   "id": "94cb151c",
   "metadata": {},
   "source": [
    "# Save list of names to a json file"
   ]
  },
  {
   "cell_type": "code",
   "execution_count": 39,
   "id": "a941eae8",
   "metadata": {},
   "outputs": [],
   "source": [
    "with open('../data/state_county.json', 'w') as f:\n",
    "    json.dump(sc_list, f)"
   ]
  }
 ],
 "metadata": {
  "kernelspec": {
   "display_name": "Python 3 (ipykernel)",
   "language": "python",
   "name": "python3"
  },
  "language_info": {
   "codemirror_mode": {
    "name": "ipython",
    "version": 3
   },
   "file_extension": ".py",
   "mimetype": "text/x-python",
   "name": "python",
   "nbconvert_exporter": "python",
   "pygments_lexer": "ipython3",
   "version": "3.10.7"
  }
 },
 "nbformat": 4,
 "nbformat_minor": 5
}
