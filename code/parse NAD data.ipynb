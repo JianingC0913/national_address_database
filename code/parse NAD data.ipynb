{
 "cells": [
  {
   "cell_type": "code",
   "execution_count": 1,
   "id": "790c5da0",
   "metadata": {},
   "outputs": [],
   "source": [
    "import pandas as pd\n",
    "import io\n",
    "from tqdm import tqdm\n",
    "from time import sleep\n",
    "import numpy as np"
   ]
  },
  {
   "cell_type": "code",
   "execution_count": 2,
   "id": "0e2e78a7",
   "metadata": {},
   "outputs": [],
   "source": [
    "filepath = '../data/NAD_r11.txt' # too large to push onto Git, but is part of the download from here: https://nationaladdressdata.s3.amazonaws.com/NAD_r12_TXT.zip"
   ]
  },
  {
   "cell_type": "code",
   "execution_count": 3,
   "id": "1a19771a",
   "metadata": {},
   "outputs": [
    {
     "name": "stdout",
     "output_type": "stream",
     "text": [
      "OID,State,County,Inc_Muni,Uninc_Comm,Nbrhd_Comm,Post_Comm,Zip_Code,Plus_4,Bulk_Zip,Bulk_Plus4,StN_PreMod,StN_PreDir,StN_PreTyp,StN_PreSep,StreetName,StN_PosTyp,StN_PosDir,StN_PosMod,AddNum_Pre,Add_Number,AddNum_Suf,LandmkPart,LandmkName,Building,Floor,Unit,Room,Addtl_Loc,Milepost,Longitude,Latitude,NatGrid_Coord,GUID,Addr_Type,Placement,Source,AddAuth,UniqWithin,LastUpdate,Effective,Expired\n",
      "\n"
     ]
    }
   ],
   "source": [
    "first_line = None\n",
    "\n",
    "with open(filepath) as f:\n",
    "    first_line = f.readline()\n",
    "\n",
    "print(first_line)"
   ]
  },
  {
   "cell_type": "code",
   "execution_count": 4,
   "id": "c5b8ed2a",
   "metadata": {},
   "outputs": [
    {
     "name": "stdout",
     "output_type": "stream",
     "text": [
      "Total number of lines: 67357690\n"
     ]
    }
   ],
   "source": [
    "total_lines = sum(1 for line in open(filepath))\n",
    "print('Total number of lines: %s' % total_lines)"
   ]
  },
  {
   "cell_type": "code",
   "execution_count": 5,
   "id": "b4e2c3dc",
   "metadata": {},
   "outputs": [],
   "source": [
    "import warnings\n",
    "warnings.filterwarnings('ignore')"
   ]
  },
  {
   "cell_type": "code",
   "execution_count": 6,
   "id": "cf5ed267",
   "metadata": {},
   "outputs": [
    {
     "name": "stderr",
     "output_type": "stream",
     "text": [
      "100%|███████████████████████████| 67357689/67357689 [07:08<00:00, 157052.86it/s]\n"
     ]
    }
   ],
   "source": [
    "step = 1000\n",
    "dfs = []\n",
    "\n",
    "with tqdm(total=total_lines-1) as pbar:\n",
    "    with open(filepath) as f:\n",
    "        f.readline() # skip first line\n",
    "        i = 0\n",
    "        lines = ''\n",
    "        for line in f:\n",
    "            pbar.update(1)\n",
    "            i += 1\n",
    "            lines += line\n",
    "            if i > 1000:\n",
    "\n",
    "                df = pd.read_csv(io.StringIO(first_line + lines), low_memory=False)\n",
    "                pdf = df[['State', 'County', 'Zip_Code', 'Add_Number', 'StreetName', 'Longitude', 'Latitude']]\n",
    "                pdf = pdf.astype(str)                \n",
    "                pdf['Address'] = pdf['Add_Number'] + ' ' + pdf['StreetName'] + ' ' + pdf['State'] + ' ' + pdf['Zip_Code']\n",
    "                dfs.append(pdf)\n",
    "                i = 0\n",
    "                lines = ''\n",
    "                "
   ]
  },
  {
   "cell_type": "code",
   "execution_count": 7,
   "id": "2fd5fc07",
   "metadata": {},
   "outputs": [],
   "source": [
    "# Column descriptors: https://www.transportation.gov/sites/dot.gov/files/docs/mission/gis/national-address-database/308816/nad-schema-v1.pdf"
   ]
  },
  {
   "cell_type": "code",
   "execution_count": 8,
   "id": "8310970b",
   "metadata": {},
   "outputs": [
    {
     "data": {
      "text/plain": [
       "67290"
      ]
     },
     "execution_count": 8,
     "metadata": {},
     "output_type": "execute_result"
    }
   ],
   "source": [
    "len(dfs)"
   ]
  },
  {
   "cell_type": "code",
   "execution_count": 9,
   "id": "3078eeaa",
   "metadata": {},
   "outputs": [],
   "source": [
    "df = pd.concat(dfs)"
   ]
  },
  {
   "cell_type": "code",
   "execution_count": 10,
   "id": "72bea6a4",
   "metadata": {},
   "outputs": [
    {
     "data": {
      "text/html": [
       "<div>\n",
       "<style scoped>\n",
       "    .dataframe tbody tr th:only-of-type {\n",
       "        vertical-align: middle;\n",
       "    }\n",
       "\n",
       "    .dataframe tbody tr th {\n",
       "        vertical-align: top;\n",
       "    }\n",
       "\n",
       "    .dataframe thead th {\n",
       "        text-align: right;\n",
       "    }\n",
       "</style>\n",
       "<table border=\"1\" class=\"dataframe\">\n",
       "  <thead>\n",
       "    <tr style=\"text-align: right;\">\n",
       "      <th></th>\n",
       "      <th>State</th>\n",
       "      <th>County</th>\n",
       "      <th>Zip_Code</th>\n",
       "      <th>Add_Number</th>\n",
       "      <th>StreetName</th>\n",
       "      <th>Longitude</th>\n",
       "      <th>Latitude</th>\n",
       "      <th>Address</th>\n",
       "    </tr>\n",
       "  </thead>\n",
       "  <tbody>\n",
       "    <tr>\n",
       "      <th>0</th>\n",
       "      <td>AZ</td>\n",
       "      <td>Coconino</td>\n",
       "      <td>86336</td>\n",
       "      <td>95</td>\n",
       "      <td>LYNX</td>\n",
       "      <td>-111.771770637</td>\n",
       "      <td>34.8280627940001</td>\n",
       "      <td>95 LYNX AZ 86336</td>\n",
       "    </tr>\n",
       "    <tr>\n",
       "      <th>1</th>\n",
       "      <td>AZ</td>\n",
       "      <td>Coconino</td>\n",
       "      <td>86336</td>\n",
       "      <td>33</td>\n",
       "      <td>EAGLE</td>\n",
       "      <td>-111.769395183</td>\n",
       "      <td>34.828455976</td>\n",
       "      <td>33 EAGLE AZ 86336</td>\n",
       "    </tr>\n",
       "    <tr>\n",
       "      <th>2</th>\n",
       "      <td>AZ</td>\n",
       "      <td>Coconino</td>\n",
       "      <td>86336</td>\n",
       "      <td>141</td>\n",
       "      <td>VISTA BONITA</td>\n",
       "      <td>-111.777281707</td>\n",
       "      <td>34.828623958</td>\n",
       "      <td>141 VISTA BONITA AZ 86336</td>\n",
       "    </tr>\n",
       "    <tr>\n",
       "      <th>3</th>\n",
       "      <td>AZ</td>\n",
       "      <td>Coconino</td>\n",
       "      <td>86336</td>\n",
       "      <td>109</td>\n",
       "      <td>BADGER</td>\n",
       "      <td>-111.775765885</td>\n",
       "      <td>34.8291778600001</td>\n",
       "      <td>109 BADGER AZ 86336</td>\n",
       "    </tr>\n",
       "    <tr>\n",
       "      <th>4</th>\n",
       "      <td>AZ</td>\n",
       "      <td>Coconino</td>\n",
       "      <td>86336</td>\n",
       "      <td>30</td>\n",
       "      <td>FAWN</td>\n",
       "      <td>-111.773383133</td>\n",
       "      <td>34.824991696</td>\n",
       "      <td>30 FAWN AZ 86336</td>\n",
       "    </tr>\n",
       "    <tr>\n",
       "      <th>...</th>\n",
       "      <td>...</td>\n",
       "      <td>...</td>\n",
       "      <td>...</td>\n",
       "      <td>...</td>\n",
       "      <td>...</td>\n",
       "      <td>...</td>\n",
       "      <td>...</td>\n",
       "      <td>...</td>\n",
       "    </tr>\n",
       "    <tr>\n",
       "      <th>996</th>\n",
       "      <td>PA</td>\n",
       "      <td>Westmoreland</td>\n",
       "      <td>nan</td>\n",
       "      <td>3073</td>\n",
       "      <td>Audrey</td>\n",
       "      <td>-79.57448066349987</td>\n",
       "      <td>40.27125643079627</td>\n",
       "      <td>3073 Audrey PA nan</td>\n",
       "    </tr>\n",
       "    <tr>\n",
       "      <th>997</th>\n",
       "      <td>PA</td>\n",
       "      <td>Westmoreland</td>\n",
       "      <td>nan</td>\n",
       "      <td>3075</td>\n",
       "      <td>Audrey</td>\n",
       "      <td>-79.5743142038811</td>\n",
       "      <td>40.27121039055359</td>\n",
       "      <td>3075 Audrey PA nan</td>\n",
       "    </tr>\n",
       "    <tr>\n",
       "      <th>998</th>\n",
       "      <td>PA</td>\n",
       "      <td>Westmoreland</td>\n",
       "      <td>nan</td>\n",
       "      <td>3079</td>\n",
       "      <td>Audrey</td>\n",
       "      <td>-79.57414191689105</td>\n",
       "      <td>40.27118391184811</td>\n",
       "      <td>3079 Audrey PA nan</td>\n",
       "    </tr>\n",
       "    <tr>\n",
       "      <th>999</th>\n",
       "      <td>PA</td>\n",
       "      <td>Westmoreland</td>\n",
       "      <td>nan</td>\n",
       "      <td>3081</td>\n",
       "      <td>Audrey</td>\n",
       "      <td>-79.57395784490284</td>\n",
       "      <td>40.27119169192235</td>\n",
       "      <td>3081 Audrey PA nan</td>\n",
       "    </tr>\n",
       "    <tr>\n",
       "      <th>1000</th>\n",
       "      <td>PA</td>\n",
       "      <td>Westmoreland</td>\n",
       "      <td>nan</td>\n",
       "      <td>3085</td>\n",
       "      <td>Audrey</td>\n",
       "      <td>-79.57377442958307</td>\n",
       "      <td>40.27122379851295</td>\n",
       "      <td>3085 Audrey PA nan</td>\n",
       "    </tr>\n",
       "  </tbody>\n",
       "</table>\n",
       "<p>67357290 rows × 8 columns</p>\n",
       "</div>"
      ],
      "text/plain": [
       "     State        County Zip_Code Add_Number    StreetName  \\\n",
       "0       AZ      Coconino    86336         95          LYNX   \n",
       "1       AZ      Coconino    86336         33         EAGLE   \n",
       "2       AZ      Coconino    86336        141  VISTA BONITA   \n",
       "3       AZ      Coconino    86336        109        BADGER   \n",
       "4       AZ      Coconino    86336         30          FAWN   \n",
       "...    ...           ...      ...        ...           ...   \n",
       "996     PA  Westmoreland      nan       3073        Audrey   \n",
       "997     PA  Westmoreland      nan       3075        Audrey   \n",
       "998     PA  Westmoreland      nan       3079        Audrey   \n",
       "999     PA  Westmoreland      nan       3081        Audrey   \n",
       "1000    PA  Westmoreland      nan       3085        Audrey   \n",
       "\n",
       "               Longitude           Latitude                    Address  \n",
       "0         -111.771770637   34.8280627940001           95 LYNX AZ 86336  \n",
       "1         -111.769395183       34.828455976          33 EAGLE AZ 86336  \n",
       "2         -111.777281707       34.828623958  141 VISTA BONITA AZ 86336  \n",
       "3         -111.775765885   34.8291778600001        109 BADGER AZ 86336  \n",
       "4         -111.773383133       34.824991696           30 FAWN AZ 86336  \n",
       "...                  ...                ...                        ...  \n",
       "996   -79.57448066349987  40.27125643079627         3073 Audrey PA nan  \n",
       "997    -79.5743142038811  40.27121039055359         3075 Audrey PA nan  \n",
       "998   -79.57414191689105  40.27118391184811         3079 Audrey PA nan  \n",
       "999   -79.57395784490284  40.27119169192235         3081 Audrey PA nan  \n",
       "1000  -79.57377442958307  40.27122379851295         3085 Audrey PA nan  \n",
       "\n",
       "[67357290 rows x 8 columns]"
      ]
     },
     "execution_count": 10,
     "metadata": {},
     "output_type": "execute_result"
    }
   ],
   "source": [
    "df"
   ]
  },
  {
   "cell_type": "code",
   "execution_count": 11,
   "id": "1deb083b",
   "metadata": {},
   "outputs": [
    {
     "data": {
      "text/plain": [
       "33"
      ]
     },
     "execution_count": 11,
     "metadata": {},
     "output_type": "execute_result"
    }
   ],
   "source": [
    "len(df[df['Zip_Code'] == 'nan']['State'].unique())"
   ]
  },
  {
   "cell_type": "code",
   "execution_count": 19,
   "id": "ccc44d00",
   "metadata": {},
   "outputs": [
    {
     "data": {
      "text/html": [
       "<div>\n",
       "<style scoped>\n",
       "    .dataframe tbody tr th:only-of-type {\n",
       "        vertical-align: middle;\n",
       "    }\n",
       "\n",
       "    .dataframe tbody tr th {\n",
       "        vertical-align: top;\n",
       "    }\n",
       "\n",
       "    .dataframe thead th {\n",
       "        text-align: right;\n",
       "    }\n",
       "</style>\n",
       "<table border=\"1\" class=\"dataframe\">\n",
       "  <thead>\n",
       "    <tr style=\"text-align: right;\">\n",
       "      <th></th>\n",
       "      <th>State</th>\n",
       "      <th>County</th>\n",
       "      <th>Zip_Code</th>\n",
       "      <th>Add_Number</th>\n",
       "      <th>StreetName</th>\n",
       "      <th>Longitude</th>\n",
       "      <th>Latitude</th>\n",
       "      <th>Address</th>\n",
       "    </tr>\n",
       "  </thead>\n",
       "  <tbody>\n",
       "    <tr>\n",
       "      <th>0</th>\n",
       "      <td>AZ</td>\n",
       "      <td>Coconino</td>\n",
       "      <td>86336</td>\n",
       "      <td>95</td>\n",
       "      <td>LYNX</td>\n",
       "      <td>-111.771770637</td>\n",
       "      <td>34.8280627940001</td>\n",
       "      <td>95 LYNX AZ 86336</td>\n",
       "    </tr>\n",
       "    <tr>\n",
       "      <th>1</th>\n",
       "      <td>AZ</td>\n",
       "      <td>Coconino</td>\n",
       "      <td>86336</td>\n",
       "      <td>33</td>\n",
       "      <td>EAGLE</td>\n",
       "      <td>-111.769395183</td>\n",
       "      <td>34.828455976</td>\n",
       "      <td>33 EAGLE AZ 86336</td>\n",
       "    </tr>\n",
       "    <tr>\n",
       "      <th>2</th>\n",
       "      <td>AZ</td>\n",
       "      <td>Coconino</td>\n",
       "      <td>86336</td>\n",
       "      <td>141</td>\n",
       "      <td>VISTA BONITA</td>\n",
       "      <td>-111.777281707</td>\n",
       "      <td>34.828623958</td>\n",
       "      <td>141 VISTA BONITA AZ 86336</td>\n",
       "    </tr>\n",
       "    <tr>\n",
       "      <th>3</th>\n",
       "      <td>AZ</td>\n",
       "      <td>Coconino</td>\n",
       "      <td>86336</td>\n",
       "      <td>109</td>\n",
       "      <td>BADGER</td>\n",
       "      <td>-111.775765885</td>\n",
       "      <td>34.8291778600001</td>\n",
       "      <td>109 BADGER AZ 86336</td>\n",
       "    </tr>\n",
       "    <tr>\n",
       "      <th>4</th>\n",
       "      <td>AZ</td>\n",
       "      <td>Coconino</td>\n",
       "      <td>86336</td>\n",
       "      <td>30</td>\n",
       "      <td>FAWN</td>\n",
       "      <td>-111.773383133</td>\n",
       "      <td>34.824991696</td>\n",
       "      <td>30 FAWN AZ 86336</td>\n",
       "    </tr>\n",
       "    <tr>\n",
       "      <th>...</th>\n",
       "      <td>...</td>\n",
       "      <td>...</td>\n",
       "      <td>...</td>\n",
       "      <td>...</td>\n",
       "      <td>...</td>\n",
       "      <td>...</td>\n",
       "      <td>...</td>\n",
       "      <td>...</td>\n",
       "    </tr>\n",
       "    <tr>\n",
       "      <th>104</th>\n",
       "      <td>PA</td>\n",
       "      <td>Westmoreland</td>\n",
       "      <td>15601.0</td>\n",
       "      <td>605</td>\n",
       "      <td>Farview</td>\n",
       "      <td>-79.52236881714968</td>\n",
       "      <td>40.290077006924825</td>\n",
       "      <td>605 Farview PA 15601.0</td>\n",
       "    </tr>\n",
       "    <tr>\n",
       "      <th>105</th>\n",
       "      <td>PA</td>\n",
       "      <td>Westmoreland</td>\n",
       "      <td>15601.0</td>\n",
       "      <td>607</td>\n",
       "      <td>Farview</td>\n",
       "      <td>-79.52241451804144</td>\n",
       "      <td>40.29008212001564</td>\n",
       "      <td>607 Farview PA 15601.0</td>\n",
       "    </tr>\n",
       "    <tr>\n",
       "      <th>106</th>\n",
       "      <td>PA</td>\n",
       "      <td>Westmoreland</td>\n",
       "      <td>15601.0</td>\n",
       "      <td>597</td>\n",
       "      <td>Farview</td>\n",
       "      <td>-79.52211734366738</td>\n",
       "      <td>40.290106697381</td>\n",
       "      <td>597 Farview PA 15601.0</td>\n",
       "    </tr>\n",
       "    <tr>\n",
       "      <th>553</th>\n",
       "      <td>PA</td>\n",
       "      <td>Westmoreland</td>\n",
       "      <td>15601.0</td>\n",
       "      <td>598</td>\n",
       "      <td>Farview</td>\n",
       "      <td>-79.52401315183624</td>\n",
       "      <td>40.29069422586329</td>\n",
       "      <td>598 Farview PA 15601.0</td>\n",
       "    </tr>\n",
       "    <tr>\n",
       "      <th>864</th>\n",
       "      <td>PA</td>\n",
       "      <td>Westmoreland</td>\n",
       "      <td>15668.0</td>\n",
       "      <td>5288</td>\n",
       "      <td>Ashbaugh</td>\n",
       "      <td>-79.63702065133478</td>\n",
       "      <td>40.487673757227135</td>\n",
       "      <td>5288 Ashbaugh PA 15668.0</td>\n",
       "    </tr>\n",
       "  </tbody>\n",
       "</table>\n",
       "<p>62897908 rows × 8 columns</p>\n",
       "</div>"
      ],
      "text/plain": [
       "    State        County Zip_Code Add_Number    StreetName           Longitude  \\\n",
       "0      AZ      Coconino    86336         95          LYNX      -111.771770637   \n",
       "1      AZ      Coconino    86336         33         EAGLE      -111.769395183   \n",
       "2      AZ      Coconino    86336        141  VISTA BONITA      -111.777281707   \n",
       "3      AZ      Coconino    86336        109        BADGER      -111.775765885   \n",
       "4      AZ      Coconino    86336         30          FAWN      -111.773383133   \n",
       "..    ...           ...      ...        ...           ...                 ...   \n",
       "104    PA  Westmoreland  15601.0        605       Farview  -79.52236881714968   \n",
       "105    PA  Westmoreland  15601.0        607       Farview  -79.52241451804144   \n",
       "106    PA  Westmoreland  15601.0        597       Farview  -79.52211734366738   \n",
       "553    PA  Westmoreland  15601.0        598       Farview  -79.52401315183624   \n",
       "864    PA  Westmoreland  15668.0       5288      Ashbaugh  -79.63702065133478   \n",
       "\n",
       "               Latitude                    Address  \n",
       "0      34.8280627940001           95 LYNX AZ 86336  \n",
       "1          34.828455976          33 EAGLE AZ 86336  \n",
       "2          34.828623958  141 VISTA BONITA AZ 86336  \n",
       "3      34.8291778600001        109 BADGER AZ 86336  \n",
       "4          34.824991696           30 FAWN AZ 86336  \n",
       "..                  ...                        ...  \n",
       "104  40.290077006924825     605 Farview PA 15601.0  \n",
       "105   40.29008212001564     607 Farview PA 15601.0  \n",
       "106     40.290106697381     597 Farview PA 15601.0  \n",
       "553   40.29069422586329     598 Farview PA 15601.0  \n",
       "864  40.487673757227135   5288 Ashbaugh PA 15668.0  \n",
       "\n",
       "[62897908 rows x 8 columns]"
      ]
     },
     "execution_count": 19,
     "metadata": {},
     "output_type": "execute_result"
    }
   ],
   "source": [
    "tdf = df[df['Zip_Code'] != 'nan']\n",
    "tdf"
   ]
  },
  {
   "cell_type": "code",
   "execution_count": 26,
   "id": "24df03a3",
   "metadata": {},
   "outputs": [],
   "source": [
    "tdf['zip_num'] = tdf['Zip_Code'].apply(lambda x: np.isreal(x)) #"
   ]
  },
  {
   "cell_type": "code",
   "execution_count": 29,
   "id": "bb254943",
   "metadata": {
    "scrolled": false
   },
   "outputs": [
    {
     "name": "stderr",
     "output_type": "stream",
     "text": [
      "  5%|█▍                         | 3456764/62897908 [00:01<00:41, 1416385.87it/s]"
     ]
    },
    {
     "name": "stdout",
     "output_type": "stream",
     "text": [
      "IA\n"
     ]
    },
    {
     "name": "stderr",
     "output_type": "stream",
     "text": [
      "  7%|█▊                         | 4361685/62897908 [00:02<00:28, 2024327.34it/s]"
     ]
    },
    {
     "name": "stdout",
     "output_type": "stream",
     "text": [
      "5-156\n"
     ]
    },
    {
     "name": "stderr",
     "output_type": "stream",
     "text": [
      " 18%|████▌                     | 11111315/62897908 [00:04<00:18, 2844637.95it/s]"
     ]
    },
    {
     "name": "stdout",
     "output_type": "stream",
     "text": [
      "MO\n",
      "MO\n",
      "MO\n",
      "MO\n",
      "MO\n"
     ]
    },
    {
     "name": "stderr",
     "output_type": "stream",
     "text": [
      " 30%|███████▋                  | 18578491/62897908 [00:07<00:15, 2775249.10it/s]"
     ]
    },
    {
     "name": "stdout",
     "output_type": "stream",
     "text": [
      "42718`\n",
      "9-971\n",
      "ALBAN\n",
      "SBURG\n",
      "42718`\n"
     ]
    },
    {
     "name": "stderr",
     "output_type": "stream",
     "text": [
      " 31%|████████▏                 | 19773362/62897908 [00:07<00:15, 2853055.91it/s]"
     ]
    },
    {
     "name": "stdout",
     "output_type": "stream",
     "text": [
      "MD\n"
     ]
    },
    {
     "name": "stderr",
     "output_type": "stream",
     "text": [
      " 33%|████████▌                 | 20653436/62897908 [00:08<00:14, 2824062.37it/s]"
     ]
    },
    {
     "name": "stdout",
     "output_type": "stream",
     "text": [
      "RKPT\n",
      "RKPT\n",
      "RKPT\n",
      "RKPT\n",
      "RKPT\n",
      "RKPT\n",
      "RKPT\n",
      "RKPT\n",
      "RKPT\n"
     ]
    },
    {
     "name": "stderr",
     "output_type": "stream",
     "text": [
      " 36%|█████████▎                | 22428962/62897908 [00:08<00:14, 2809156.52it/s]"
     ]
    },
    {
     "name": "stdout",
     "output_type": "stream",
     "text": [
      "LAMES\n",
      "TEXAS\n"
     ]
    },
    {
     "name": "stderr",
     "output_type": "stream",
     "text": [
      " 38%|█████████▊                | 23644080/62897908 [00:09<00:13, 2873443.57it/s]"
     ]
    },
    {
     "name": "stdout",
     "output_type": "stream",
     "text": [
      "TX\n"
     ]
    },
    {
     "name": "stderr",
     "output_type": "stream",
     "text": [
      " 40%|██████████▍               | 25145571/62897908 [00:09<00:13, 2867491.33it/s]"
     ]
    },
    {
     "name": "stdout",
     "output_type": "stream",
     "text": [
      "766HH\n",
      "766HH\n",
      "KEENE\n",
      "KEENE\n",
      "KEENE\n",
      "KEENE\n",
      "MABAN\n",
      "KAUFM\n",
      "<Null\n",
      "TERRE\n",
      "MABAN\n",
      "KEMP\n",
      "78/60\n",
      "78/60\n"
     ]
    },
    {
     "name": "stderr",
     "output_type": "stream",
     "text": [
      " 41%|██████████▊               | 26037725/62897908 [00:09<00:12, 2953733.63it/s]"
     ]
    },
    {
     "name": "stdout",
     "output_type": "stream",
     "text": [
      "TILDE\n",
      "SUNSE\n",
      "NOCON\n",
      "AZLE\n",
      "AZLE\n",
      "AZLE\n",
      "AZLE\n",
      "AZLE\n",
      "AZLE\n",
      "AZLE\n",
      "AZLE\n",
      "AZLE\n",
      "AZLE\n",
      "AZLE\n",
      "AZLE\n",
      "AZLE\n",
      "AZLE\n",
      "AZLE\n",
      "AZLE\n",
      "AZLE\n",
      "AZLE\n",
      "AZLE\n",
      "AZLE\n",
      "AZLE\n",
      "MILLS\n",
      "AZLE\n",
      "AZLE\n",
      "WHITT\n",
      "ALEDO\n",
      "ALEDO\n",
      "ALEDO\n",
      "TX\n"
     ]
    },
    {
     "name": "stderr",
     "output_type": "stream",
     "text": [
      " 42%|███████████               | 26628097/62897908 [00:10<00:12, 2866715.07it/s]"
     ]
    },
    {
     "name": "stdout",
     "output_type": "stream",
     "text": [
      "TX\n",
      "GILME\n",
      "EDGEW\n"
     ]
    },
    {
     "name": "stderr",
     "output_type": "stream",
     "text": [
      " 44%|███████████▍              | 27797773/62897908 [00:10<00:12, 2875303.21it/s]"
     ]
    },
    {
     "name": "stdout",
     "output_type": "stream",
     "text": [
      "WINK\n",
      "WINK\n",
      "WISE\n",
      "BOYD\n",
      "BRIDG\n",
      "PARAD\n",
      "PARAD\n",
      "QUITM\n",
      "LOVIN\n",
      "TEXAS\n"
     ]
    },
    {
     "name": "stderr",
     "output_type": "stream",
     "text": [
      " 67%|█████████████████▎        | 41990926/62897908 [00:15<00:07, 2853127.88it/s]"
     ]
    },
    {
     "name": "stdout",
     "output_type": "stream",
     "text": [
      "**!)!\n",
      "Dulce\n",
      "C\n"
     ]
    },
    {
     "name": "stderr",
     "output_type": "stream",
     "text": [
      " 68%|█████████████████▋        | 42849011/62897908 [00:15<00:07, 2813406.25it/s]"
     ]
    },
    {
     "name": "stdout",
     "output_type": "stream",
     "text": [
      "C\n",
      "NM\n",
      "NM\n",
      "NM\n",
      "87OO6\n",
      "VABEL\n",
      "VABEL\n",
      "VABEL\n",
      "VABEL\n",
      "VABEL\n",
      "VABEL\n",
      "VABEL\n",
      "VABEL\n",
      "VABEL\n",
      "VABEL\n",
      "VABEL\n",
      "VABEL\n",
      "VABEL\n",
      "VABEL\n",
      "VABEL\n",
      "VABEL\n",
      "VABEL\n",
      "VABEL\n",
      "VABEL\n",
      "VABEL\n",
      "VABEL\n",
      "VABEL\n",
      "VABEL\n",
      "VABEL\n"
     ]
    },
    {
     "name": "stderr",
     "output_type": "stream",
     "text": [
      " 79%|████████████████████▍     | 49409181/62897908 [00:18<00:04, 2870718.85it/s]"
     ]
    },
    {
     "name": "stdout",
     "output_type": "stream",
     "text": [
      "RD\n",
      "RD\n",
      "MAPLE\n",
      "RD\n",
      "Y\n",
      "Y\n",
      "TN\n",
      "LAKE\n",
      "ROGER\n",
      "FIRE\n",
      "383/5\n"
     ]
    },
    {
     "name": "stderr",
     "output_type": "stream",
     "text": [
      " 80%|████████████████████▊     | 50297545/62897908 [00:18<00:04, 2841668.26it/s]"
     ]
    },
    {
     "name": "stdout",
     "output_type": "stream",
     "text": [
      "CHURC\n",
      "TN\n",
      "TN\n",
      "38-06\n"
     ]
    },
    {
     "name": "stderr",
     "output_type": "stream",
     "text": [
      " 81%|█████████████████████▏    | 51183303/62897908 [00:18<00:04, 2869461.28it/s]"
     ]
    },
    {
     "name": "stdout",
     "output_type": "stream",
     "text": [
      "38-68\n",
      "TN\n",
      "TN\n",
      "TN\n",
      "383 5\n",
      "37-58\n"
     ]
    },
    {
     "name": "stderr",
     "output_type": "stream",
     "text": [
      " 82%|█████████████████████▍    | 51761288/62897908 [00:18<00:03, 2847429.65it/s]"
     ]
    },
    {
     "name": "stdout",
     "output_type": "stream",
     "text": [
      "NONE\n",
      "NONE\n",
      "NONE\n",
      "NONE\n",
      "NONE\n",
      "NONE\n",
      "NONE\n",
      "NONE\n",
      "NONE\n",
      "NONE\n",
      "NONE\n",
      "NONE\n",
      "NONE\n",
      "NONE\n",
      "NONE\n",
      "NONE\n",
      "NONE\n",
      "NONE\n",
      "NONE\n",
      "SOMME\n",
      "TN\n",
      "-\n",
      "-\n",
      "RD\n",
      "ST\n",
      "LOBEL\n",
      "Q\n",
      "KINGS\n",
      "ZIP\n",
      "37/82\n",
      "378/2\n"
     ]
    },
    {
     "name": "stderr",
     "output_type": "stream",
     "text": [
      " 83%|█████████████████████▋    | 52358586/62897908 [00:19<00:03, 2897366.91it/s]"
     ]
    },
    {
     "name": "stdout",
     "output_type": "stream",
     "text": [
      "385O6\n",
      "TN\n",
      "373O3\n",
      "TN\n",
      "TN\n",
      "TN\n",
      "CLAIB\n",
      "VILLA\n",
      "NEW T\n"
     ]
    },
    {
     "name": "stderr",
     "output_type": "stream",
     "text": [
      " 99%|█████████████████████████▋| 62256396/62897908 [00:22<00:00, 2852570.04it/s]"
     ]
    },
    {
     "name": "stdout",
     "output_type": "stream",
     "text": [
      "Acme\n",
      "Acme\n",
      "Acme\n",
      "Acme\n"
     ]
    },
    {
     "name": "stderr",
     "output_type": "stream",
     "text": [
      "100%|██████████████████████████| 62897908/62897908 [00:22<00:00, 2756049.59it/s]\n"
     ]
    },
    {
     "name": "stdout",
     "output_type": "stream",
     "text": [
      "OUT\n",
      "OUT\n"
     ]
    }
   ],
   "source": [
    "l = []\n",
    "\n",
    "for zip in tqdm(list(tdf['Zip_Code'])):\n",
    "    try:\n",
    "        num = str(int(float(zip)))\n",
    "    except:\n",
    "        print(zip)\n",
    "        num = None\n",
    "    l.append(num)"
   ]
  },
  {
   "cell_type": "code",
   "execution_count": 30,
   "id": "de4e8c1e",
   "metadata": {},
   "outputs": [],
   "source": [
    "tdf['Zip_Code'] = l"
   ]
  },
  {
   "cell_type": "code",
   "execution_count": 32,
   "id": "bfbd5983",
   "metadata": {},
   "outputs": [],
   "source": [
    "tdf = tdf[tdf['Zip_Code']!= None] # removing all incorrect zip codes from the NAD"
   ]
  },
  {
   "cell_type": "code",
   "execution_count": 33,
   "id": "100d7d9c",
   "metadata": {},
   "outputs": [],
   "source": [
    "tdf['Address'] = tdf['Add_Number'] + ' ' + tdf['StreetName'] + ' ' + tdf['State'] + ' ' + tdf['Zip_Code']"
   ]
  },
  {
   "cell_type": "code",
   "execution_count": null,
   "id": "3c865b0c",
   "metadata": {},
   "outputs": [],
   "source": [
    "len(df['State'].unique())"
   ]
  },
  {
   "cell_type": "code",
   "execution_count": null,
   "id": "706612b1",
   "metadata": {},
   "outputs": [],
   "source": [
    "len(tdf['State'].unique())"
   ]
  },
  {
   "cell_type": "code",
   "execution_count": 34,
   "id": "8c57643b",
   "metadata": {},
   "outputs": [],
   "source": [
    "tdf.rename(columns={\n",
    "    'State': 'state', \n",
    "    'County': 'county', \n",
    "    'Zip_Code': 'zip',\n",
    "    'Add_Number': 'add_number',\n",
    "    'StreetName': 'street_name',\n",
    "    'Longitude': 'longitude',\n",
    "    'Latitude': 'latitude',\n",
    "    'Address': 'address',\n",
    "}, inplace=True)"
   ]
  },
  {
   "cell_type": "code",
   "execution_count": 36,
   "id": "669699d1",
   "metadata": {},
   "outputs": [
    {
     "data": {
      "text/html": [
       "<div>\n",
       "<style scoped>\n",
       "    .dataframe tbody tr th:only-of-type {\n",
       "        vertical-align: middle;\n",
       "    }\n",
       "\n",
       "    .dataframe tbody tr th {\n",
       "        vertical-align: top;\n",
       "    }\n",
       "\n",
       "    .dataframe thead th {\n",
       "        text-align: right;\n",
       "    }\n",
       "</style>\n",
       "<table border=\"1\" class=\"dataframe\">\n",
       "  <thead>\n",
       "    <tr style=\"text-align: right;\">\n",
       "      <th></th>\n",
       "      <th>state</th>\n",
       "      <th>county</th>\n",
       "      <th>zip</th>\n",
       "      <th>add_number</th>\n",
       "      <th>street_name</th>\n",
       "      <th>longitude</th>\n",
       "      <th>latitude</th>\n",
       "      <th>address</th>\n",
       "      <th>zip_num</th>\n",
       "    </tr>\n",
       "  </thead>\n",
       "  <tbody>\n",
       "    <tr>\n",
       "      <th>0</th>\n",
       "      <td>AZ</td>\n",
       "      <td>Coconino</td>\n",
       "      <td>86336</td>\n",
       "      <td>95</td>\n",
       "      <td>LYNX</td>\n",
       "      <td>-111.771770637</td>\n",
       "      <td>34.8280627940001</td>\n",
       "      <td>95 LYNX AZ 86336</td>\n",
       "      <td>False</td>\n",
       "    </tr>\n",
       "    <tr>\n",
       "      <th>1</th>\n",
       "      <td>AZ</td>\n",
       "      <td>Coconino</td>\n",
       "      <td>86336</td>\n",
       "      <td>33</td>\n",
       "      <td>EAGLE</td>\n",
       "      <td>-111.769395183</td>\n",
       "      <td>34.828455976</td>\n",
       "      <td>33 EAGLE AZ 86336</td>\n",
       "      <td>False</td>\n",
       "    </tr>\n",
       "    <tr>\n",
       "      <th>2</th>\n",
       "      <td>AZ</td>\n",
       "      <td>Coconino</td>\n",
       "      <td>86336</td>\n",
       "      <td>141</td>\n",
       "      <td>VISTA BONITA</td>\n",
       "      <td>-111.777281707</td>\n",
       "      <td>34.828623958</td>\n",
       "      <td>141 VISTA BONITA AZ 86336</td>\n",
       "      <td>False</td>\n",
       "    </tr>\n",
       "    <tr>\n",
       "      <th>3</th>\n",
       "      <td>AZ</td>\n",
       "      <td>Coconino</td>\n",
       "      <td>86336</td>\n",
       "      <td>109</td>\n",
       "      <td>BADGER</td>\n",
       "      <td>-111.775765885</td>\n",
       "      <td>34.8291778600001</td>\n",
       "      <td>109 BADGER AZ 86336</td>\n",
       "      <td>False</td>\n",
       "    </tr>\n",
       "    <tr>\n",
       "      <th>4</th>\n",
       "      <td>AZ</td>\n",
       "      <td>Coconino</td>\n",
       "      <td>86336</td>\n",
       "      <td>30</td>\n",
       "      <td>FAWN</td>\n",
       "      <td>-111.773383133</td>\n",
       "      <td>34.824991696</td>\n",
       "      <td>30 FAWN AZ 86336</td>\n",
       "      <td>False</td>\n",
       "    </tr>\n",
       "    <tr>\n",
       "      <th>...</th>\n",
       "      <td>...</td>\n",
       "      <td>...</td>\n",
       "      <td>...</td>\n",
       "      <td>...</td>\n",
       "      <td>...</td>\n",
       "      <td>...</td>\n",
       "      <td>...</td>\n",
       "      <td>...</td>\n",
       "      <td>...</td>\n",
       "    </tr>\n",
       "    <tr>\n",
       "      <th>104</th>\n",
       "      <td>PA</td>\n",
       "      <td>Westmoreland</td>\n",
       "      <td>15601</td>\n",
       "      <td>605</td>\n",
       "      <td>Farview</td>\n",
       "      <td>-79.52236881714968</td>\n",
       "      <td>40.290077006924825</td>\n",
       "      <td>605 Farview PA 15601</td>\n",
       "      <td>False</td>\n",
       "    </tr>\n",
       "    <tr>\n",
       "      <th>105</th>\n",
       "      <td>PA</td>\n",
       "      <td>Westmoreland</td>\n",
       "      <td>15601</td>\n",
       "      <td>607</td>\n",
       "      <td>Farview</td>\n",
       "      <td>-79.52241451804144</td>\n",
       "      <td>40.29008212001564</td>\n",
       "      <td>607 Farview PA 15601</td>\n",
       "      <td>False</td>\n",
       "    </tr>\n",
       "    <tr>\n",
       "      <th>106</th>\n",
       "      <td>PA</td>\n",
       "      <td>Westmoreland</td>\n",
       "      <td>15601</td>\n",
       "      <td>597</td>\n",
       "      <td>Farview</td>\n",
       "      <td>-79.52211734366738</td>\n",
       "      <td>40.290106697381</td>\n",
       "      <td>597 Farview PA 15601</td>\n",
       "      <td>False</td>\n",
       "    </tr>\n",
       "    <tr>\n",
       "      <th>553</th>\n",
       "      <td>PA</td>\n",
       "      <td>Westmoreland</td>\n",
       "      <td>15601</td>\n",
       "      <td>598</td>\n",
       "      <td>Farview</td>\n",
       "      <td>-79.52401315183624</td>\n",
       "      <td>40.29069422586329</td>\n",
       "      <td>598 Farview PA 15601</td>\n",
       "      <td>False</td>\n",
       "    </tr>\n",
       "    <tr>\n",
       "      <th>864</th>\n",
       "      <td>PA</td>\n",
       "      <td>Westmoreland</td>\n",
       "      <td>15668</td>\n",
       "      <td>5288</td>\n",
       "      <td>Ashbaugh</td>\n",
       "      <td>-79.63702065133478</td>\n",
       "      <td>40.487673757227135</td>\n",
       "      <td>5288 Ashbaugh PA 15668</td>\n",
       "      <td>False</td>\n",
       "    </tr>\n",
       "  </tbody>\n",
       "</table>\n",
       "<p>62897908 rows × 9 columns</p>\n",
       "</div>"
      ],
      "text/plain": [
       "    state        county    zip add_number   street_name           longitude  \\\n",
       "0      AZ      Coconino  86336         95          LYNX      -111.771770637   \n",
       "1      AZ      Coconino  86336         33         EAGLE      -111.769395183   \n",
       "2      AZ      Coconino  86336        141  VISTA BONITA      -111.777281707   \n",
       "3      AZ      Coconino  86336        109        BADGER      -111.775765885   \n",
       "4      AZ      Coconino  86336         30          FAWN      -111.773383133   \n",
       "..    ...           ...    ...        ...           ...                 ...   \n",
       "104    PA  Westmoreland  15601        605       Farview  -79.52236881714968   \n",
       "105    PA  Westmoreland  15601        607       Farview  -79.52241451804144   \n",
       "106    PA  Westmoreland  15601        597       Farview  -79.52211734366738   \n",
       "553    PA  Westmoreland  15601        598       Farview  -79.52401315183624   \n",
       "864    PA  Westmoreland  15668       5288      Ashbaugh  -79.63702065133478   \n",
       "\n",
       "               latitude                    address  zip_num  \n",
       "0      34.8280627940001           95 LYNX AZ 86336    False  \n",
       "1          34.828455976          33 EAGLE AZ 86336    False  \n",
       "2          34.828623958  141 VISTA BONITA AZ 86336    False  \n",
       "3      34.8291778600001        109 BADGER AZ 86336    False  \n",
       "4          34.824991696           30 FAWN AZ 86336    False  \n",
       "..                  ...                        ...      ...  \n",
       "104  40.290077006924825       605 Farview PA 15601    False  \n",
       "105   40.29008212001564       607 Farview PA 15601    False  \n",
       "106     40.290106697381       597 Farview PA 15601    False  \n",
       "553   40.29069422586329       598 Farview PA 15601    False  \n",
       "864  40.487673757227135     5288 Ashbaugh PA 15668    False  \n",
       "\n",
       "[62897908 rows x 9 columns]"
      ]
     },
     "execution_count": 36,
     "metadata": {},
     "output_type": "execute_result"
    }
   ],
   "source": [
    "tdf"
   ]
  },
  {
   "cell_type": "code",
   "execution_count": 2,
   "id": "76017899",
   "metadata": {},
   "outputs": [],
   "source": [
    "# tdf = pd.read_csv('../data/nad.csv.xz')"
   ]
  },
  {
   "cell_type": "code",
   "execution_count": 3,
   "id": "4e85327f",
   "metadata": {},
   "outputs": [],
   "source": [
    "del tdf['zip_num']"
   ]
  },
  {
   "cell_type": "code",
   "execution_count": 6,
   "id": "0671411e",
   "metadata": {},
   "outputs": [],
   "source": [
    "counties = list(tdf['county'].unique())"
   ]
  },
  {
   "cell_type": "code",
   "execution_count": 8,
   "id": "649399b2",
   "metadata": {},
   "outputs": [
    {
     "name": "stderr",
     "output_type": "stream",
     "text": [
      "100%|█████████████████████████████████████| 1082/1082 [3:03:55<00:00, 10.20s/it]\n"
     ]
    }
   ],
   "source": [
    "for county in tqdm(counties):\n",
    "    pdf = tdf[tdf['county'] == county]\n",
    "    state = list(pdf['state'].unique())[0]\n",
    "    pdf.to_csv('../data/%s_%s.csv.xz' % (state, county), index=False)"
   ]
  }
 ],
 "metadata": {
  "kernelspec": {
   "display_name": "Python 3 (ipykernel)",
   "language": "python",
   "name": "python3"
  },
  "language_info": {
   "codemirror_mode": {
    "name": "ipython",
    "version": 3
   },
   "file_extension": ".py",
   "mimetype": "text/x-python",
   "name": "python",
   "nbconvert_exporter": "python",
   "pygments_lexer": "ipython3",
   "version": "3.10.7"
  }
 },
 "nbformat": 4,
 "nbformat_minor": 5
}
