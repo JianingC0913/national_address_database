{
 "cells": [
  {
   "cell_type": "code",
   "execution_count": null,
   "id": "790c5da0",
   "metadata": {},
   "outputs": [],
   "source": [
    "import pandas as pd\n",
    "import io\n",
    "from tqdm import tqdm\n",
    "from time import sleep\n",
    "import numpy as np\n",
    "import requests\n",
    "import math\n",
    "import json\n",
    "import linecache\n",
    "import os"
   ]
  },
  {
   "cell_type": "code",
   "execution_count": 2,
   "id": "0e2e78a7",
   "metadata": {},
   "outputs": [],
   "source": [
    "filepath = '../data/NAD_r11.txt' # too large to push onto Git, but is part of the download from here: https://nationaladdressdata.s3.amazonaws.com/NAD_r12_TXT.zip"
   ]
  },
  {
   "cell_type": "code",
   "execution_count": 3,
   "id": "1a19771a",
   "metadata": {},
   "outputs": [
    {
     "name": "stdout",
     "output_type": "stream",
     "text": [
      "OID,State,County,Inc_Muni,Uninc_Comm,Nbrhd_Comm,Post_Comm,Zip_Code,Plus_4,Bulk_Zip,Bulk_Plus4,StN_PreMod,StN_PreDir,StN_PreTyp,StN_PreSep,StreetName,StN_PosTyp,StN_PosDir,StN_PosMod,AddNum_Pre,Add_Number,AddNum_Suf,LandmkPart,LandmkName,Building,Floor,Unit,Room,Addtl_Loc,Milepost,Longitude,Latitude,NatGrid_Coord,GUID,Addr_Type,Placement,Source,AddAuth,UniqWithin,LastUpdate,Effective,Expired\n",
      "\n"
     ]
    }
   ],
   "source": [
    "first_line = None\n",
    "\n",
    "with open(filepath) as f:\n",
    "    first_line = f.readline()\n",
    "\n",
    "print(first_line)"
   ]
  },
  {
   "cell_type": "code",
   "execution_count": 4,
   "id": "b4e2c3dc",
   "metadata": {},
   "outputs": [],
   "source": [
    "import warnings\n",
    "warnings.filterwarnings('ignore')"
   ]
  },
  {
   "cell_type": "markdown",
   "id": "189dbd0b",
   "metadata": {},
   "source": [
    "# Load cleaning function"
   ]
  },
  {
   "cell_type": "code",
   "execution_count": 5,
   "id": "590f2127",
   "metadata": {},
   "outputs": [],
   "source": [
    "def clean_df(dc):\n",
    "    def check_int(val):\n",
    "        num = None\n",
    "        try:\n",
    "            num = str(int(float(val)))\n",
    "        except Exception as e: print(e)\n",
    "        return num\n",
    "\n",
    "    dc = dc.replace('nan', '')\n",
    "    dc = dc.fillna('')   \n",
    "    dc = dc[dc['Zip_Code'] != 'nan']\n",
    "    dc = dc[dc['Zip_Code'] != '']\n",
    "    dc = dc.apply(lambda x: x.astype(str).str.lower()) # convert everything lower case\n",
    "\n",
    "    # cleaning zip code\n",
    "    dc['Zip_Code'] = dc['Zip_Code'].apply(lambda x: check_int(x))\n",
    "\n",
    "    # removing invalid zip rows\n",
    "    dc = dc[dc['Zip_Code'].notnull()]\n",
    "    return dc"
   ]
  },
  {
   "cell_type": "code",
   "execution_count": 6,
   "id": "98fa280d",
   "metadata": {},
   "outputs": [],
   "source": [
    "def translate_lines(first_line, lines, ids):    \n",
    "    # Given csv lines for a data frame, save it to a given name given state and county\n",
    "    df = pd.read_csv(io.StringIO(first_line + lines), low_memory=False)\n",
    "    df = df[['State', 'County', 'Zip_Code', 'Post_Comm', 'Add_Number', 'StN_PreMod', 'StN_PreDir', 'StN_PreTyp', 'StN_PreSep', 'StreetName', 'StN_PosTyp', 'StN_PosDir', 'StN_PosMod', 'Longitude', 'Latitude']]\n",
    "    df = df.astype(str)   \n",
    "\n",
    "    df = clean_df(df)\n",
    "\n",
    "    # constructing address\n",
    "    df['Prefix'] = df['Add_Number'] + ' ' + df['StN_PreMod'] + ' '+ df['StN_PreDir'] + ' '+ df['StN_PreTyp'] + ' '+ df['StN_PreSep'] + ' '+ df['StreetName'] + ' '+ df['StN_PosTyp'] + ' '+ df['StN_PosDir'] + ' '+ df['StN_PosMod']\n",
    "    df['Suffix'] = ','+df['Post_Comm'] + ','+ df['State'] + ',' +df['Zip_Code']\n",
    "    df['Prefix'] = df['Prefix'].apply(lambda x: \" \".join(x.split()))\n",
    "    df['Suffix'] = df['Suffix'].apply(lambda x: \" \".join(x.split()))\n",
    "    df['Address'] = df['Prefix'] + df['Suffix']    \n",
    "\n",
    "    # rename the columns\n",
    "    df.rename(columns={\n",
    "        'State': 'state', \n",
    "        'County': 'county', \n",
    "        'Zip_Code': 'zip',\n",
    "        'Add_Number': 'add_number',\n",
    "        'StreetName': 'street_name',\n",
    "        'Longitude': 'longitude',\n",
    "        'Latitude': 'latitude',\n",
    "        'Address': 'address',\n",
    "    }, inplace=True)\n",
    "\n",
    "    # Remove unecessary columns\n",
    "    df = df[['state', 'county', 'zip', 'longitude', 'latitude', 'address']]\n",
    "    df['id'] = df['state'] + '_' + df['county']\n",
    "    df['id'] = df['id'].apply(lambda x: x.replace(' ', '_'))\n",
    "    ids|= set(df['id'].unique())\n",
    "    return df\n",
    "\n",
    "#     # Save to a compressed csv\n",
    "#     filename = '../data/%s_%s.csv.xz' % (state, county.replace(' ', '_'))\n",
    "#     # print('Saving to: ', filename)\n",
    "#     df.to_csv(filename, index=False)\n",
    "#     sc[state] = '%s_%s.csv.xz' % (state, county)"
   ]
  },
  {
   "cell_type": "markdown",
   "id": "f5803a7d",
   "metadata": {},
   "source": [
    "# Parse state county until a new one, then save the data frame and go next"
   ]
  },
  {
   "cell_type": "code",
   "execution_count": 7,
   "id": "01beb7d5",
   "metadata": {
    "scrolled": true
   },
   "outputs": [
    {
     "name": "stderr",
     "output_type": "stream",
     "text": [
      "  5%|█▍                           | 3420686/67357690 [00:37<11:57, 89131.66it/s]"
     ]
    },
    {
     "name": "stdout",
     "output_type": "stream",
     "text": [
      "could not convert string to float: 'ia'\n"
     ]
    },
    {
     "name": "stderr",
     "output_type": "stream",
     "text": [
      "  6%|█▊                           | 4180838/67357690 [00:46<11:48, 89223.89it/s]"
     ]
    },
    {
     "name": "stdout",
     "output_type": "stream",
     "text": [
      "could not convert string to float: '5-156'\n"
     ]
    },
    {
     "name": "stderr",
     "output_type": "stream",
     "text": [
      " 17%|████▊                       | 11627327/67357690 [02:06<09:59, 92919.04it/s]"
     ]
    },
    {
     "name": "stdout",
     "output_type": "stream",
     "text": [
      "could not convert string to float: 'mo'\n",
      "could not convert string to float: 'mo'\n",
      "could not convert string to float: 'mo'\n",
      "could not convert string to float: 'mo'\n",
      "could not convert string to float: 'mo'\n"
     ]
    },
    {
     "name": "stderr",
     "output_type": "stream",
     "text": [
      " 28%|███████▉                    | 19013804/67357690 [03:28<08:13, 97892.32it/s]"
     ]
    },
    {
     "name": "stdout",
     "output_type": "stream",
     "text": [
      "could not convert string to float: '42718`'\n",
      "could not convert string to float: '9-971'\n"
     ]
    },
    {
     "name": "stderr",
     "output_type": "stream",
     "text": [
      " 28%|███████▉                    | 19089525/67357690 [03:29<08:26, 95331.14it/s]"
     ]
    },
    {
     "name": "stdout",
     "output_type": "stream",
     "text": [
      "could not convert string to float: 'alban'\n",
      "could not convert string to float: 'sburg'\n"
     ]
    },
    {
     "name": "stderr",
     "output_type": "stream",
     "text": [
      " 29%|███████▊                   | 19368875/67357690 [03:31<07:04, 113145.72it/s]"
     ]
    },
    {
     "name": "stdout",
     "output_type": "stream",
     "text": [
      "could not convert string to float: '42718`'\n"
     ]
    },
    {
     "name": "stderr",
     "output_type": "stream",
     "text": [
      " 30%|████████▌                   | 20509103/67357690 [03:44<08:27, 92249.38it/s]"
     ]
    },
    {
     "name": "stdout",
     "output_type": "stream",
     "text": [
      "could not convert string to float: 'md'\n"
     ]
    },
    {
     "name": "stderr",
     "output_type": "stream",
     "text": [
      " 32%|████████▉                   | 21479297/67357690 [03:54<08:08, 93876.83it/s]"
     ]
    },
    {
     "name": "stdout",
     "output_type": "stream",
     "text": [
      "could not convert string to float: 'rkpt'\n",
      "could not convert string to float: 'rkpt'\n",
      "could not convert string to float: 'rkpt'\n",
      "could not convert string to float: 'rkpt'\n",
      "could not convert string to float: 'rkpt'\n",
      "could not convert string to float: 'rkpt'\n",
      "could not convert string to float: 'rkpt'\n",
      "could not convert string to float: 'rkpt'\n",
      "could not convert string to float: 'rkpt'\n"
     ]
    },
    {
     "name": "stderr",
     "output_type": "stream",
     "text": [
      " 36%|█████████▉                  | 24024806/67357690 [04:19<07:56, 90942.80it/s]"
     ]
    },
    {
     "name": "stdout",
     "output_type": "stream",
     "text": [
      "could not convert string to float: 'lames'\n"
     ]
    },
    {
     "name": "stderr",
     "output_type": "stream",
     "text": [
      " 36%|█████████▋                 | 24304291/67357690 [04:22<06:48, 105463.92it/s]"
     ]
    },
    {
     "name": "stdout",
     "output_type": "stream",
     "text": [
      "could not convert string to float: 'texas'\n"
     ]
    },
    {
     "name": "stderr",
     "output_type": "stream",
     "text": [
      " 37%|██████████▍                 | 25220592/67357690 [04:32<07:02, 99841.56it/s]"
     ]
    },
    {
     "name": "stdout",
     "output_type": "stream",
     "text": [
      "could not convert string to float: 'tx'\n"
     ]
    },
    {
     "name": "stderr",
     "output_type": "stream",
     "text": [
      " 40%|██████████▊                | 26927059/67357690 [04:50<05:33, 121165.61it/s]"
     ]
    },
    {
     "name": "stdout",
     "output_type": "stream",
     "text": [
      "could not convert string to float: '766hh'\n",
      "could not convert string to float: '766hh'\n"
     ]
    },
    {
     "name": "stderr",
     "output_type": "stream",
     "text": [
      " 40%|███████████▎                | 27265454/67357690 [04:53<07:12, 92700.28it/s]"
     ]
    },
    {
     "name": "stdout",
     "output_type": "stream",
     "text": [
      "could not convert string to float: 'keene'\n",
      "could not convert string to float: 'keene'\n",
      "could not convert string to float: 'keene'\n",
      "could not convert string to float: 'keene'\n"
     ]
    },
    {
     "name": "stderr",
     "output_type": "stream",
     "text": [
      " 41%|██████████▉                | 27410483/67357690 [04:55<05:53, 113025.38it/s]"
     ]
    },
    {
     "name": "stdout",
     "output_type": "stream",
     "text": [
      "could not convert string to float: 'maban'\n",
      "could not convert string to float: 'kaufm'\n",
      "could not convert string to float: '<null'\n",
      "could not convert string to float: 'terre'\n",
      "could not convert string to float: 'maban'\n",
      "could not convert string to float: 'kemp'\n"
     ]
    },
    {
     "name": "stderr",
     "output_type": "stream",
     "text": [
      " 41%|███████████                | 27655532/67357690 [04:57<06:16, 105405.57it/s]"
     ]
    },
    {
     "name": "stdout",
     "output_type": "stream",
     "text": [
      "could not convert string to float: '78/60'\n",
      "could not convert string to float: '78/60'\n"
     ]
    },
    {
     "name": "stderr",
     "output_type": "stream",
     "text": [
      " 41%|███████████▏               | 27943380/67357690 [05:00<05:15, 124729.58it/s]"
     ]
    },
    {
     "name": "stdout",
     "output_type": "stream",
     "text": [
      "could not convert string to float: 'tilde'\n"
     ]
    },
    {
     "name": "stderr",
     "output_type": "stream",
     "text": [
      " 42%|███████████▎               | 28067392/67357690 [05:01<06:27, 101497.11it/s]"
     ]
    },
    {
     "name": "stdout",
     "output_type": "stream",
     "text": [
      "could not convert string to float: 'sunse'\n",
      "could not convert string to float: 'nocon'\n"
     ]
    },
    {
     "name": "stderr",
     "output_type": "stream",
     "text": [
      " 42%|███████████▉                | 28590719/67357690 [05:06<06:29, 99623.65it/s]"
     ]
    },
    {
     "name": "stdout",
     "output_type": "stream",
     "text": [
      "could not convert string to float: 'azle'\n",
      "could not convert string to float: 'azle'\n",
      "could not convert string to float: 'azle'\n",
      "could not convert string to float: 'azle'\n",
      "could not convert string to float: 'azle'\n",
      "could not convert string to float: 'azle'\n",
      "could not convert string to float: 'azle'\n",
      "could not convert string to float: 'azle'\n",
      "could not convert string to float: 'azle'\n",
      "could not convert string to float: 'azle'\n",
      "could not convert string to float: 'azle'\n",
      "could not convert string to float: 'azle'\n",
      "could not convert string to float: 'azle'\n",
      "could not convert string to float: 'azle'\n",
      "could not convert string to float: 'azle'\n",
      "could not convert string to float: 'azle'\n",
      "could not convert string to float: 'azle'\n",
      "could not convert string to float: 'azle'\n",
      "could not convert string to float: 'azle'\n",
      "could not convert string to float: 'azle'\n",
      "could not convert string to float: 'azle'\n",
      "could not convert string to float: 'mills'\n",
      "could not convert string to float: 'azle'\n",
      "could not convert string to float: 'azle'\n",
      "could not convert string to float: 'whitt'\n",
      "could not convert string to float: 'aledo'\n",
      "could not convert string to float: 'aledo'\n",
      "could not convert string to float: 'aledo'\n"
     ]
    },
    {
     "name": "stderr",
     "output_type": "stream",
     "text": [
      " 43%|███████████▉                | 28670735/67357690 [05:07<06:48, 94661.80it/s]"
     ]
    },
    {
     "name": "stdout",
     "output_type": "stream",
     "text": [
      "could not convert string to float: 'tx'\n"
     ]
    },
    {
     "name": "stderr",
     "output_type": "stream",
     "text": [
      " 43%|███████████▋               | 29006647/67357690 [05:11<06:17, 101515.37it/s]"
     ]
    },
    {
     "name": "stdout",
     "output_type": "stream",
     "text": [
      "could not convert string to float: 'tx'\n"
     ]
    },
    {
     "name": "stderr",
     "output_type": "stream",
     "text": [
      " 45%|████████████▏              | 30396752/67357690 [05:23<05:52, 104776.03it/s]"
     ]
    },
    {
     "name": "stdout",
     "output_type": "stream",
     "text": [
      "could not convert string to float: 'gilme'\n"
     ]
    },
    {
     "name": "stderr",
     "output_type": "stream",
     "text": [
      " 45%|████████████▋               | 30467069/67357690 [05:24<06:13, 98756.75it/s]"
     ]
    },
    {
     "name": "stdout",
     "output_type": "stream",
     "text": [
      "could not convert string to float: 'edgew'\n"
     ]
    },
    {
     "name": "stderr",
     "output_type": "stream",
     "text": [
      " 46%|████████████▉               | 31101221/67357690 [05:31<06:34, 91916.30it/s]"
     ]
    },
    {
     "name": "stdout",
     "output_type": "stream",
     "text": [
      "could not convert string to float: 'wink'\n",
      "could not convert string to float: 'wink'\n",
      "could not convert string to float: 'wise'\n",
      "could not convert string to float: 'boyd'\n",
      "could not convert string to float: 'bridg'\n",
      "could not convert string to float: 'parad'\n"
     ]
    },
    {
     "name": "stderr",
     "output_type": "stream",
     "text": [
      " 46%|████████████▉               | 31141229/67357690 [05:31<06:26, 93610.59it/s]"
     ]
    },
    {
     "name": "stdout",
     "output_type": "stream",
     "text": [
      "could not convert string to float: 'parad'\n"
     ]
    },
    {
     "name": "stderr",
     "output_type": "stream",
     "text": [
      " 46%|████████████▉               | 31171235/67357690 [05:32<06:14, 96606.47it/s]"
     ]
    },
    {
     "name": "stdout",
     "output_type": "stream",
     "text": [
      "could not convert string to float: 'quitm'\n",
      "could not convert string to float: 'lovin'\n"
     ]
    },
    {
     "name": "stderr",
     "output_type": "stream",
     "text": [
      " 46%|████████████▌              | 31196506/67357690 [05:32<06:00, 100184.00it/s]"
     ]
    },
    {
     "name": "stdout",
     "output_type": "stream",
     "text": [
      "could not convert string to float: 'texas'\n"
     ]
    },
    {
     "name": "stderr",
     "output_type": "stream",
     "text": [
      " 68%|██████████████████▎        | 45569386/67357690 [08:16<03:36, 100707.57it/s]"
     ]
    },
    {
     "name": "stdout",
     "output_type": "stream",
     "text": [
      "could not convert string to float: '**!)!'\n"
     ]
    },
    {
     "name": "stderr",
     "output_type": "stream",
     "text": [
      " 68%|██████████████████▉         | 45619212/67357690 [08:16<03:56, 91921.30it/s]"
     ]
    },
    {
     "name": "stdout",
     "output_type": "stream",
     "text": [
      "could not convert string to float: 'dulce'\n"
     ]
    },
    {
     "name": "stderr",
     "output_type": "stream",
     "text": [
      " 68%|███████████████████▏        | 46124225/67357690 [08:22<03:44, 94708.92it/s]"
     ]
    },
    {
     "name": "stdout",
     "output_type": "stream",
     "text": [
      "could not convert string to float: 'c'\n"
     ]
    },
    {
     "name": "stderr",
     "output_type": "stream",
     "text": [
      " 69%|███████████████████▎        | 46359272/67357690 [08:24<03:46, 92557.13it/s]"
     ]
    },
    {
     "name": "stdout",
     "output_type": "stream",
     "text": [
      "could not convert string to float: 'c'\n",
      "could not convert string to float: 'nm'\n",
      "could not convert string to float: 'nm'\n",
      "could not convert string to float: 'nm'\n",
      "could not convert string to float: '87oo6'\n"
     ]
    },
    {
     "name": "stderr",
     "output_type": "stream",
     "text": [
      " 69%|███████████████████▎        | 46424285/67357690 [08:25<03:43, 93502.96it/s]"
     ]
    },
    {
     "name": "stdout",
     "output_type": "stream",
     "text": [
      "could not convert string to float: 'vabel'\n",
      "could not convert string to float: 'vabel'\n",
      "could not convert string to float: 'vabel'\n",
      "could not convert string to float: 'vabel'\n",
      "could not convert string to float: 'vabel'\n",
      "could not convert string to float: 'vabel'\n",
      "could not convert string to float: 'vabel'\n",
      "could not convert string to float: 'vabel'\n",
      "could not convert string to float: 'vabel'\n",
      "could not convert string to float: 'vabel'\n",
      "could not convert string to float: 'vabel'\n",
      "could not convert string to float: 'vabel'\n",
      "could not convert string to float: 'vabel'\n",
      "could not convert string to float: 'vabel'\n",
      "could not convert string to float: 'vabel'\n",
      "could not convert string to float: 'vabel'\n",
      "could not convert string to float: 'vabel'\n",
      "could not convert string to float: 'vabel'\n",
      "could not convert string to float: 'vabel'\n",
      "could not convert string to float: 'vabel'\n",
      "could not convert string to float: 'vabel'\n",
      "could not convert string to float: 'vabel'\n",
      "could not convert string to float: 'vabel'\n",
      "could not convert string to float: 'vabel'\n"
     ]
    },
    {
     "name": "stderr",
     "output_type": "stream",
     "text": [
      " 78%|█████████████████████▉      | 52845569/67357690 [09:38<02:37, 92043.34it/s]"
     ]
    },
    {
     "name": "stdout",
     "output_type": "stream",
     "text": [
      "could not convert string to float: 'rd'\n",
      "could not convert string to float: 'rd'\n",
      "could not convert string to float: 'maple'\n",
      "could not convert string to float: 'rd'\n",
      "could not convert string to float: 'y'\n",
      "could not convert string to float: 'y'\n",
      "could not convert string to float: 'tn'\n",
      "could not convert string to float: 'lake'\n"
     ]
    },
    {
     "name": "stderr",
     "output_type": "stream",
     "text": [
      " 79%|██████████████████████      | 52955591/67357690 [09:39<02:35, 92414.97it/s]"
     ]
    },
    {
     "name": "stdout",
     "output_type": "stream",
     "text": [
      "could not convert string to float: 'roger'\n"
     ]
    },
    {
     "name": "stderr",
     "output_type": "stream",
     "text": [
      " 79%|██████████████████████▏     | 53230646/67357690 [09:42<02:34, 91436.69it/s]"
     ]
    },
    {
     "name": "stdout",
     "output_type": "stream",
     "text": [
      "could not convert string to float: 'fire'\n",
      "could not convert string to float: '383/5'\n"
     ]
    },
    {
     "name": "stderr",
     "output_type": "stream",
     "text": [
      " 80%|██████████████████████▎     | 53775755/67357690 [09:48<02:29, 91151.31it/s]"
     ]
    },
    {
     "name": "stdout",
     "output_type": "stream",
     "text": [
      "could not convert string to float: 'churc'\n"
     ]
    },
    {
     "name": "stderr",
     "output_type": "stream",
     "text": [
      " 80%|██████████████████████▍     | 53945789/67357690 [09:50<02:27, 90971.61it/s]"
     ]
    },
    {
     "name": "stdout",
     "output_type": "stream",
     "text": [
      "could not convert string to float: 'tn'\n"
     ]
    },
    {
     "name": "stderr",
     "output_type": "stream",
     "text": [
      " 80%|██████████████████████▍     | 54015803/67357690 [09:50<02:24, 92463.46it/s]"
     ]
    },
    {
     "name": "stdout",
     "output_type": "stream",
     "text": [
      "could not convert string to float: 'tn'\n"
     ]
    },
    {
     "name": "stderr",
     "output_type": "stream",
     "text": [
      " 80%|██████████████████████▍     | 54105821/67357690 [09:51<02:23, 92444.75it/s]"
     ]
    },
    {
     "name": "stdout",
     "output_type": "stream",
     "text": [
      "could not convert string to float: '38-06'\n"
     ]
    },
    {
     "name": "stderr",
     "output_type": "stream",
     "text": [
      " 81%|██████████████████████▋     | 54725945/67357690 [09:58<02:19, 90540.91it/s]"
     ]
    },
    {
     "name": "stdout",
     "output_type": "stream",
     "text": [
      "could not convert string to float: '38-68'\n"
     ]
    },
    {
     "name": "stderr",
     "output_type": "stream",
     "text": [
      " 81%|██████████████████████▊     | 54775955/67357690 [09:59<02:19, 90432.96it/s]"
     ]
    },
    {
     "name": "stdout",
     "output_type": "stream",
     "text": [
      "could not convert string to float: 'tn'\n",
      "could not convert string to float: 'tn'\n",
      "could not convert string to float: 'tn'\n"
     ]
    },
    {
     "name": "stderr",
     "output_type": "stream",
     "text": [
      " 82%|██████████████████████▉     | 55086017/67357690 [10:02<02:14, 90995.13it/s]"
     ]
    },
    {
     "name": "stdout",
     "output_type": "stream",
     "text": [
      "could not convert string to float: '383 5'\n"
     ]
    },
    {
     "name": "stderr",
     "output_type": "stream",
     "text": [
      " 82%|██████████████████████▉     | 55166033/67357690 [10:03<02:14, 90526.40it/s]"
     ]
    },
    {
     "name": "stdout",
     "output_type": "stream",
     "text": [
      "could not convert string to float: '37-58'\n"
     ]
    },
    {
     "name": "stderr",
     "output_type": "stream",
     "text": [
      " 82%|███████████████████████     | 55386077/67357690 [10:06<02:12, 90445.04it/s]"
     ]
    },
    {
     "name": "stdout",
     "output_type": "stream",
     "text": [
      "could not convert string to float: 'none'\n",
      "could not convert string to float: 'none'\n",
      "could not convert string to float: 'none'\n",
      "could not convert string to float: 'none'\n",
      "could not convert string to float: 'none'\n",
      "could not convert string to float: 'none'\n",
      "could not convert string to float: 'none'\n",
      "could not convert string to float: 'none'\n",
      "could not convert string to float: 'none'\n",
      "could not convert string to float: 'none'\n"
     ]
    },
    {
     "name": "stderr",
     "output_type": "stream",
     "text": [
      " 82%|███████████████████████     | 55416083/67357690 [10:06<02:13, 89424.02it/s]"
     ]
    },
    {
     "name": "stdout",
     "output_type": "stream",
     "text": [
      "could not convert string to float: 'none'\n",
      "could not convert string to float: 'none'\n",
      "could not convert string to float: 'none'\n",
      "could not convert string to float: 'none'\n",
      "could not convert string to float: 'none'\n",
      "could not convert string to float: 'none'\n",
      "could not convert string to float: 'none'\n"
     ]
    },
    {
     "name": "stderr",
     "output_type": "stream",
     "text": [
      " 82%|███████████████████████     | 55436087/67357690 [10:06<02:12, 89705.82it/s]"
     ]
    },
    {
     "name": "stdout",
     "output_type": "stream",
     "text": [
      "could not convert string to float: 'none'\n",
      "could not convert string to float: 'none'\n"
     ]
    },
    {
     "name": "stderr",
     "output_type": "stream",
     "text": [
      " 83%|███████████████████████▏    | 55656131/67357690 [10:09<02:07, 91472.92it/s]"
     ]
    },
    {
     "name": "stdout",
     "output_type": "stream",
     "text": [
      "could not convert string to float: 'somme'\n"
     ]
    },
    {
     "name": "stderr",
     "output_type": "stream",
     "text": [
      " 83%|███████████████████████▏    | 55686137/67357690 [10:09<02:07, 91394.71it/s]"
     ]
    },
    {
     "name": "stdout",
     "output_type": "stream",
     "text": [
      "could not convert string to float: 'tn'\n"
     ]
    },
    {
     "name": "stderr",
     "output_type": "stream",
     "text": [
      " 83%|███████████████████████▏    | 55711142/67357690 [10:09<02:01, 96135.20it/s]"
     ]
    },
    {
     "name": "stdout",
     "output_type": "stream",
     "text": [
      "could not convert string to float: '-'\n",
      "could not convert string to float: '-'\n",
      "could not convert string to float: 'rd'\n",
      "could not convert string to float: 'st'\n"
     ]
    },
    {
     "name": "stderr",
     "output_type": "stream",
     "text": [
      " 83%|███████████████████████▏    | 55741148/67357690 [10:09<02:05, 92613.98it/s]"
     ]
    },
    {
     "name": "stdout",
     "output_type": "stream",
     "text": [
      "could not convert string to float: 'lobel'\n"
     ]
    },
    {
     "name": "stderr",
     "output_type": "stream",
     "text": [
      " 83%|███████████████████████▏    | 55786157/67357690 [10:10<01:58, 97296.79it/s]"
     ]
    },
    {
     "name": "stdout",
     "output_type": "stream",
     "text": [
      "could not convert string to float: 'q'\n"
     ]
    },
    {
     "name": "stderr",
     "output_type": "stream",
     "text": [
      " 83%|███████████████████████▏    | 55886177/67357690 [10:11<02:06, 90514.69it/s]"
     ]
    },
    {
     "name": "stdout",
     "output_type": "stream",
     "text": [
      "could not convert string to float: 'kings'\n",
      "could not convert string to float: 'zip'\n"
     ]
    },
    {
     "name": "stderr",
     "output_type": "stream",
     "text": [
      " 83%|███████████████████████▎    | 55936187/67357690 [10:12<02:06, 90496.32it/s]"
     ]
    },
    {
     "name": "stdout",
     "output_type": "stream",
     "text": [
      "could not convert string to float: '37/82'\n",
      "could not convert string to float: '378/2'\n"
     ]
    },
    {
     "name": "stderr",
     "output_type": "stream",
     "text": [
      " 83%|███████████████████████▎    | 56086217/67357690 [10:13<02:02, 91869.38it/s]"
     ]
    },
    {
     "name": "stdout",
     "output_type": "stream",
     "text": [
      "could not convert string to float: '385o6'\n"
     ]
    },
    {
     "name": "stderr",
     "output_type": "stream",
     "text": [
      " 83%|███████████████████████▎    | 56156231/67357690 [10:14<02:01, 92438.24it/s]"
     ]
    },
    {
     "name": "stdout",
     "output_type": "stream",
     "text": [
      "could not convert string to float: 'tn'\n",
      "could not convert string to float: '373o3'\n",
      "could not convert string to float: 'tn'\n",
      "could not convert string to float: 'tn'\n",
      "could not convert string to float: 'tn'\n"
     ]
    },
    {
     "name": "stderr",
     "output_type": "stream",
     "text": [
      " 84%|███████████████████████▍    | 56326265/67357690 [10:16<02:00, 91788.11it/s]"
     ]
    },
    {
     "name": "stdout",
     "output_type": "stream",
     "text": [
      "could not convert string to float: 'claib'\n",
      "could not convert string to float: 'villa'\n"
     ]
    },
    {
     "name": "stderr",
     "output_type": "stream",
     "text": [
      " 84%|███████████████████████▍    | 56426285/67357690 [10:17<02:01, 90046.44it/s]"
     ]
    },
    {
     "name": "stdout",
     "output_type": "stream",
     "text": [
      "could not convert string to float: 'new t'\n"
     ]
    },
    {
     "name": "stderr",
     "output_type": "stream",
     "text": [
      " 98%|███████████████████████████▍| 65888177/67357690 [12:00<00:14, 98875.01it/s]"
     ]
    },
    {
     "name": "stdout",
     "output_type": "stream",
     "text": [
      "could not convert string to float: 'acme'\n",
      "could not convert string to float: 'acme'\n",
      "could not convert string to float: 'acme'\n",
      "could not convert string to float: 'acme'\n"
     ]
    },
    {
     "name": "stderr",
     "output_type": "stream",
     "text": [
      "100%|███████████████████████████▉| 67088417/67357690 [12:12<00:02, 92483.46it/s]"
     ]
    },
    {
     "name": "stdout",
     "output_type": "stream",
     "text": [
      "could not convert string to float: 'out'\n",
      "could not convert string to float: 'out'\n"
     ]
    },
    {
     "name": "stderr",
     "output_type": "stream",
     "text": [
      "100%|███████████████████████████▉| 67357689/67357690 [12:15<00:00, 91610.99it/s]\n"
     ]
    }
   ],
   "source": [
    "dfs = []\n",
    "ids = set()\n",
    "steps = 5000\n",
    "total_lines = 67357690\n",
    "with tqdm(total=int(total_lines)) as pbar:\n",
    "    with open(filepath) as f:\n",
    "        first_line = f.readline() # skip first line\n",
    "        i = 0\n",
    "        lines = ''\n",
    "        for line in f:\n",
    "            # pbar.set_description('df length: %s' % len(dfs))\n",
    "            pbar.update(1)\n",
    "            lines += line\n",
    "            \n",
    "            if i > steps:\n",
    "                df = translate_lines(first_line, lines, ids)\n",
    "                dfs.append(df)\n",
    "                i =0\n",
    "                lines = ''\n",
    "            i += 1\n",
    "pbar.close()      \n",
    "# Capture the leftovers\n",
    "remain_df = pd.read_csv(io.StringIO(first_line + lines), low_memory=False)\n",
    "dfs.append(remain_df)"
   ]
  },
  {
   "cell_type": "code",
   "execution_count": 8,
   "id": "4507ea4b",
   "metadata": {},
   "outputs": [
    {
     "name": "stdout",
     "output_type": "stream",
     "text": [
      "13469\n"
     ]
    }
   ],
   "source": [
    "print(len(dfs))"
   ]
  },
  {
   "cell_type": "code",
   "execution_count": 9,
   "id": "28db25a5",
   "metadata": {},
   "outputs": [
    {
     "data": {
      "text/html": [
       "<div>\n",
       "<style scoped>\n",
       "    .dataframe tbody tr th:only-of-type {\n",
       "        vertical-align: middle;\n",
       "    }\n",
       "\n",
       "    .dataframe tbody tr th {\n",
       "        vertical-align: top;\n",
       "    }\n",
       "\n",
       "    .dataframe thead th {\n",
       "        text-align: right;\n",
       "    }\n",
       "</style>\n",
       "<table border=\"1\" class=\"dataframe\">\n",
       "  <thead>\n",
       "    <tr style=\"text-align: right;\">\n",
       "      <th></th>\n",
       "      <th>state</th>\n",
       "      <th>county</th>\n",
       "      <th>zip</th>\n",
       "      <th>longitude</th>\n",
       "      <th>latitude</th>\n",
       "      <th>address</th>\n",
       "      <th>id</th>\n",
       "    </tr>\n",
       "  </thead>\n",
       "  <tbody>\n",
       "    <tr>\n",
       "      <th>0</th>\n",
       "      <td>az</td>\n",
       "      <td>coconino</td>\n",
       "      <td>86336</td>\n",
       "      <td>-111.771770637</td>\n",
       "      <td>34.8280627940001</td>\n",
       "      <td>95 lynx drive,sedona,az,86336</td>\n",
       "      <td>az_coconino</td>\n",
       "    </tr>\n",
       "    <tr>\n",
       "      <th>1</th>\n",
       "      <td>az</td>\n",
       "      <td>coconino</td>\n",
       "      <td>86336</td>\n",
       "      <td>-111.769395183</td>\n",
       "      <td>34.828455976</td>\n",
       "      <td>33 eagle lane,sedona,az,86336</td>\n",
       "      <td>az_coconino</td>\n",
       "    </tr>\n",
       "    <tr>\n",
       "      <th>2</th>\n",
       "      <td>az</td>\n",
       "      <td>coconino</td>\n",
       "      <td>86336</td>\n",
       "      <td>-111.777281707</td>\n",
       "      <td>34.828623958</td>\n",
       "      <td>141 vista bonita drive,sedona,az,86336</td>\n",
       "      <td>az_coconino</td>\n",
       "    </tr>\n",
       "    <tr>\n",
       "      <th>3</th>\n",
       "      <td>az</td>\n",
       "      <td>coconino</td>\n",
       "      <td>86336</td>\n",
       "      <td>-111.775765885</td>\n",
       "      <td>34.8291778600001</td>\n",
       "      <td>109 badger drive,sedona,az,86336</td>\n",
       "      <td>az_coconino</td>\n",
       "    </tr>\n",
       "    <tr>\n",
       "      <th>4</th>\n",
       "      <td>az</td>\n",
       "      <td>coconino</td>\n",
       "      <td>86336</td>\n",
       "      <td>-111.773383133</td>\n",
       "      <td>34.824991696</td>\n",
       "      <td>30 fawn spur,sedona,az,86336</td>\n",
       "      <td>az_coconino</td>\n",
       "    </tr>\n",
       "    <tr>\n",
       "      <th>...</th>\n",
       "      <td>...</td>\n",
       "      <td>...</td>\n",
       "      <td>...</td>\n",
       "      <td>...</td>\n",
       "      <td>...</td>\n",
       "      <td>...</td>\n",
       "      <td>...</td>\n",
       "    </tr>\n",
       "    <tr>\n",
       "      <th>4997</th>\n",
       "      <td>az</td>\n",
       "      <td>gila</td>\n",
       "      <td>85541</td>\n",
       "      <td>-111.303339925</td>\n",
       "      <td>34.3157243200001</td>\n",
       "      <td>297 west patriot drive,payson,az,85541</td>\n",
       "      <td>az_gila</td>\n",
       "    </tr>\n",
       "    <tr>\n",
       "      <th>4998</th>\n",
       "      <td>az</td>\n",
       "      <td>gila</td>\n",
       "      <td>85541</td>\n",
       "      <td>-111.302823657</td>\n",
       "      <td>34.3163382070001</td>\n",
       "      <td>282 west patriot drive,payson,az,85541</td>\n",
       "      <td>az_gila</td>\n",
       "    </tr>\n",
       "    <tr>\n",
       "      <th>4999</th>\n",
       "      <td>az</td>\n",
       "      <td>gila</td>\n",
       "      <td>85541</td>\n",
       "      <td>-111.218377852</td>\n",
       "      <td>34.2650574410001</td>\n",
       "      <td>139 north pinon road,star valley,az,85541</td>\n",
       "      <td>az_gila</td>\n",
       "    </tr>\n",
       "    <tr>\n",
       "      <th>5000</th>\n",
       "      <td>az</td>\n",
       "      <td>gila</td>\n",
       "      <td>85554</td>\n",
       "      <td>-110.98229521</td>\n",
       "      <td>34.107269951</td>\n",
       "      <td>311 north seeley road,young,az,85554</td>\n",
       "      <td>az_gila</td>\n",
       "    </tr>\n",
       "    <tr>\n",
       "      <th>5001</th>\n",
       "      <td>az</td>\n",
       "      <td>gila</td>\n",
       "      <td>85554</td>\n",
       "      <td>-110.928528741</td>\n",
       "      <td>34.143848259</td>\n",
       "      <td>405 south homestead road,young,az,85554</td>\n",
       "      <td>az_gila</td>\n",
       "    </tr>\n",
       "  </tbody>\n",
       "</table>\n",
       "<p>5002 rows × 7 columns</p>\n",
       "</div>"
      ],
      "text/plain": [
       "     state    county    zip       longitude          latitude  \\\n",
       "0       az  coconino  86336  -111.771770637  34.8280627940001   \n",
       "1       az  coconino  86336  -111.769395183      34.828455976   \n",
       "2       az  coconino  86336  -111.777281707      34.828623958   \n",
       "3       az  coconino  86336  -111.775765885  34.8291778600001   \n",
       "4       az  coconino  86336  -111.773383133      34.824991696   \n",
       "...    ...       ...    ...             ...               ...   \n",
       "4997    az      gila  85541  -111.303339925  34.3157243200001   \n",
       "4998    az      gila  85541  -111.302823657  34.3163382070001   \n",
       "4999    az      gila  85541  -111.218377852  34.2650574410001   \n",
       "5000    az      gila  85554   -110.98229521      34.107269951   \n",
       "5001    az      gila  85554  -110.928528741      34.143848259   \n",
       "\n",
       "                                        address           id  \n",
       "0                 95 lynx drive,sedona,az,86336  az_coconino  \n",
       "1                 33 eagle lane,sedona,az,86336  az_coconino  \n",
       "2        141 vista bonita drive,sedona,az,86336  az_coconino  \n",
       "3              109 badger drive,sedona,az,86336  az_coconino  \n",
       "4                  30 fawn spur,sedona,az,86336  az_coconino  \n",
       "...                                         ...          ...  \n",
       "4997     297 west patriot drive,payson,az,85541      az_gila  \n",
       "4998     282 west patriot drive,payson,az,85541      az_gila  \n",
       "4999  139 north pinon road,star valley,az,85541      az_gila  \n",
       "5000       311 north seeley road,young,az,85554      az_gila  \n",
       "5001    405 south homestead road,young,az,85554      az_gila  \n",
       "\n",
       "[5002 rows x 7 columns]"
      ]
     },
     "execution_count": 9,
     "metadata": {},
     "output_type": "execute_result"
    }
   ],
   "source": [
    "dfs[0]"
   ]
  },
  {
   "cell_type": "code",
   "execution_count": 15,
   "id": "03edf44c",
   "metadata": {},
   "outputs": [
    {
     "data": {
      "text/plain": [
       "Index(['state', 'county', 'zip', 'longitude', 'latitude', 'address', 'id'], dtype='object')"
      ]
     },
     "execution_count": 15,
     "metadata": {},
     "output_type": "execute_result"
    }
   ],
   "source": [
    "dfs[0].columns"
   ]
  },
  {
   "cell_type": "code",
   "execution_count": 16,
   "id": "b7b4f52b",
   "metadata": {
    "scrolled": false
   },
   "outputs": [
    {
     "name": "stderr",
     "output_type": "stream",
     "text": [
      "Saving tn_putnam: 100%|███████████████████| 1585/1585 [3:28:19<00:00,  7.89s/it]\n"
     ]
    }
   ],
   "source": [
    "pbar = tqdm(ids)\n",
    "\n",
    "for uid in pbar:\n",
    "    udf = []\n",
    "    for df in dfs:\n",
    "        if not 'id' in df.columns:\n",
    "            continue \n",
    "        # assuming 'id' in the data frame\n",
    "        cut = df[df['id'] == uid]\n",
    "        if not cut.empty:\n",
    "            udf.append(cut)\n",
    "\n",
    "    pbar.set_description('Parsing %s' % uid)\n",
    "    if len(udf) > 0:\n",
    "        pbar.set_description('Saving %s' % uid)        \n",
    "        udf = pd.concat(udf)\n",
    "        udf.to_csv('../data/%s.csv.xz' % uid, index=False)"
   ]
  },
  {
   "cell_type": "code",
   "execution_count": 13,
   "id": "a81fde9a",
   "metadata": {},
   "outputs": [],
   "source": [
    "# check that there are no spaces in the identifier\n",
    "for uid in ids:\n",
    "    if ' ' in uid:\n",
    "        print(uid)"
   ]
  },
  {
   "cell_type": "code",
   "execution_count": 27,
   "id": "f9a83d2c",
   "metadata": {},
   "outputs": [
    {
     "data": {
      "text/plain": [
       "1585"
      ]
     },
     "execution_count": 27,
     "metadata": {},
     "output_type": "execute_result"
    }
   ],
   "source": [
    "len(ids)"
   ]
  },
  {
   "cell_type": "code",
   "execution_count": 28,
   "id": "381a0380",
   "metadata": {},
   "outputs": [
    {
     "name": "stdout",
     "output_type": "stream",
     "text": [
      "True\n"
     ]
    }
   ],
   "source": [
    "with open('../data/state_county.json','w') as f:\n",
    "    json.dump(list(ids), f)\n",
    "\n",
    "print(os.path.isfile('../data/state_county.json'))"
   ]
  },
  {
   "cell_type": "markdown",
   "id": "a7ad8ef4",
   "metadata": {},
   "source": [
    "# Sample verify address"
   ]
  },
  {
   "cell_type": "code",
   "execution_count": 17,
   "id": "1f24b435",
   "metadata": {},
   "outputs": [],
   "source": [
    "# url = 'https://geocoding.geo.census.gov/geocoder/locations/addressbatch'\n",
    "# s_buf = io.StringIO()\n",
    "# # saving a data frame to a buffer (same as with a regular file):\n",
    "# # s = '\\n'.join(list(df['Address']))\n",
    "# # print(s)\n",
    "# s_buf = io.StringIO()\n",
    "# # saving a data frame to a buffer (same as with a regular file):\n",
    "# df['Address'].to_csv(s_buf, index=False)\n",
    "# df['Address'].to_csv('../data/temp_addr.csv', index=False)\n",
    "# print(df['Address'])"
   ]
  },
  {
   "cell_type": "code",
   "execution_count": 18,
   "id": "e0ed8e92",
   "metadata": {},
   "outputs": [],
   "source": [
    "# test_address = df['address'].sample(1).values[0]\n",
    "# print(test_address)\n",
    "# r = requests.get('https://geocoding.geo.census.gov/geocoder/locations/onelineaddress?address=%s&benchmark=2020&format=json' % test_address).json()\n",
    "# print(r)  \n",
    "# print(len(r['result']['addressMatches']) > 0)"
   ]
  },
  {
   "cell_type": "code",
   "execution_count": 19,
   "id": "91080917",
   "metadata": {},
   "outputs": [],
   "source": [
    "# # https://geocoding.geo.census.gov/geocoder/Geocoding_Services_API.pdf\n",
    "# # curl --form addressFile=@localfile.csv --form benchmark=2020 https://geocoding.geo.census.gov/geocoder/locations/addressbatch --output geocoderesult.csv\n",
    "# # https://curlconverter.com/\n",
    "\n",
    "# url = 'https://geocoding.geo.census.gov/geocoder/locations/addressbatch'\n",
    "# files = {\n",
    "#     'addressFile': open('../data/temp_addr.csv', 'r'),\n",
    "#     'benchmark': (None, '2020'),\n",
    "# }\n",
    "\n",
    "# response = requests.post('https://geocoding.geo.census.gov/geocoder/locations/addressbatch', files=files)\n",
    "# print(response.content)\n",
    "# print(response)"
   ]
  },
  {
   "cell_type": "code",
   "execution_count": 20,
   "id": "3c865b0c",
   "metadata": {},
   "outputs": [],
   "source": [
    "# len(df['State'].unique()) # check number of different states"
   ]
  }
 ],
 "metadata": {
  "kernelspec": {
   "display_name": "Python 3 (ipykernel)",
   "language": "python",
   "name": "python3"
  },
  "language_info": {
   "codemirror_mode": {
    "name": "ipython",
    "version": 3
   },
   "file_extension": ".py",
   "mimetype": "text/x-python",
   "name": "python",
   "nbconvert_exporter": "python",
   "pygments_lexer": "ipython3",
   "version": "3.10.7"
  }
 },
 "nbformat": 4,
 "nbformat_minor": 5
}
