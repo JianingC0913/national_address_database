{
 "cells": [
  {
   "cell_type": "code",
   "execution_count": 1,
   "metadata": {},
   "outputs": [],
   "source": [
    "import pandas as pd\n",
    "import os\n",
    "from tqdm import tqdm\n",
    "import requests\n",
    "from bs4 import BeautifulSoup\n",
    "import geopandas as gpd\n",
    "import contextily as ctx\n",
    "import matplotlib as mpl\n",
    "# from pandarallel import pandarallel"
   ]
  },
  {
   "cell_type": "code",
   "execution_count": null,
   "metadata": {},
   "outputs": [],
   "source": [
    "# # def get_county_report(county_fip):\n",
    "# county_address_dir = '../data/county_address'\n",
    "# for file in tqdm(os.listdir(county_address_dir)):\n",
    "#     test_county= os.path.join(county_address_dir, file)\n",
    "#     tdf = pd.read_csv(test_county)\n",
    "#     null_count = tdf[tdf['address'].isnull()].size\n",
    "#     if null_count > 0:\n",
    "#         print(file)"
   ]
  },
  {
   "cell_type": "markdown",
   "metadata": {},
   "source": [
    "# Generate Empty (Go through each county. If there is a file, join on geoid, if there is not, create empty columns)"
   ]
  },
  {
   "cell_type": "code",
   "execution_count": 2,
   "metadata": {},
   "outputs": [
    {
     "name": "stdout",
     "output_type": "stream",
     "text": [
      "3221\n"
     ]
    }
   ],
   "source": [
    "prefix = 'https://www2.census.gov/geo/tiger/TIGER2020PL/LAYER/TABBLOCK/2020/'\n",
    "r= requests.get(prefix)\n",
    "soup = BeautifulSoup(r.content)\n",
    "valid_zips = {}\n",
    "\n",
    "for a in soup.find_all('a', href=True):\n",
    "    if not '.zip' in a['href'] or len(a['href'])!= 28: # filter for the entire state ones\n",
    "        continue\n",
    "    valid_zips[a['href'].split('_')[2]] = prefix+a['href']\n",
    "print(len(valid_zips))"
   ]
  },
  {
   "cell_type": "markdown",
   "metadata": {},
   "source": [
    "# Plot Jefferson County (01073)"
   ]
  },
  {
   "cell_type": "code",
   "execution_count": null,
   "metadata": {},
   "outputs": [],
   "source": [
    "jc_df = pd.read_csv('../data/county_address/01073.csv.xz', dtype={'geoid20':object})\n",
    "county_df = gpd.read_file(valid_zips['01073'])"
   ]
  },
  {
   "cell_type": "code",
   "execution_count": null,
   "metadata": {},
   "outputs": [],
   "source": [
    "jc_df = jc_df.rename(columns={'geoid20': 'GEOID20'})\n",
    "jc_df"
   ]
  },
  {
   "cell_type": "code",
   "execution_count": null,
   "metadata": {},
   "outputs": [],
   "source": [
    "df = pd.merge(jc_df,county_df[['GEOID20']],on='GEOID20', how='right')\n",
    "df"
   ]
  },
  {
   "cell_type": "code",
   "execution_count": null,
   "metadata": {},
   "outputs": [],
   "source": [
    "df[df['address'].isnull()]"
   ]
  },
  {
   "cell_type": "code",
   "execution_count": null,
   "metadata": {},
   "outputs": [],
   "source": [
    "# county_df.crs= 4326\n",
    "# ax = county_df.plot(figsize=(10, 10), alpha=0.7, column='address_count', legend=True)\n",
    "# ctx.add_basemap(ax, zoom=10, crs=county_df.crs.to_string(), source=ctx.providers.Stamen.Toner)"
   ]
  },
  {
   "cell_type": "code",
   "execution_count": 24,
   "metadata": {},
   "outputs": [
    {
     "name": "stderr",
     "output_type": "stream",
     "text": [
      "100%|██████████| 3221/3221 [28:24<00:00,  1.89it/s]  \n"
     ]
    }
   ],
   "source": [
    "for county in tqdm(valid_zips):\n",
    "    if os.path.isfile('../data/address/%s.csv.xz' % county):\n",
    "        # skip if file already exists\n",
    "        continue\n",
    "        \n",
    "    county_shape_df = gpd.read_file(valid_zips[county])    \n",
    "    if os.path.isfile('../data/county_address/%s.csv.xz' % county):\n",
    "        cdf = pd.read_csv('../data/county_address/%s.csv.xz' % county, dtype={'geoid20':object})\n",
    "        cdf = cdf.rename(columns={'geoid20': 'GEOID20'})\n",
    "        mdf = pd.merge(cdf,county_shape_df[['GEOID20']],on='GEOID20', how='right') # create empty rows based on authority shape fiels\n",
    "    else:\n",
    "        mdf = county_shape_df[['GEOID20']]\n",
    "        mdf = mdf.reindex(columns= ['address', 'GEOID20', 'longitude', 'latitude'])\n",
    "        assert mdf.size > 16\n",
    "    mdf.to_csv('../data/address/%s.csv.xz' % county, index =False)"
   ]
  },
  {
   "cell_type": "markdown",
   "metadata": {},
   "source": [
    "# Generate Report"
   ]
  },
  {
   "cell_type": "code",
   "execution_count": 10,
   "metadata": {},
   "outputs": [
    {
     "name": "stderr",
     "output_type": "stream",
     "text": [
      "100%|██████████| 3221/3221 [32:54<00:00,  1.63it/s]  \n"
     ]
    }
   ],
   "source": [
    "# # Do some clean up\n",
    "# d = '../data/address'\n",
    "# for file in tqdm(os.listdir(d)):\n",
    "#     df = pd.read_csv(os.path.join(d,file))\n",
    "#     if not set(df.columns) == set(['address', 'GEOID20', 'longitude', 'latitude']):    \n",
    "#         df = df.reindex(columns= ['address', 'GEOID20', 'longitude', 'latitude'])\n",
    "#         df.to_csv(os.path.join(d,file), index =False)\n",
    "\n",
    "# #     print(df.columns)\n",
    "# #     null_count =  df[df['address'].isnull()].size\n",
    "# #     if null_count > 0:\n",
    "# #         print(file)"
   ]
  },
  {
   "cell_type": "code",
   "execution_count": 25,
   "metadata": {},
   "outputs": [
    {
     "name": "stderr",
     "output_type": "stream",
     "text": [
      "100%|██████████| 3221/3221 [02:07<00:00, 25.26it/s]\n"
     ]
    }
   ],
   "source": [
    "# Do some clean up\n",
    "d = '../data/address'\n",
    "for file in tqdm(os.listdir(d)):\n",
    "    df = pd.read_csv(os.path.join(d,file))\n",
    "    assert set(df.columns) == set(['address', 'GEOID20', 'longitude', 'latitude'])\n",
    "    if df.size < 20:\n",
    "        print('%s: %s' % (file, df.size))\n",
    "        print(df)\n",
    "        os.remove(os.path.join(d,file)) \n",
    "#     df = df.reindex(columns= ['address', 'GEOID20', 'longitude', 'latitude'])\n",
    "#     df.to_csv(os.path.join(d,file), index =False)"
   ]
  },
  {
   "cell_type": "markdown",
   "metadata": {},
   "source": [
    "# Generate Report"
   ]
  },
  {
   "cell_type": "code",
   "execution_count": 30,
   "metadata": {},
   "outputs": [
    {
     "name": "stderr",
     "output_type": "stream",
     "text": [
      "100%|██████████| 3221/3221 [02:56<00:00, 18.29it/s]\n"
     ]
    },
    {
     "data": {
      "text/html": [
       "<div>\n",
       "<style scoped>\n",
       "    .dataframe tbody tr th:only-of-type {\n",
       "        vertical-align: middle;\n",
       "    }\n",
       "\n",
       "    .dataframe tbody tr th {\n",
       "        vertical-align: top;\n",
       "    }\n",
       "\n",
       "    .dataframe thead th {\n",
       "        text-align: right;\n",
       "    }\n",
       "</style>\n",
       "<table border=\"1\" class=\"dataframe\">\n",
       "  <thead>\n",
       "    <tr style=\"text-align: right;\">\n",
       "      <th></th>\n",
       "      <th>fip</th>\n",
       "      <th>perc_coverage</th>\n",
       "      <th>address_median</th>\n",
       "      <th>address_std</th>\n",
       "    </tr>\n",
       "  </thead>\n",
       "  <tbody>\n",
       "    <tr>\n",
       "      <th>0</th>\n",
       "      <td>29085.csv.xz</td>\n",
       "      <td>0.546448</td>\n",
       "      <td>1.0</td>\n",
       "      <td>0.000000</td>\n",
       "    </tr>\n",
       "    <tr>\n",
       "      <th>0</th>\n",
       "      <td>09001.csv.xz</td>\n",
       "      <td>99.519541</td>\n",
       "      <td>1.0</td>\n",
       "      <td>0.391420</td>\n",
       "    </tr>\n",
       "    <tr>\n",
       "      <th>0</th>\n",
       "      <td>29067.csv.xz</td>\n",
       "      <td>0.279135</td>\n",
       "      <td>1.0</td>\n",
       "      <td>0.000000</td>\n",
       "    </tr>\n",
       "    <tr>\n",
       "      <th>0</th>\n",
       "      <td>29073.csv.xz</td>\n",
       "      <td>22.005571</td>\n",
       "      <td>1.0</td>\n",
       "      <td>0.643564</td>\n",
       "    </tr>\n",
       "    <tr>\n",
       "      <th>0</th>\n",
       "      <td>21185.csv.xz</td>\n",
       "      <td>0.000000</td>\n",
       "      <td>NaN</td>\n",
       "      <td>NaN</td>\n",
       "    </tr>\n",
       "    <tr>\n",
       "      <th>...</th>\n",
       "      <td>...</td>\n",
       "      <td>...</td>\n",
       "      <td>...</td>\n",
       "      <td>...</td>\n",
       "    </tr>\n",
       "    <tr>\n",
       "      <th>0</th>\n",
       "      <td>20115.csv.xz</td>\n",
       "      <td>93.413874</td>\n",
       "      <td>1.0</td>\n",
       "      <td>0.104286</td>\n",
       "    </tr>\n",
       "    <tr>\n",
       "      <th>0</th>\n",
       "      <td>29131.csv.xz</td>\n",
       "      <td>17.873652</td>\n",
       "      <td>1.0</td>\n",
       "      <td>1.762397</td>\n",
       "    </tr>\n",
       "    <tr>\n",
       "      <th>0</th>\n",
       "      <td>31013.csv.xz</td>\n",
       "      <td>0.000000</td>\n",
       "      <td>NaN</td>\n",
       "      <td>NaN</td>\n",
       "    </tr>\n",
       "    <tr>\n",
       "      <th>0</th>\n",
       "      <td>31103.csv.xz</td>\n",
       "      <td>0.000000</td>\n",
       "      <td>NaN</td>\n",
       "      <td>NaN</td>\n",
       "    </tr>\n",
       "    <tr>\n",
       "      <th>0</th>\n",
       "      <td>13283.csv.xz</td>\n",
       "      <td>21.790541</td>\n",
       "      <td>1.0</td>\n",
       "      <td>0.000000</td>\n",
       "    </tr>\n",
       "  </tbody>\n",
       "</table>\n",
       "<p>3221 rows × 4 columns</p>\n",
       "</div>"
      ],
      "text/plain": [
       "             fip  perc_coverage  address_median  address_std\n",
       "0   29085.csv.xz       0.546448             1.0     0.000000\n",
       "0   09001.csv.xz      99.519541             1.0     0.391420\n",
       "0   29067.csv.xz       0.279135             1.0     0.000000\n",
       "0   29073.csv.xz      22.005571             1.0     0.643564\n",
       "0   21185.csv.xz       0.000000             NaN          NaN\n",
       "..           ...            ...             ...          ...\n",
       "0   20115.csv.xz      93.413874             1.0     0.104286\n",
       "0   29131.csv.xz      17.873652             1.0     1.762397\n",
       "0   31013.csv.xz       0.000000             NaN          NaN\n",
       "0   31103.csv.xz       0.000000             NaN          NaN\n",
       "0   13283.csv.xz      21.790541             1.0     0.000000\n",
       "\n",
       "[3221 rows x 4 columns]"
      ]
     },
     "execution_count": 30,
     "metadata": {},
     "output_type": "execute_result"
    }
   ],
   "source": [
    "# Do some clean up\n",
    "d = '../data/address'\n",
    "dfs= []\n",
    "for file in tqdm(os.listdir(d)):\n",
    "    df = pd.read_csv(os.path.join(d,file))\n",
    "    report_d = {\n",
    "        'fip': file,\n",
    "        'perc_coverage': (df[~df['address'].isnull()].size/df.size)*100, \n",
    "        'address_median': df['address'].value_counts().median(),\n",
    "        'address_std':df['address'].value_counts().std(),     \n",
    "    }\n",
    "    report_df = pd.DataFrame(report_d, index=[0])\n",
    "    dfs.append(report_df)\n",
    "\n",
    "final_df = pd.concat(dfs)\n",
    "final_df"
   ]
  },
  {
   "cell_type": "code",
   "execution_count": null,
   "metadata": {},
   "outputs": [],
   "source": [
    "final_df.sort_values(by=)"
   ]
  }
 ],
 "metadata": {
  "kernelspec": {
   "display_name": "NAD venv",
   "language": "python",
   "name": ".nad_venv"
  },
  "language_info": {
   "codemirror_mode": {
    "name": "ipython",
    "version": 3
   },
   "file_extension": ".py",
   "mimetype": "text/x-python",
   "name": "python",
   "nbconvert_exporter": "python",
   "pygments_lexer": "ipython3",
   "version": "3.10.11"
  }
 },
 "nbformat": 4,
 "nbformat_minor": 4
}
