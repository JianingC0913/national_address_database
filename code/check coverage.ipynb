{
 "cells": [
  {
   "cell_type": "code",
   "execution_count": 4,
   "id": "b845237e",
   "metadata": {},
   "outputs": [],
   "source": [
    "import pandas as pd\n",
    "import os"
   ]
  },
  {
   "cell_type": "code",
   "execution_count": 2,
   "id": "6f4f88db",
   "metadata": {},
   "outputs": [],
   "source": [
    "input_filepath = '../data/fips_county.csv'\n",
    "data_dir = '../data/state_county'"
   ]
  },
  {
   "cell_type": "code",
   "execution_count": 12,
   "id": "8a2162ed",
   "metadata": {},
   "outputs": [
    {
     "name": "stdout",
     "output_type": "stream",
     "text": [
      "{'alabama': 0, 'alaska': 6, 'arizona': 93, 'arkansas': 100, 'california': 1, 'colorado': 68, 'connecticut': 88, 'delaware': 75, 'district_of_columbia': 0, 'florida': 10, 'georgia': 0, 'hawaii': 0, 'idaho': 0, 'illinois': 2, 'indiana': 88, 'iowa': 87, 'kansas': 80, 'kentucky': 20, 'louisiana': 10, 'maine': 94, 'maryland': 56, 'massachusetts': 93, 'michigan': 1, 'minnesota': 12, 'mississippi': 0, 'missouri': 19, 'montana': 96, 'nebraska': 0, 'nevada': 0, 'new_hampshire': 0, 'new_jersey': 95, 'new_mexico': 94, 'new_york': 100, 'north_carolina': 98, 'north_dakota': 85, 'ohio': 98, 'oklahoma': 32, 'oregon': 0, 'pennsylvania': 22, 'rhode_island': 83, 'south_carolina': 6, 'south_dakota': 8, 'tennessee': 98, 'texas': 87, 'utah': 100, 'vermont': 93, 'virginia': 97, 'washington': 17, 'west_virginia': 0, 'wisconsin': 89, 'wyoming': 37}\n"
     ]
    }
   ],
   "source": [
    "cdf = pd.read_csv(input_filepath)\n",
    "\n",
    "existing_counties = [\n",
    "    v[:-7] for v in os.listdir(data_dir)\n",
    "]  # assuming .csv.xz, which is 7 characters\n",
    "\n",
    "results = {}\n",
    "\n",
    "for state in cdf[\"state\"]:\n",
    "    sdf = cdf[cdf[\"state\"] == state].copy()\n",
    "    sdf[\"name\"] = sdf[\"abbr\"] + \"_\" + sdf[\"county\"]\n",
    "    sdf['name'] = sdf['name'].apply(lambda x: x.replace('_county', ''))\n",
    "    coverage = sdf[sdf[\"name\"].isin(existing_counties)].copy()\n",
    "    results[state] = int(len(coverage) / len(sdf) *100)\n",
    "\n",
    "print(results)"
   ]
  },
  {
   "cell_type": "code",
   "execution_count": 6,
   "id": "861438d3",
   "metadata": {},
   "outputs": [
    {
     "data": {
      "text/plain": [
       "3171               wy_wyoming\n",
       "3172         wy_albany_county\n",
       "3173       wy_big_horn_county\n",
       "3174       wy_campbell_county\n",
       "3175         wy_carbon_county\n",
       "3176       wy_converse_county\n",
       "3177          wy_crook_county\n",
       "3178        wy_fremont_county\n",
       "3179         wy_goshen_county\n",
       "3180    wy_hot_springs_county\n",
       "3181        wy_johnson_county\n",
       "3182        wy_laramie_county\n",
       "3183        wy_lincoln_county\n",
       "3184        wy_natrona_county\n",
       "3185       wy_niobrara_county\n",
       "3186           wy_park_county\n",
       "3187         wy_platte_county\n",
       "3188       wy_sheridan_county\n",
       "3189       wy_sublette_county\n",
       "3190     wy_sweetwater_county\n",
       "3191          wy_teton_county\n",
       "3192          wy_uinta_county\n",
       "3193       wy_washakie_county\n",
       "3194         wy_weston_county\n",
       "Name: name, dtype: object"
      ]
     },
     "execution_count": 6,
     "metadata": {},
     "output_type": "execute_result"
    }
   ],
   "source": [
    "sdf['name']"
   ]
  },
  {
   "cell_type": "code",
   "execution_count": 8,
   "id": "a19388b7",
   "metadata": {},
   "outputs": [
    {
     "data": {
      "text/plain": [
       "['wy_natrona',\n",
       " 'wy_fremont',\n",
       " 'wy_crook',\n",
       " 'wy_teton',\n",
       " 'wy_albany',\n",
       " 'wy_laramie',\n",
       " 'wy_uinta',\n",
       " 'wy_campbell',\n",
       " 'wy_weston']"
      ]
     },
     "execution_count": 8,
     "metadata": {},
     "output_type": "execute_result"
    }
   ],
   "source": [
    "[w for w in existing_counties if w[:2]=='wy']"
   ]
  }
 ],
 "metadata": {
  "kernelspec": {
   "display_name": "Python 3 (ipykernel)",
   "language": "python",
   "name": "python3"
  },
  "language_info": {
   "codemirror_mode": {
    "name": "ipython",
    "version": 3
   },
   "file_extension": ".py",
   "mimetype": "text/x-python",
   "name": "python",
   "nbconvert_exporter": "python",
   "pygments_lexer": "ipython3",
   "version": "3.10.7"
  }
 },
 "nbformat": 4,
 "nbformat_minor": 5
}
